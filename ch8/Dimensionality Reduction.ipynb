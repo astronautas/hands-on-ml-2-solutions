{
 "cells": [
  {
   "cell_type": "markdown",
   "metadata": {},
   "source": [
    "# Exercises"
   ]
  },
  {
   "cell_type": "code",
   "execution_count": 44,
   "metadata": {
    "scrolled": true
   },
   "outputs": [
    {
     "name": "stdout",
     "output_type": "stream",
     "text": [
      "Collecting jupyter_contrib_nbextensions\n",
      "  Downloading jupyter_contrib_nbextensions-0.5.1-py2.py3-none-any.whl (20.9 MB)\n",
      "\u001b[K     |████████████████████████████████| 20.9 MB 35.9 MB/s eta 0:00:01\n",
      "\u001b[?25hCollecting jupyter-latex-envs>=1.3.8\n",
      "  Downloading jupyter_latex_envs-1.4.6.tar.gz (861 kB)\n",
      "\u001b[K     |████████████████████████████████| 861 kB 36.5 MB/s eta 0:00:01\n",
      "\u001b[?25hRequirement already satisfied: ipython-genutils in /Users/lukas/anaconda3/envs/hands-on-ml/lib/python3.7/site-packages (from jupyter_contrib_nbextensions) (0.2.0)\n",
      "Collecting pyyaml\n",
      "  Using cached PyYAML-5.3.1.tar.gz (269 kB)\n",
      "Requirement already satisfied: notebook>=4.0 in /Users/lukas/anaconda3/envs/hands-on-ml/lib/python3.7/site-packages (from jupyter_contrib_nbextensions) (6.0.3)\n",
      "Requirement already satisfied: nbconvert>=4.2 in /Users/lukas/anaconda3/envs/hands-on-ml/lib/python3.7/site-packages (from jupyter_contrib_nbextensions) (5.6.1)\n",
      "Requirement already satisfied: tornado in /Users/lukas/anaconda3/envs/hands-on-ml/lib/python3.7/site-packages (from jupyter_contrib_nbextensions) (6.0.4)\n",
      "Collecting lxml\n",
      "  Downloading lxml-4.5.1-cp37-cp37m-macosx_10_9_x86_64.whl (4.4 MB)\n",
      "\u001b[K     |████████████████████████████████| 4.4 MB 36.1 MB/s eta 0:00:01\n",
      "\u001b[?25hCollecting jupyter-highlight-selected-word>=0.1.1\n",
      "  Downloading jupyter_highlight_selected_word-0.2.0-py2.py3-none-any.whl (11 kB)\n",
      "Collecting jupyter-contrib-core>=0.3.3\n",
      "  Downloading jupyter_contrib_core-0.3.3-py2.py3-none-any.whl (18 kB)\n",
      "Requirement already satisfied: traitlets>=4.1 in /Users/lukas/anaconda3/envs/hands-on-ml/lib/python3.7/site-packages (from jupyter_contrib_nbextensions) (4.3.3)\n",
      "Requirement already satisfied: jupyter-core in /Users/lukas/anaconda3/envs/hands-on-ml/lib/python3.7/site-packages (from jupyter_contrib_nbextensions) (4.6.3)\n",
      "Collecting jupyter-nbextensions-configurator>=0.4.0\n",
      "  Downloading jupyter_nbextensions_configurator-0.4.1.tar.gz (479 kB)\n",
      "\u001b[K     |████████████████████████████████| 479 kB 31.8 MB/s eta 0:00:01\n",
      "\u001b[?25hRequirement already satisfied: ipython in /Users/lukas/anaconda3/envs/hands-on-ml/lib/python3.7/site-packages (from jupyter-latex-envs>=1.3.8->jupyter_contrib_nbextensions) (7.13.0)\n",
      "Requirement already satisfied: ipykernel in /Users/lukas/anaconda3/envs/hands-on-ml/lib/python3.7/site-packages (from notebook>=4.0->jupyter_contrib_nbextensions) (5.1.4)\n",
      "Requirement already satisfied: terminado>=0.8.1 in /Users/lukas/anaconda3/envs/hands-on-ml/lib/python3.7/site-packages (from notebook>=4.0->jupyter_contrib_nbextensions) (0.8.3)\n",
      "Requirement already satisfied: nbformat in /Users/lukas/anaconda3/envs/hands-on-ml/lib/python3.7/site-packages (from notebook>=4.0->jupyter_contrib_nbextensions) (5.0.4)\n",
      "Requirement already satisfied: pyzmq>=17 in /Users/lukas/anaconda3/envs/hands-on-ml/lib/python3.7/site-packages (from notebook>=4.0->jupyter_contrib_nbextensions) (18.1.1)\n",
      "Requirement already satisfied: jupyter-client>=5.3.4 in /Users/lukas/anaconda3/envs/hands-on-ml/lib/python3.7/site-packages (from notebook>=4.0->jupyter_contrib_nbextensions) (6.1.2)\n",
      "Requirement already satisfied: prometheus-client in /Users/lukas/anaconda3/envs/hands-on-ml/lib/python3.7/site-packages (from notebook>=4.0->jupyter_contrib_nbextensions) (0.7.1)\n",
      "Requirement already satisfied: Send2Trash in /Users/lukas/anaconda3/envs/hands-on-ml/lib/python3.7/site-packages (from notebook>=4.0->jupyter_contrib_nbextensions) (1.5.0)\n",
      "Requirement already satisfied: jinja2 in /Users/lukas/anaconda3/envs/hands-on-ml/lib/python3.7/site-packages (from notebook>=4.0->jupyter_contrib_nbextensions) (2.11.1)\n",
      "Requirement already satisfied: bleach in /Users/lukas/anaconda3/envs/hands-on-ml/lib/python3.7/site-packages (from nbconvert>=4.2->jupyter_contrib_nbextensions) (3.1.4)\n",
      "Requirement already satisfied: mistune<2,>=0.8.1 in /Users/lukas/anaconda3/envs/hands-on-ml/lib/python3.7/site-packages (from nbconvert>=4.2->jupyter_contrib_nbextensions) (0.8.4)\n",
      "Requirement already satisfied: entrypoints>=0.2.2 in /Users/lukas/anaconda3/envs/hands-on-ml/lib/python3.7/site-packages (from nbconvert>=4.2->jupyter_contrib_nbextensions) (0.3)\n",
      "Requirement already satisfied: testpath in /Users/lukas/anaconda3/envs/hands-on-ml/lib/python3.7/site-packages (from nbconvert>=4.2->jupyter_contrib_nbextensions) (0.4.4)\n",
      "Requirement already satisfied: defusedxml in /Users/lukas/anaconda3/envs/hands-on-ml/lib/python3.7/site-packages (from nbconvert>=4.2->jupyter_contrib_nbextensions) (0.6.0)\n",
      "Requirement already satisfied: pygments in /Users/lukas/anaconda3/envs/hands-on-ml/lib/python3.7/site-packages (from nbconvert>=4.2->jupyter_contrib_nbextensions) (2.6.1)\n",
      "Requirement already satisfied: pandocfilters>=1.4.1 in /Users/lukas/anaconda3/envs/hands-on-ml/lib/python3.7/site-packages (from nbconvert>=4.2->jupyter_contrib_nbextensions) (1.4.2)\n",
      "Requirement already satisfied: setuptools in /Users/lukas/anaconda3/envs/hands-on-ml/lib/python3.7/site-packages (from jupyter-contrib-core>=0.3.3->jupyter_contrib_nbextensions) (46.1.3.post20200330)\n",
      "Requirement already satisfied: six in /Users/lukas/anaconda3/envs/hands-on-ml/lib/python3.7/site-packages (from traitlets>=4.1->jupyter_contrib_nbextensions) (1.14.0)\n",
      "Requirement already satisfied: decorator in /Users/lukas/anaconda3/envs/hands-on-ml/lib/python3.7/site-packages (from traitlets>=4.1->jupyter_contrib_nbextensions) (4.4.2)\n",
      "Requirement already satisfied: prompt-toolkit!=3.0.0,!=3.0.1,<3.1.0,>=2.0.0 in /Users/lukas/anaconda3/envs/hands-on-ml/lib/python3.7/site-packages (from ipython->jupyter-latex-envs>=1.3.8->jupyter_contrib_nbextensions) (3.0.4)\n",
      "Requirement already satisfied: appnope; sys_platform == \"darwin\" in /Users/lukas/anaconda3/envs/hands-on-ml/lib/python3.7/site-packages (from ipython->jupyter-latex-envs>=1.3.8->jupyter_contrib_nbextensions) (0.1.0)\n",
      "Requirement already satisfied: jedi>=0.10 in /Users/lukas/anaconda3/envs/hands-on-ml/lib/python3.7/site-packages (from ipython->jupyter-latex-envs>=1.3.8->jupyter_contrib_nbextensions) (0.16.0)\n",
      "Requirement already satisfied: pickleshare in /Users/lukas/anaconda3/envs/hands-on-ml/lib/python3.7/site-packages (from ipython->jupyter-latex-envs>=1.3.8->jupyter_contrib_nbextensions) (0.7.5)\n",
      "Requirement already satisfied: backcall in /Users/lukas/anaconda3/envs/hands-on-ml/lib/python3.7/site-packages (from ipython->jupyter-latex-envs>=1.3.8->jupyter_contrib_nbextensions) (0.1.0)\n",
      "Requirement already satisfied: pexpect; sys_platform != \"win32\" in /Users/lukas/anaconda3/envs/hands-on-ml/lib/python3.7/site-packages (from ipython->jupyter-latex-envs>=1.3.8->jupyter_contrib_nbextensions) (4.8.0)\n",
      "Requirement already satisfied: jsonschema!=2.5.0,>=2.4 in /Users/lukas/anaconda3/envs/hands-on-ml/lib/python3.7/site-packages (from nbformat->notebook>=4.0->jupyter_contrib_nbextensions) (3.2.0)\n",
      "Requirement already satisfied: python-dateutil>=2.1 in /Users/lukas/anaconda3/envs/hands-on-ml/lib/python3.7/site-packages (from jupyter-client>=5.3.4->notebook>=4.0->jupyter_contrib_nbextensions) (2.8.1)\n",
      "Requirement already satisfied: MarkupSafe>=0.23 in /Users/lukas/anaconda3/envs/hands-on-ml/lib/python3.7/site-packages (from jinja2->notebook>=4.0->jupyter_contrib_nbextensions) (1.1.1)\n",
      "Requirement already satisfied: webencodings in /Users/lukas/anaconda3/envs/hands-on-ml/lib/python3.7/site-packages (from bleach->nbconvert>=4.2->jupyter_contrib_nbextensions) (0.5.1)\n",
      "Requirement already satisfied: wcwidth in /Users/lukas/anaconda3/envs/hands-on-ml/lib/python3.7/site-packages (from prompt-toolkit!=3.0.0,!=3.0.1,<3.1.0,>=2.0.0->ipython->jupyter-latex-envs>=1.3.8->jupyter_contrib_nbextensions) (0.1.9)\n",
      "Requirement already satisfied: parso>=0.5.2 in /Users/lukas/anaconda3/envs/hands-on-ml/lib/python3.7/site-packages (from jedi>=0.10->ipython->jupyter-latex-envs>=1.3.8->jupyter_contrib_nbextensions) (0.6.2)\n",
      "Requirement already satisfied: ptyprocess>=0.5 in /Users/lukas/anaconda3/envs/hands-on-ml/lib/python3.7/site-packages (from pexpect; sys_platform != \"win32\"->ipython->jupyter-latex-envs>=1.3.8->jupyter_contrib_nbextensions) (0.6.0)\n",
      "Requirement already satisfied: pyrsistent>=0.14.0 in /Users/lukas/anaconda3/envs/hands-on-ml/lib/python3.7/site-packages (from jsonschema!=2.5.0,>=2.4->nbformat->notebook>=4.0->jupyter_contrib_nbextensions) (0.16.0)\n",
      "Requirement already satisfied: attrs>=17.4.0 in /Users/lukas/anaconda3/envs/hands-on-ml/lib/python3.7/site-packages (from jsonschema!=2.5.0,>=2.4->nbformat->notebook>=4.0->jupyter_contrib_nbextensions) (19.3.0)\n",
      "Requirement already satisfied: importlib-metadata; python_version < \"3.8\" in /Users/lukas/anaconda3/envs/hands-on-ml/lib/python3.7/site-packages (from jsonschema!=2.5.0,>=2.4->nbformat->notebook>=4.0->jupyter_contrib_nbextensions) (1.5.0)\n",
      "Requirement already satisfied: zipp>=0.5 in /Users/lukas/anaconda3/envs/hands-on-ml/lib/python3.7/site-packages (from importlib-metadata; python_version < \"3.8\"->jsonschema!=2.5.0,>=2.4->nbformat->notebook>=4.0->jupyter_contrib_nbextensions) (2.2.0)\n",
      "Building wheels for collected packages: jupyter-latex-envs, pyyaml, jupyter-nbextensions-configurator\n",
      "  Building wheel for jupyter-latex-envs (setup.py) ... \u001b[?25ldone\n",
      "\u001b[?25h  Created wheel for jupyter-latex-envs: filename=jupyter_latex_envs-1.4.6-py2.py3-none-any.whl size=963395 sha256=c7eb87f436755a18a1e0f1d1e96ab4379aebd0ccb47c697c5938c5852da631b5\n",
      "  Stored in directory: /Users/lukas/Library/Caches/pip/wheels/a0/95/26/4cf34fb92765c95fb7851fd447511594bcc3a50e504bd09af9\n",
      "  Building wheel for pyyaml (setup.py) ... \u001b[?25ldone\n",
      "\u001b[?25h  Created wheel for pyyaml: filename=PyYAML-5.3.1-cp37-cp37m-macosx_10_9_x86_64.whl size=44625 sha256=8c68ac743a8501062e9e97a14c1ea96ac515c53d4b8bd488c32534ebb9216a84\n",
      "  Stored in directory: /Users/lukas/Library/Caches/pip/wheels/5e/03/1e/e1e954795d6f35dfc7b637fe2277bff021303bd9570ecea653\n",
      "  Building wheel for jupyter-nbextensions-configurator (setup.py) ... \u001b[?25ldone\n",
      "\u001b[?25h  Created wheel for jupyter-nbextensions-configurator: filename=jupyter_nbextensions_configurator-0.4.1-py2.py3-none-any.whl size=465825 sha256=41bec86fe5ac168b239ff57e170ba1c4ec4dee9bc606d8d34acdde7f1411b23c\n",
      "  Stored in directory: /Users/lukas/Library/Caches/pip/wheels/8d/c4/b5/e4b61f624036f83566580d61f24af7b73180b1361ee1ab3722\n",
      "Successfully built jupyter-latex-envs pyyaml jupyter-nbextensions-configurator\n",
      "Installing collected packages: jupyter-latex-envs, pyyaml, lxml, jupyter-highlight-selected-word, jupyter-contrib-core, jupyter-nbextensions-configurator, jupyter-contrib-nbextensions\n",
      "Successfully installed jupyter-contrib-core-0.3.3 jupyter-contrib-nbextensions-0.5.1 jupyter-highlight-selected-word-0.2.0 jupyter-latex-envs-1.4.6 jupyter-nbextensions-configurator-0.4.1 lxml-4.5.1 pyyaml-5.3.1\n"
     ]
    }
   ],
   "source": [
    "!pip install jupyter_contrib_nbextensions"
   ]
  },
  {
   "cell_type": "code",
   "execution_count": 45,
   "metadata": {
    "scrolled": true
   },
   "outputs": [
    {
     "name": "stdout",
     "output_type": "stream",
     "text": [
      "\u001b[32m[I 20:47:58 InstallContribNbextensionsApp]\u001b[m jupyter contrib nbextension install --user\n",
      "\u001b[32m[I 20:47:58 InstallContribNbextensionsApp]\u001b[m Installing jupyter_contrib_nbextensions nbextension files to jupyter data directory\n",
      "\u001b[32m[I 20:47:58 InstallContribNbextensionsApp]\u001b[m Installing /Users/lukas/anaconda3/envs/hands-on-ml/lib/python3.7/site-packages/jupyter_contrib_nbextensions/nbextensions/rubberband -> rubberband\n",
      "\u001b[32m[I 20:47:58 InstallContribNbextensionsApp]\u001b[m Making directory: /Users/lukas/Library/Jupyter/nbextensions/rubberband/\n",
      "\u001b[32m[I 20:47:58 InstallContribNbextensionsApp]\u001b[m Copying: /Users/lukas/anaconda3/envs/hands-on-ml/lib/python3.7/site-packages/jupyter_contrib_nbextensions/nbextensions/rubberband/icon.png -> /Users/lukas/Library/Jupyter/nbextensions/rubberband/icon.png\n",
      "\u001b[32m[I 20:47:58 InstallContribNbextensionsApp]\u001b[m Copying: /Users/lukas/anaconda3/envs/hands-on-ml/lib/python3.7/site-packages/jupyter_contrib_nbextensions/nbextensions/rubberband/main.css -> /Users/lukas/Library/Jupyter/nbextensions/rubberband/main.css\n",
      "\u001b[32m[I 20:47:58 InstallContribNbextensionsApp]\u001b[m Copying: /Users/lukas/anaconda3/envs/hands-on-ml/lib/python3.7/site-packages/jupyter_contrib_nbextensions/nbextensions/rubberband/readme.md -> /Users/lukas/Library/Jupyter/nbextensions/rubberband/readme.md\n",
      "\u001b[32m[I 20:47:58 InstallContribNbextensionsApp]\u001b[m Copying: /Users/lukas/anaconda3/envs/hands-on-ml/lib/python3.7/site-packages/jupyter_contrib_nbextensions/nbextensions/rubberband/main.js -> /Users/lukas/Library/Jupyter/nbextensions/rubberband/main.js\n",
      "\u001b[32m[I 20:47:58 InstallContribNbextensionsApp]\u001b[m Copying: /Users/lukas/anaconda3/envs/hands-on-ml/lib/python3.7/site-packages/jupyter_contrib_nbextensions/nbextensions/rubberband/rubberband.yaml -> /Users/lukas/Library/Jupyter/nbextensions/rubberband/rubberband.yaml\n",
      "\u001b[32m[I 20:47:58 InstallContribNbextensionsApp]\u001b[m - Validating: \u001b[32mOK\u001b[0m\n",
      "\u001b[32m[I 20:47:58 InstallContribNbextensionsApp]\u001b[m Installing /Users/lukas/anaconda3/envs/hands-on-ml/lib/python3.7/site-packages/jupyter_contrib_nbextensions/nbextensions/scroll_down -> scroll_down\n",
      "\u001b[32m[I 20:47:58 InstallContribNbextensionsApp]\u001b[m Making directory: /Users/lukas/Library/Jupyter/nbextensions/scroll_down/\n",
      "\u001b[32m[I 20:47:58 InstallContribNbextensionsApp]\u001b[m Copying: /Users/lukas/anaconda3/envs/hands-on-ml/lib/python3.7/site-packages/jupyter_contrib_nbextensions/nbextensions/scroll_down/icon.png -> /Users/lukas/Library/Jupyter/nbextensions/scroll_down/icon.png\n",
      "\u001b[32m[I 20:47:58 InstallContribNbextensionsApp]\u001b[m Copying: /Users/lukas/anaconda3/envs/hands-on-ml/lib/python3.7/site-packages/jupyter_contrib_nbextensions/nbextensions/scroll_down/config.yaml -> /Users/lukas/Library/Jupyter/nbextensions/scroll_down/config.yaml\n",
      "\u001b[32m[I 20:47:58 InstallContribNbextensionsApp]\u001b[m Copying: /Users/lukas/anaconda3/envs/hands-on-ml/lib/python3.7/site-packages/jupyter_contrib_nbextensions/nbextensions/scroll_down/readme.md -> /Users/lukas/Library/Jupyter/nbextensions/scroll_down/readme.md\n",
      "\u001b[32m[I 20:47:58 InstallContribNbextensionsApp]\u001b[m Copying: /Users/lukas/anaconda3/envs/hands-on-ml/lib/python3.7/site-packages/jupyter_contrib_nbextensions/nbextensions/scroll_down/main.js -> /Users/lukas/Library/Jupyter/nbextensions/scroll_down/main.js\n",
      "\u001b[32m[I 20:47:58 InstallContribNbextensionsApp]\u001b[m - Validating: \u001b[32mOK\u001b[0m\n",
      "\u001b[32m[I 20:47:58 InstallContribNbextensionsApp]\u001b[m Installing /Users/lukas/anaconda3/envs/hands-on-ml/lib/python3.7/site-packages/jupyter_contrib_nbextensions/nbextensions/hinterland -> hinterland\n",
      "\u001b[32m[I 20:47:58 InstallContribNbextensionsApp]\u001b[m Making directory: /Users/lukas/Library/Jupyter/nbextensions/hinterland/\n",
      "\u001b[32m[I 20:47:58 InstallContribNbextensionsApp]\u001b[m Copying: /Users/lukas/anaconda3/envs/hands-on-ml/lib/python3.7/site-packages/jupyter_contrib_nbextensions/nbextensions/hinterland/hinterland.yaml -> /Users/lukas/Library/Jupyter/nbextensions/hinterland/hinterland.yaml\n",
      "\u001b[32m[I 20:47:58 InstallContribNbextensionsApp]\u001b[m Copying: /Users/lukas/anaconda3/envs/hands-on-ml/lib/python3.7/site-packages/jupyter_contrib_nbextensions/nbextensions/hinterland/hinterland.js -> /Users/lukas/Library/Jupyter/nbextensions/hinterland/hinterland.js\n",
      "\u001b[32m[I 20:47:58 InstallContribNbextensionsApp]\u001b[m Copying: /Users/lukas/anaconda3/envs/hands-on-ml/lib/python3.7/site-packages/jupyter_contrib_nbextensions/nbextensions/hinterland/README.md -> /Users/lukas/Library/Jupyter/nbextensions/hinterland/README.md\n",
      "\u001b[32m[I 20:47:58 InstallContribNbextensionsApp]\u001b[m - Validating: \u001b[32mOK\u001b[0m\n",
      "\u001b[32m[I 20:47:58 InstallContribNbextensionsApp]\u001b[m Installing /Users/lukas/anaconda3/envs/hands-on-ml/lib/python3.7/site-packages/jupyter_contrib_nbextensions/nbextensions/snippets -> snippets\n",
      "\u001b[32m[I 20:47:58 InstallContribNbextensionsApp]\u001b[m Making directory: /Users/lukas/Library/Jupyter/nbextensions/snippets/\n",
      "\u001b[32m[I 20:47:58 InstallContribNbextensionsApp]\u001b[m Copying: /Users/lukas/anaconda3/envs/hands-on-ml/lib/python3.7/site-packages/jupyter_contrib_nbextensions/nbextensions/snippets/snippets.yaml -> /Users/lukas/Library/Jupyter/nbextensions/snippets/snippets.yaml\n",
      "\u001b[32m[I 20:47:58 InstallContribNbextensionsApp]\u001b[m Copying: /Users/lukas/anaconda3/envs/hands-on-ml/lib/python3.7/site-packages/jupyter_contrib_nbextensions/nbextensions/snippets/snippets.json -> /Users/lukas/Library/Jupyter/nbextensions/snippets/snippets.json\n",
      "\u001b[32m[I 20:47:58 InstallContribNbextensionsApp]\u001b[m Copying: /Users/lukas/anaconda3/envs/hands-on-ml/lib/python3.7/site-packages/jupyter_contrib_nbextensions/nbextensions/snippets/README.md -> /Users/lukas/Library/Jupyter/nbextensions/snippets/README.md\n",
      "\u001b[32m[I 20:47:58 InstallContribNbextensionsApp]\u001b[m Copying: /Users/lukas/anaconda3/envs/hands-on-ml/lib/python3.7/site-packages/jupyter_contrib_nbextensions/nbextensions/snippets/main.js -> /Users/lukas/Library/Jupyter/nbextensions/snippets/main.js\n",
      "\u001b[32m[I 20:47:58 InstallContribNbextensionsApp]\u001b[m Copying: /Users/lukas/anaconda3/envs/hands-on-ml/lib/python3.7/site-packages/jupyter_contrib_nbextensions/nbextensions/snippets/snippets-demo.gif -> /Users/lukas/Library/Jupyter/nbextensions/snippets/snippets-demo.gif\n",
      "\u001b[32m[I 20:47:58 InstallContribNbextensionsApp]\u001b[m - Validating: \u001b[32mOK\u001b[0m\n",
      "\u001b[32m[I 20:47:58 InstallContribNbextensionsApp]\u001b[m Installing /Users/lukas/anaconda3/envs/hands-on-ml/lib/python3.7/site-packages/jupyter_contrib_nbextensions/nbextensions/toggle_all_line_numbers -> toggle_all_line_numbers\n",
      "\u001b[32m[I 20:47:58 InstallContribNbextensionsApp]\u001b[m Making directory: /Users/lukas/Library/Jupyter/nbextensions/toggle_all_line_numbers/\n",
      "\u001b[32m[I 20:47:58 InstallContribNbextensionsApp]\u001b[m Copying: /Users/lukas/anaconda3/envs/hands-on-ml/lib/python3.7/site-packages/jupyter_contrib_nbextensions/nbextensions/toggle_all_line_numbers/icon.png -> /Users/lukas/Library/Jupyter/nbextensions/toggle_all_line_numbers/icon.png\n",
      "\u001b[32m[I 20:47:58 InstallContribNbextensionsApp]\u001b[m Copying: /Users/lukas/anaconda3/envs/hands-on-ml/lib/python3.7/site-packages/jupyter_contrib_nbextensions/nbextensions/toggle_all_line_numbers/main.yaml -> /Users/lukas/Library/Jupyter/nbextensions/toggle_all_line_numbers/main.yaml\n",
      "\u001b[32m[I 20:47:58 InstallContribNbextensionsApp]\u001b[m Copying: /Users/lukas/anaconda3/envs/hands-on-ml/lib/python3.7/site-packages/jupyter_contrib_nbextensions/nbextensions/toggle_all_line_numbers/readme.md -> /Users/lukas/Library/Jupyter/nbextensions/toggle_all_line_numbers/readme.md\n",
      "\u001b[32m[I 20:47:58 InstallContribNbextensionsApp]\u001b[m Copying: /Users/lukas/anaconda3/envs/hands-on-ml/lib/python3.7/site-packages/jupyter_contrib_nbextensions/nbextensions/toggle_all_line_numbers/main.js -> /Users/lukas/Library/Jupyter/nbextensions/toggle_all_line_numbers/main.js\n",
      "\u001b[32m[I 20:47:58 InstallContribNbextensionsApp]\u001b[m - Validating: \u001b[32mOK\u001b[0m\n",
      "\u001b[32m[I 20:47:58 InstallContribNbextensionsApp]\u001b[m Installing /Users/lukas/anaconda3/envs/hands-on-ml/lib/python3.7/site-packages/jupyter_contrib_nbextensions/nbextensions/notify -> notify\n",
      "\u001b[32m[I 20:47:58 InstallContribNbextensionsApp]\u001b[m Making directory: /Users/lukas/Library/Jupyter/nbextensions/notify/\n",
      "\u001b[32m[I 20:47:58 InstallContribNbextensionsApp]\u001b[m Copying: /Users/lukas/anaconda3/envs/hands-on-ml/lib/python3.7/site-packages/jupyter_contrib_nbextensions/nbextensions/notify/notify.js -> /Users/lukas/Library/Jupyter/nbextensions/notify/notify.js\n",
      "\u001b[32m[I 20:47:58 InstallContribNbextensionsApp]\u001b[m Copying: /Users/lukas/anaconda3/envs/hands-on-ml/lib/python3.7/site-packages/jupyter_contrib_nbextensions/nbextensions/notify/notify.mp3 -> /Users/lukas/Library/Jupyter/nbextensions/notify/notify.mp3\n",
      "\u001b[32m[I 20:47:58 InstallContribNbextensionsApp]\u001b[m Copying: /Users/lukas/anaconda3/envs/hands-on-ml/lib/python3.7/site-packages/jupyter_contrib_nbextensions/nbextensions/notify/readme.md -> /Users/lukas/Library/Jupyter/nbextensions/notify/readme.md\n",
      "\u001b[32m[I 20:47:58 InstallContribNbextensionsApp]\u001b[m Copying: /Users/lukas/anaconda3/envs/hands-on-ml/lib/python3.7/site-packages/jupyter_contrib_nbextensions/nbextensions/notify/notify.yaml -> /Users/lukas/Library/Jupyter/nbextensions/notify/notify.yaml\n",
      "\u001b[32m[I 20:47:58 InstallContribNbextensionsApp]\u001b[m Copying: /Users/lukas/anaconda3/envs/hands-on-ml/lib/python3.7/site-packages/jupyter_contrib_nbextensions/nbextensions/notify/notification.png -> /Users/lukas/Library/Jupyter/nbextensions/notify/notification.png\n",
      "\u001b[32m[I 20:47:58 InstallContribNbextensionsApp]\u001b[m - Validating: \u001b[32mOK\u001b[0m\n",
      "\u001b[32m[I 20:47:58 InstallContribNbextensionsApp]\u001b[m Installing /Users/lukas/anaconda3/envs/hands-on-ml/lib/python3.7/site-packages/jupyter_contrib_nbextensions/nbextensions/runtools -> runtools\n",
      "\u001b[32m[I 20:47:58 InstallContribNbextensionsApp]\u001b[m Making directory: /Users/lukas/Library/Jupyter/nbextensions/runtools/\n",
      "\u001b[32m[I 20:47:58 InstallContribNbextensionsApp]\u001b[m Copying: /Users/lukas/anaconda3/envs/hands-on-ml/lib/python3.7/site-packages/jupyter_contrib_nbextensions/nbextensions/runtools/cellstate.js -> /Users/lukas/Library/Jupyter/nbextensions/runtools/cellstate.js\n",
      "\u001b[32m[I 20:47:58 InstallContribNbextensionsApp]\u001b[m Copying: /Users/lukas/anaconda3/envs/hands-on-ml/lib/python3.7/site-packages/jupyter_contrib_nbextensions/nbextensions/runtools/icon.png -> /Users/lukas/Library/Jupyter/nbextensions/runtools/icon.png\n",
      "\u001b[32m[I 20:47:58 InstallContribNbextensionsApp]\u001b[m Copying: /Users/lukas/anaconda3/envs/hands-on-ml/lib/python3.7/site-packages/jupyter_contrib_nbextensions/nbextensions/runtools/runtools_execute.png -> /Users/lukas/Library/Jupyter/nbextensions/runtools/runtools_execute.png\n",
      "\u001b[32m[I 20:47:58 InstallContribNbextensionsApp]\u001b[m Copying: /Users/lukas/anaconda3/envs/hands-on-ml/lib/python3.7/site-packages/jupyter_contrib_nbextensions/nbextensions/runtools/annotations.odg -> /Users/lukas/Library/Jupyter/nbextensions/runtools/annotations.odg\n",
      "\u001b[32m[I 20:47:58 InstallContribNbextensionsApp]\u001b[m Copying: /Users/lukas/anaconda3/envs/hands-on-ml/lib/python3.7/site-packages/jupyter_contrib_nbextensions/nbextensions/runtools/runtools.yaml -> /Users/lukas/Library/Jupyter/nbextensions/runtools/runtools.yaml\n",
      "\u001b[32m[I 20:47:58 InstallContribNbextensionsApp]\u001b[m Copying: /Users/lukas/anaconda3/envs/hands-on-ml/lib/python3.7/site-packages/jupyter_contrib_nbextensions/nbextensions/runtools/main.css -> /Users/lukas/Library/Jupyter/nbextensions/runtools/main.css\n",
      "\u001b[32m[I 20:47:58 InstallContribNbextensionsApp]\u001b[m Copying: /Users/lukas/anaconda3/envs/hands-on-ml/lib/python3.7/site-packages/jupyter_contrib_nbextensions/nbextensions/runtools/runtools_nb.png -> /Users/lukas/Library/Jupyter/nbextensions/runtools/runtools_nb.png\n",
      "\u001b[32m[I 20:47:58 InstallContribNbextensionsApp]\u001b[m Copying: /Users/lukas/anaconda3/envs/hands-on-ml/lib/python3.7/site-packages/jupyter_contrib_nbextensions/nbextensions/runtools/readme.md -> /Users/lukas/Library/Jupyter/nbextensions/runtools/readme.md\n",
      "\u001b[32m[I 20:47:58 InstallContribNbextensionsApp]\u001b[m Copying: /Users/lukas/anaconda3/envs/hands-on-ml/lib/python3.7/site-packages/jupyter_contrib_nbextensions/nbextensions/runtools/runtools_marker.png -> /Users/lukas/Library/Jupyter/nbextensions/runtools/runtools_marker.png\n",
      "\u001b[32m[I 20:47:58 InstallContribNbextensionsApp]\u001b[m Copying: /Users/lukas/anaconda3/envs/hands-on-ml/lib/python3.7/site-packages/jupyter_contrib_nbextensions/nbextensions/runtools/main.js -> /Users/lukas/Library/Jupyter/nbextensions/runtools/main.js\n",
      "\u001b[32m[I 20:47:58 InstallContribNbextensionsApp]\u001b[m Copying: /Users/lukas/anaconda3/envs/hands-on-ml/lib/python3.7/site-packages/jupyter_contrib_nbextensions/nbextensions/runtools/runtools_show_hide.png -> /Users/lukas/Library/Jupyter/nbextensions/runtools/runtools_show_hide.png\n",
      "\u001b[32m[I 20:47:58 InstallContribNbextensionsApp]\u001b[m Copying: /Users/lukas/anaconda3/envs/hands-on-ml/lib/python3.7/site-packages/jupyter_contrib_nbextensions/nbextensions/runtools/runtools_lock.png -> /Users/lukas/Library/Jupyter/nbextensions/runtools/runtools_lock.png\n",
      "\u001b[32m[I 20:47:58 InstallContribNbextensionsApp]\u001b[m Copying: /Users/lukas/anaconda3/envs/hands-on-ml/lib/python3.7/site-packages/jupyter_contrib_nbextensions/nbextensions/runtools/demo.gif -> /Users/lukas/Library/Jupyter/nbextensions/runtools/demo.gif\n",
      "\u001b[32m[I 20:47:58 InstallContribNbextensionsApp]\u001b[m Copying: /Users/lukas/anaconda3/envs/hands-on-ml/lib/python3.7/site-packages/jupyter_contrib_nbextensions/nbextensions/runtools/gutter.css -> /Users/lukas/Library/Jupyter/nbextensions/runtools/gutter.css\n",
      "\u001b[32m[I 20:47:58 InstallContribNbextensionsApp]\u001b[m - Validating: \u001b[32mOK\u001b[0m\n",
      "\u001b[32m[I 20:47:58 InstallContribNbextensionsApp]\u001b[m Installing /Users/lukas/anaconda3/envs/hands-on-ml/lib/python3.7/site-packages/jupyter_contrib_nbextensions/nbextensions/tree-filter -> tree-filter\n",
      "\u001b[32m[I 20:47:58 InstallContribNbextensionsApp]\u001b[m Making directory: /Users/lukas/Library/Jupyter/nbextensions/tree-filter/\n",
      "\u001b[32m[I 20:47:58 InstallContribNbextensionsApp]\u001b[m Copying: /Users/lukas/anaconda3/envs/hands-on-ml/lib/python3.7/site-packages/jupyter_contrib_nbextensions/nbextensions/tree-filter/tree-filter.yaml -> /Users/lukas/Library/Jupyter/nbextensions/tree-filter/tree-filter.yaml\n",
      "\u001b[32m[I 20:47:58 InstallContribNbextensionsApp]\u001b[m Copying: /Users/lukas/anaconda3/envs/hands-on-ml/lib/python3.7/site-packages/jupyter_contrib_nbextensions/nbextensions/tree-filter/index.js -> /Users/lukas/Library/Jupyter/nbextensions/tree-filter/index.js\n",
      "\u001b[32m[I 20:47:58 InstallContribNbextensionsApp]\u001b[m Copying: /Users/lukas/anaconda3/envs/hands-on-ml/lib/python3.7/site-packages/jupyter_contrib_nbextensions/nbextensions/tree-filter/readme.md -> /Users/lukas/Library/Jupyter/nbextensions/tree-filter/readme.md\n",
      "\u001b[32m[I 20:47:58 InstallContribNbextensionsApp]\u001b[m Copying: /Users/lukas/anaconda3/envs/hands-on-ml/lib/python3.7/site-packages/jupyter_contrib_nbextensions/nbextensions/tree-filter/demo.gif -> /Users/lukas/Library/Jupyter/nbextensions/tree-filter/demo.gif\n",
      "\u001b[32m[I 20:47:58 InstallContribNbextensionsApp]\u001b[m - Validating: \u001b[32mOK\u001b[0m\n",
      "\u001b[32m[I 20:47:58 InstallContribNbextensionsApp]\u001b[m Installing /Users/lukas/anaconda3/envs/hands-on-ml/lib/python3.7/site-packages/jupyter_contrib_nbextensions/nbextensions/table_beautifier -> table_beautifier\n",
      "\u001b[32m[I 20:47:58 InstallContribNbextensionsApp]\u001b[m Making directory: /Users/lukas/Library/Jupyter/nbextensions/table_beautifier/\n",
      "\u001b[32m[I 20:47:58 InstallContribNbextensionsApp]\u001b[m Copying: /Users/lukas/anaconda3/envs/hands-on-ml/lib/python3.7/site-packages/jupyter_contrib_nbextensions/nbextensions/table_beautifier/main.css -> /Users/lukas/Library/Jupyter/nbextensions/table_beautifier/main.css\n",
      "\u001b[32m[I 20:47:58 InstallContribNbextensionsApp]\u001b[m Copying: /Users/lukas/anaconda3/envs/hands-on-ml/lib/python3.7/site-packages/jupyter_contrib_nbextensions/nbextensions/table_beautifier/README.md -> /Users/lukas/Library/Jupyter/nbextensions/table_beautifier/README.md\n",
      "\u001b[32m[I 20:47:58 InstallContribNbextensionsApp]\u001b[m Copying: /Users/lukas/anaconda3/envs/hands-on-ml/lib/python3.7/site-packages/jupyter_contrib_nbextensions/nbextensions/table_beautifier/main.js -> /Users/lukas/Library/Jupyter/nbextensions/table_beautifier/main.js\n",
      "\u001b[32m[I 20:47:58 InstallContribNbextensionsApp]\u001b[m Copying: /Users/lukas/anaconda3/envs/hands-on-ml/lib/python3.7/site-packages/jupyter_contrib_nbextensions/nbextensions/table_beautifier/table_beautifier.yaml -> /Users/lukas/Library/Jupyter/nbextensions/table_beautifier/table_beautifier.yaml\n",
      "\u001b[32m[I 20:47:58 InstallContribNbextensionsApp]\u001b[m - Validating: \u001b[32mOK\u001b[0m\n",
      "\u001b[32m[I 20:47:58 InstallContribNbextensionsApp]\u001b[m Installing /Users/lukas/anaconda3/envs/hands-on-ml/lib/python3.7/site-packages/jupyter_contrib_nbextensions/nbextensions/freeze -> freeze\n",
      "\u001b[32m[I 20:47:58 InstallContribNbextensionsApp]\u001b[m Making directory: /Users/lukas/Library/Jupyter/nbextensions/freeze/\n",
      "\u001b[32m[I 20:47:58 InstallContribNbextensionsApp]\u001b[m Copying: /Users/lukas/anaconda3/envs/hands-on-ml/lib/python3.7/site-packages/jupyter_contrib_nbextensions/nbextensions/freeze/icon.png -> /Users/lukas/Library/Jupyter/nbextensions/freeze/icon.png\n",
      "\u001b[32m[I 20:47:58 InstallContribNbextensionsApp]\u001b[m Copying: /Users/lukas/anaconda3/envs/hands-on-ml/lib/python3.7/site-packages/jupyter_contrib_nbextensions/nbextensions/freeze/config.yaml -> /Users/lukas/Library/Jupyter/nbextensions/freeze/config.yaml\n",
      "\u001b[32m[I 20:47:58 InstallContribNbextensionsApp]\u001b[m Copying: /Users/lukas/anaconda3/envs/hands-on-ml/lib/python3.7/site-packages/jupyter_contrib_nbextensions/nbextensions/freeze/readme.md -> /Users/lukas/Library/Jupyter/nbextensions/freeze/readme.md\n",
      "\u001b[32m[I 20:47:58 InstallContribNbextensionsApp]\u001b[m Copying: /Users/lukas/anaconda3/envs/hands-on-ml/lib/python3.7/site-packages/jupyter_contrib_nbextensions/nbextensions/freeze/main.js -> /Users/lukas/Library/Jupyter/nbextensions/freeze/main.js\n",
      "\u001b[32m[I 20:47:58 InstallContribNbextensionsApp]\u001b[m - Validating: \u001b[32mOK\u001b[0m\n",
      "\u001b[32m[I 20:47:58 InstallContribNbextensionsApp]\u001b[m Installing /Users/lukas/anaconda3/envs/hands-on-ml/lib/python3.7/site-packages/jupyter_contrib_nbextensions/nbextensions/exercise2 -> exercise2\n",
      "\u001b[32m[I 20:47:58 InstallContribNbextensionsApp]\u001b[m Making directory: /Users/lukas/Library/Jupyter/nbextensions/exercise2/\n",
      "\u001b[32m[I 20:47:58 InstallContribNbextensionsApp]\u001b[m Copying: /Users/lukas/anaconda3/envs/hands-on-ml/lib/python3.7/site-packages/jupyter_contrib_nbextensions/nbextensions/exercise2/icon.png -> /Users/lukas/Library/Jupyter/nbextensions/exercise2/icon.png\n",
      "\u001b[32m[I 20:47:58 InstallContribNbextensionsApp]\u001b[m Copying: /Users/lukas/anaconda3/envs/hands-on-ml/lib/python3.7/site-packages/jupyter_contrib_nbextensions/nbextensions/exercise2/exercise2.yaml -> /Users/lukas/Library/Jupyter/nbextensions/exercise2/exercise2.yaml\n",
      "\u001b[32m[I 20:47:58 InstallContribNbextensionsApp]\u001b[m Copying: /Users/lukas/anaconda3/envs/hands-on-ml/lib/python3.7/site-packages/jupyter_contrib_nbextensions/nbextensions/exercise2/main.css -> /Users/lukas/Library/Jupyter/nbextensions/exercise2/main.css\n",
      "\u001b[32m[I 20:47:58 InstallContribNbextensionsApp]\u001b[m Copying: /Users/lukas/anaconda3/envs/hands-on-ml/lib/python3.7/site-packages/jupyter_contrib_nbextensions/nbextensions/exercise2/image.gif -> /Users/lukas/Library/Jupyter/nbextensions/exercise2/image.gif\n",
      "\u001b[32m[I 20:47:58 InstallContribNbextensionsApp]\u001b[m Copying: /Users/lukas/anaconda3/envs/hands-on-ml/lib/python3.7/site-packages/jupyter_contrib_nbextensions/nbextensions/exercise2/readme.md -> /Users/lukas/Library/Jupyter/nbextensions/exercise2/readme.md\n",
      "\u001b[32m[I 20:47:58 InstallContribNbextensionsApp]\u001b[m Copying: /Users/lukas/anaconda3/envs/hands-on-ml/lib/python3.7/site-packages/jupyter_contrib_nbextensions/nbextensions/exercise2/main.js -> /Users/lukas/Library/Jupyter/nbextensions/exercise2/main.js\n",
      "\u001b[32m[I 20:47:58 InstallContribNbextensionsApp]\u001b[m - Validating: \u001b[32mOK\u001b[0m\n",
      "\u001b[32m[I 20:47:58 InstallContribNbextensionsApp]\u001b[m Installing /Users/lukas/anaconda3/envs/hands-on-ml/lib/python3.7/site-packages/jupyter_contrib_nbextensions/nbextensions/execution_dependencies -> execution_dependencies\n",
      "\u001b[32m[I 20:47:58 InstallContribNbextensionsApp]\u001b[m Making directory: /Users/lukas/Library/Jupyter/nbextensions/execution_dependencies/\n",
      "\u001b[32m[I 20:47:58 InstallContribNbextensionsApp]\u001b[m Copying: /Users/lukas/anaconda3/envs/hands-on-ml/lib/python3.7/site-packages/jupyter_contrib_nbextensions/nbextensions/execution_dependencies/execution_dependencies.yml -> /Users/lukas/Library/Jupyter/nbextensions/execution_dependencies/execution_dependencies.yml\n",
      "\u001b[32m[I 20:47:58 InstallContribNbextensionsApp]\u001b[m Copying: /Users/lukas/anaconda3/envs/hands-on-ml/lib/python3.7/site-packages/jupyter_contrib_nbextensions/nbextensions/execution_dependencies/README.md -> /Users/lukas/Library/Jupyter/nbextensions/execution_dependencies/README.md\n",
      "\u001b[32m[I 20:47:58 InstallContribNbextensionsApp]\u001b[m Copying: /Users/lukas/anaconda3/envs/hands-on-ml/lib/python3.7/site-packages/jupyter_contrib_nbextensions/nbextensions/execution_dependencies/execution_dependencies.js -> /Users/lukas/Library/Jupyter/nbextensions/execution_dependencies/execution_dependencies.js\n",
      "\u001b[32m[I 20:47:58 InstallContribNbextensionsApp]\u001b[m - Validating: \u001b[32mOK\u001b[0m\n",
      "\u001b[32m[I 20:47:58 InstallContribNbextensionsApp]\u001b[m Installing /Users/lukas/anaconda3/envs/hands-on-ml/lib/python3.7/site-packages/jupyter_contrib_nbextensions/nbextensions/skill -> skill\n",
      "\u001b[32m[I 20:47:58 InstallContribNbextensionsApp]\u001b[m Making directory: /Users/lukas/Library/Jupyter/nbextensions/skill/\n",
      "\u001b[32m[I 20:47:58 InstallContribNbextensionsApp]\u001b[m Copying: /Users/lukas/anaconda3/envs/hands-on-ml/lib/python3.7/site-packages/jupyter_contrib_nbextensions/nbextensions/skill/skill.js -> /Users/lukas/Library/Jupyter/nbextensions/skill/skill.js\n",
      "\u001b[32m[I 20:47:58 InstallContribNbextensionsApp]\u001b[m Copying: /Users/lukas/anaconda3/envs/hands-on-ml/lib/python3.7/site-packages/jupyter_contrib_nbextensions/nbextensions/skill/README.md -> /Users/lukas/Library/Jupyter/nbextensions/skill/README.md\n",
      "\u001b[32m[I 20:47:58 InstallContribNbextensionsApp]\u001b[m Copying: /Users/lukas/anaconda3/envs/hands-on-ml/lib/python3.7/site-packages/jupyter_contrib_nbextensions/nbextensions/skill/main.js -> /Users/lukas/Library/Jupyter/nbextensions/skill/main.js\n",
      "\u001b[32m[I 20:47:58 InstallContribNbextensionsApp]\u001b[m Copying: /Users/lukas/anaconda3/envs/hands-on-ml/lib/python3.7/site-packages/jupyter_contrib_nbextensions/nbextensions/skill/skill.yaml -> /Users/lukas/Library/Jupyter/nbextensions/skill/skill.yaml\n",
      "\u001b[32m[I 20:47:58 InstallContribNbextensionsApp]\u001b[m - Validating: \u001b[32mOK\u001b[0m\n",
      "\u001b[32m[I 20:47:58 InstallContribNbextensionsApp]\u001b[m Installing /Users/lukas/anaconda3/envs/hands-on-ml/lib/python3.7/site-packages/jupyter_contrib_nbextensions/nbextensions/splitcell -> splitcell\n",
      "\u001b[32m[I 20:47:58 InstallContribNbextensionsApp]\u001b[m Making directory: /Users/lukas/Library/Jupyter/nbextensions/splitcell/\n",
      "\u001b[32m[I 20:47:58 InstallContribNbextensionsApp]\u001b[m Copying: /Users/lukas/anaconda3/envs/hands-on-ml/lib/python3.7/site-packages/jupyter_contrib_nbextensions/nbextensions/splitcell/icon.png -> /Users/lukas/Library/Jupyter/nbextensions/splitcell/icon.png\n",
      "\u001b[32m[I 20:47:58 InstallContribNbextensionsApp]\u001b[m Copying: /Users/lukas/anaconda3/envs/hands-on-ml/lib/python3.7/site-packages/jupyter_contrib_nbextensions/nbextensions/splitcell/readme.md -> /Users/lukas/Library/Jupyter/nbextensions/splitcell/readme.md\n",
      "\u001b[32m[I 20:47:58 InstallContribNbextensionsApp]\u001b[m Copying: /Users/lukas/anaconda3/envs/hands-on-ml/lib/python3.7/site-packages/jupyter_contrib_nbextensions/nbextensions/splitcell/splitcell.yaml -> /Users/lukas/Library/Jupyter/nbextensions/splitcell/splitcell.yaml\n",
      "\u001b[32m[I 20:47:58 InstallContribNbextensionsApp]\u001b[m Copying: /Users/lukas/anaconda3/envs/hands-on-ml/lib/python3.7/site-packages/jupyter_contrib_nbextensions/nbextensions/splitcell/splitcell.js -> /Users/lukas/Library/Jupyter/nbextensions/splitcell/splitcell.js\n",
      "\u001b[32m[I 20:47:58 InstallContribNbextensionsApp]\u001b[m - Validating: \u001b[32mOK\u001b[0m\n",
      "\u001b[32m[I 20:47:58 InstallContribNbextensionsApp]\u001b[m Installing /Users/lukas/anaconda3/envs/hands-on-ml/lib/python3.7/site-packages/jupyter_contrib_nbextensions/nbextensions/autosavetime -> autosavetime\n",
      "\u001b[32m[I 20:47:58 InstallContribNbextensionsApp]\u001b[m Making directory: /Users/lukas/Library/Jupyter/nbextensions/autosavetime/\n",
      "\u001b[32m[I 20:47:58 InstallContribNbextensionsApp]\u001b[m Copying: /Users/lukas/anaconda3/envs/hands-on-ml/lib/python3.7/site-packages/jupyter_contrib_nbextensions/nbextensions/autosavetime/icon.png -> /Users/lukas/Library/Jupyter/nbextensions/autosavetime/icon.png\n",
      "\u001b[32m[I 20:47:58 InstallContribNbextensionsApp]\u001b[m Copying: /Users/lukas/anaconda3/envs/hands-on-ml/lib/python3.7/site-packages/jupyter_contrib_nbextensions/nbextensions/autosavetime/README.md -> /Users/lukas/Library/Jupyter/nbextensions/autosavetime/README.md\n",
      "\u001b[32m[I 20:47:58 InstallContribNbextensionsApp]\u001b[m Copying: /Users/lukas/anaconda3/envs/hands-on-ml/lib/python3.7/site-packages/jupyter_contrib_nbextensions/nbextensions/autosavetime/autosavetime.yaml -> /Users/lukas/Library/Jupyter/nbextensions/autosavetime/autosavetime.yaml\n",
      "\u001b[32m[I 20:47:58 InstallContribNbextensionsApp]\u001b[m Copying: /Users/lukas/anaconda3/envs/hands-on-ml/lib/python3.7/site-packages/jupyter_contrib_nbextensions/nbextensions/autosavetime/main.js -> /Users/lukas/Library/Jupyter/nbextensions/autosavetime/main.js\n",
      "\u001b[32m[I 20:47:58 InstallContribNbextensionsApp]\u001b[m - Validating: \u001b[32mOK\u001b[0m\n",
      "\u001b[32m[I 20:47:58 InstallContribNbextensionsApp]\u001b[m Installing /Users/lukas/anaconda3/envs/hands-on-ml/lib/python3.7/site-packages/jupyter_contrib_nbextensions/nbextensions/select_keymap -> select_keymap\n",
      "\u001b[32m[I 20:47:58 InstallContribNbextensionsApp]\u001b[m Making directory: /Users/lukas/Library/Jupyter/nbextensions/select_keymap/\n",
      "\u001b[32m[I 20:47:58 InstallContribNbextensionsApp]\u001b[m Copying: /Users/lukas/anaconda3/envs/hands-on-ml/lib/python3.7/site-packages/jupyter_contrib_nbextensions/nbextensions/select_keymap/select_keymap.png -> /Users/lukas/Library/Jupyter/nbextensions/select_keymap/select_keymap.png\n",
      "\u001b[32m[I 20:47:58 InstallContribNbextensionsApp]\u001b[m Copying: /Users/lukas/anaconda3/envs/hands-on-ml/lib/python3.7/site-packages/jupyter_contrib_nbextensions/nbextensions/select_keymap/README.md -> /Users/lukas/Library/Jupyter/nbextensions/select_keymap/README.md\n",
      "\u001b[32m[I 20:47:58 InstallContribNbextensionsApp]\u001b[m Copying: /Users/lukas/anaconda3/envs/hands-on-ml/lib/python3.7/site-packages/jupyter_contrib_nbextensions/nbextensions/select_keymap/main.js -> /Users/lukas/Library/Jupyter/nbextensions/select_keymap/main.js\n",
      "\u001b[32m[I 20:47:58 InstallContribNbextensionsApp]\u001b[m Copying: /Users/lukas/anaconda3/envs/hands-on-ml/lib/python3.7/site-packages/jupyter_contrib_nbextensions/nbextensions/select_keymap/select_keymap.yaml -> /Users/lukas/Library/Jupyter/nbextensions/select_keymap/select_keymap.yaml\n",
      "\u001b[32m[I 20:47:58 InstallContribNbextensionsApp]\u001b[m - Validating: \u001b[32mOK\u001b[0m\n",
      "\u001b[32m[I 20:47:58 InstallContribNbextensionsApp]\u001b[m Installing /Users/lukas/anaconda3/envs/hands-on-ml/lib/python3.7/site-packages/jupyter_contrib_nbextensions/nbextensions/livemdpreview -> livemdpreview\n",
      "\u001b[32m[I 20:47:58 InstallContribNbextensionsApp]\u001b[m Making directory: /Users/lukas/Library/Jupyter/nbextensions/livemdpreview/\n",
      "\u001b[32m[I 20:47:58 InstallContribNbextensionsApp]\u001b[m Copying: /Users/lukas/anaconda3/envs/hands-on-ml/lib/python3.7/site-packages/jupyter_contrib_nbextensions/nbextensions/livemdpreview/livemdpreview.yml -> /Users/lukas/Library/Jupyter/nbextensions/livemdpreview/livemdpreview.yml\n",
      "\u001b[32m[I 20:47:58 InstallContribNbextensionsApp]\u001b[m Copying: /Users/lukas/anaconda3/envs/hands-on-ml/lib/python3.7/site-packages/jupyter_contrib_nbextensions/nbextensions/livemdpreview/livemdpreview.js -> /Users/lukas/Library/Jupyter/nbextensions/livemdpreview/livemdpreview.js\n",
      "\u001b[32m[I 20:47:58 InstallContribNbextensionsApp]\u001b[m - Validating: \u001b[32mOK\u001b[0m\n",
      "\u001b[32m[I 20:47:58 InstallContribNbextensionsApp]\u001b[m Installing /Users/lukas/anaconda3/envs/hands-on-ml/lib/python3.7/site-packages/jupyter_contrib_nbextensions/nbextensions/gist_it -> gist_it\n",
      "\u001b[32m[I 20:47:58 InstallContribNbextensionsApp]\u001b[m Making directory: /Users/lukas/Library/Jupyter/nbextensions/gist_it/\n",
      "\u001b[32m[I 20:47:58 InstallContribNbextensionsApp]\u001b[m Copying: /Users/lukas/anaconda3/envs/hands-on-ml/lib/python3.7/site-packages/jupyter_contrib_nbextensions/nbextensions/gist_it/icon.png -> /Users/lukas/Library/Jupyter/nbextensions/gist_it/icon.png\n",
      "\u001b[32m[I 20:47:58 InstallContribNbextensionsApp]\u001b[m Copying: /Users/lukas/anaconda3/envs/hands-on-ml/lib/python3.7/site-packages/jupyter_contrib_nbextensions/nbextensions/gist_it/gist_it.yaml -> /Users/lukas/Library/Jupyter/nbextensions/gist_it/gist_it.yaml\n",
      "\u001b[32m[I 20:47:58 InstallContribNbextensionsApp]\u001b[m Copying: /Users/lukas/anaconda3/envs/hands-on-ml/lib/python3.7/site-packages/jupyter_contrib_nbextensions/nbextensions/gist_it/readme.md -> /Users/lukas/Library/Jupyter/nbextensions/gist_it/readme.md\n",
      "\u001b[32m[I 20:47:58 InstallContribNbextensionsApp]\u001b[m Copying: /Users/lukas/anaconda3/envs/hands-on-ml/lib/python3.7/site-packages/jupyter_contrib_nbextensions/nbextensions/gist_it/main.js -> /Users/lukas/Library/Jupyter/nbextensions/gist_it/main.js\n",
      "\u001b[32m[I 20:47:58 InstallContribNbextensionsApp]\u001b[m - Validating: \u001b[32mOK\u001b[0m\n",
      "\u001b[32m[I 20:47:58 InstallContribNbextensionsApp]\u001b[m Installing /Users/lukas/anaconda3/envs/hands-on-ml/lib/python3.7/site-packages/jupyter_contrib_nbextensions/nbextensions/cell_filter -> cell_filter\n",
      "\u001b[32m[I 20:47:58 InstallContribNbextensionsApp]\u001b[m Making directory: /Users/lukas/Library/Jupyter/nbextensions/cell_filter/\n",
      "\u001b[32m[I 20:47:58 InstallContribNbextensionsApp]\u001b[m Copying: /Users/lukas/anaconda3/envs/hands-on-ml/lib/python3.7/site-packages/jupyter_contrib_nbextensions/nbextensions/cell_filter/cell_filter.yml -> /Users/lukas/Library/Jupyter/nbextensions/cell_filter/cell_filter.yml\n",
      "\u001b[32m[I 20:47:58 InstallContribNbextensionsApp]\u001b[m Copying: /Users/lukas/anaconda3/envs/hands-on-ml/lib/python3.7/site-packages/jupyter_contrib_nbextensions/nbextensions/cell_filter/cell_filter.js -> /Users/lukas/Library/Jupyter/nbextensions/cell_filter/cell_filter.js\n",
      "\u001b[32m[I 20:47:58 InstallContribNbextensionsApp]\u001b[m Copying: /Users/lukas/anaconda3/envs/hands-on-ml/lib/python3.7/site-packages/jupyter_contrib_nbextensions/nbextensions/cell_filter/README.md -> /Users/lukas/Library/Jupyter/nbextensions/cell_filter/README.md\n",
      "\u001b[32m[I 20:47:58 InstallContribNbextensionsApp]\u001b[m - Validating: \u001b[32mOK\u001b[0m\n",
      "\u001b[32m[I 20:47:58 InstallContribNbextensionsApp]\u001b[m Installing /Users/lukas/anaconda3/envs/hands-on-ml/lib/python3.7/site-packages/jupyter_contrib_nbextensions/nbextensions/scratchpad -> scratchpad\n",
      "\u001b[32m[I 20:47:58 InstallContribNbextensionsApp]\u001b[m Making directory: /Users/lukas/Library/Jupyter/nbextensions/scratchpad/\n",
      "\u001b[32m[I 20:47:58 InstallContribNbextensionsApp]\u001b[m Copying: /Users/lukas/anaconda3/envs/hands-on-ml/lib/python3.7/site-packages/jupyter_contrib_nbextensions/nbextensions/scratchpad/LICENSE -> /Users/lukas/Library/Jupyter/nbextensions/scratchpad/LICENSE\n",
      "\u001b[32m[I 20:47:58 InstallContribNbextensionsApp]\u001b[m Copying: /Users/lukas/anaconda3/envs/hands-on-ml/lib/python3.7/site-packages/jupyter_contrib_nbextensions/nbextensions/scratchpad/scratchpad.yaml -> /Users/lukas/Library/Jupyter/nbextensions/scratchpad/scratchpad.yaml\n",
      "\u001b[32m[I 20:47:58 InstallContribNbextensionsApp]\u001b[m Copying: /Users/lukas/anaconda3/envs/hands-on-ml/lib/python3.7/site-packages/jupyter_contrib_nbextensions/nbextensions/scratchpad/README.md -> /Users/lukas/Library/Jupyter/nbextensions/scratchpad/README.md\n",
      "\u001b[32m[I 20:47:58 InstallContribNbextensionsApp]\u001b[m Copying: /Users/lukas/anaconda3/envs/hands-on-ml/lib/python3.7/site-packages/jupyter_contrib_nbextensions/nbextensions/scratchpad/main.js -> /Users/lukas/Library/Jupyter/nbextensions/scratchpad/main.js\n",
      "\u001b[32m[I 20:47:58 InstallContribNbextensionsApp]\u001b[m Copying: /Users/lukas/anaconda3/envs/hands-on-ml/lib/python3.7/site-packages/jupyter_contrib_nbextensions/nbextensions/scratchpad/scratchpad.css -> /Users/lukas/Library/Jupyter/nbextensions/scratchpad/scratchpad.css\n",
      "\u001b[32m[I 20:47:58 InstallContribNbextensionsApp]\u001b[m Copying: /Users/lukas/anaconda3/envs/hands-on-ml/lib/python3.7/site-packages/jupyter_contrib_nbextensions/nbextensions/scratchpad/demo.gif -> /Users/lukas/Library/Jupyter/nbextensions/scratchpad/demo.gif\n",
      "\u001b[32m[I 20:47:58 InstallContribNbextensionsApp]\u001b[m - Validating: \u001b[32mOK\u001b[0m\n",
      "\u001b[32m[I 20:47:58 InstallContribNbextensionsApp]\u001b[m Installing /Users/lukas/anaconda3/envs/hands-on-ml/lib/python3.7/site-packages/jupyter_contrib_nbextensions/nbextensions/toc2 -> toc2\n",
      "\u001b[32m[I 20:47:58 InstallContribNbextensionsApp]\u001b[m Making directory: /Users/lukas/Library/Jupyter/nbextensions/toc2/\n",
      "\u001b[32m[I 20:47:58 InstallContribNbextensionsApp]\u001b[m Copying: /Users/lukas/anaconda3/envs/hands-on-ml/lib/python3.7/site-packages/jupyter_contrib_nbextensions/nbextensions/toc2/toc2.yaml -> /Users/lukas/Library/Jupyter/nbextensions/toc2/toc2.yaml\n",
      "\u001b[32m[I 20:47:58 InstallContribNbextensionsApp]\u001b[m Copying: /Users/lukas/anaconda3/envs/hands-on-ml/lib/python3.7/site-packages/jupyter_contrib_nbextensions/nbextensions/toc2/icon.png -> /Users/lukas/Library/Jupyter/nbextensions/toc2/icon.png\n",
      "\u001b[32m[I 20:47:58 InstallContribNbextensionsApp]\u001b[m Copying: /Users/lukas/anaconda3/envs/hands-on-ml/lib/python3.7/site-packages/jupyter_contrib_nbextensions/nbextensions/toc2/demo_dark.png -> /Users/lukas/Library/Jupyter/nbextensions/toc2/demo_dark.png\n",
      "\u001b[32m[I 20:47:58 InstallContribNbextensionsApp]\u001b[m Copying: /Users/lukas/anaconda3/envs/hands-on-ml/lib/python3.7/site-packages/jupyter_contrib_nbextensions/nbextensions/toc2/main.css -> /Users/lukas/Library/Jupyter/nbextensions/toc2/main.css\n",
      "\u001b[32m[I 20:47:58 InstallContribNbextensionsApp]\u001b[m Copying: /Users/lukas/anaconda3/envs/hands-on-ml/lib/python3.7/site-packages/jupyter_contrib_nbextensions/nbextensions/toc2/README.md -> /Users/lukas/Library/Jupyter/nbextensions/toc2/README.md\n",
      "\u001b[32m[I 20:47:58 InstallContribNbextensionsApp]\u001b[m Copying: /Users/lukas/anaconda3/envs/hands-on-ml/lib/python3.7/site-packages/jupyter_contrib_nbextensions/nbextensions/toc2/main.js -> /Users/lukas/Library/Jupyter/nbextensions/toc2/main.js\n",
      "\u001b[32m[I 20:47:58 InstallContribNbextensionsApp]\u001b[m Copying: /Users/lukas/anaconda3/envs/hands-on-ml/lib/python3.7/site-packages/jupyter_contrib_nbextensions/nbextensions/toc2/demo3.gif -> /Users/lukas/Library/Jupyter/nbextensions/toc2/demo3.gif\n",
      "\u001b[32m[I 20:47:58 InstallContribNbextensionsApp]\u001b[m Copying: /Users/lukas/anaconda3/envs/hands-on-ml/lib/python3.7/site-packages/jupyter_contrib_nbextensions/nbextensions/toc2/demo2.gif -> /Users/lukas/Library/Jupyter/nbextensions/toc2/demo2.gif\n",
      "\u001b[32m[I 20:47:58 InstallContribNbextensionsApp]\u001b[m Copying: /Users/lukas/anaconda3/envs/hands-on-ml/lib/python3.7/site-packages/jupyter_contrib_nbextensions/nbextensions/toc2/toc2.js -> /Users/lukas/Library/Jupyter/nbextensions/toc2/toc2.js\n",
      "\u001b[32m[I 20:47:58 InstallContribNbextensionsApp]\u001b[m Copying: /Users/lukas/anaconda3/envs/hands-on-ml/lib/python3.7/site-packages/jupyter_contrib_nbextensions/nbextensions/toc2/demo.gif -> /Users/lukas/Library/Jupyter/nbextensions/toc2/demo.gif\n",
      "\u001b[32m[I 20:47:58 InstallContribNbextensionsApp]\u001b[m Copying: /Users/lukas/anaconda3/envs/hands-on-ml/lib/python3.7/site-packages/jupyter_contrib_nbextensions/nbextensions/toc2/image.png -> /Users/lukas/Library/Jupyter/nbextensions/toc2/image.png\n",
      "\u001b[32m[I 20:47:58 InstallContribNbextensionsApp]\u001b[m - Validating: \u001b[32mOK\u001b[0m\n",
      "\u001b[32m[I 20:47:58 InstallContribNbextensionsApp]\u001b[m Installing /Users/lukas/anaconda3/envs/hands-on-ml/lib/python3.7/site-packages/jupyter_contrib_nbextensions/nbextensions/nbTranslate -> nbTranslate\n",
      "\u001b[32m[I 20:47:58 InstallContribNbextensionsApp]\u001b[m Making directory: /Users/lukas/Library/Jupyter/nbextensions/nbTranslate/\n",
      "\u001b[32m[I 20:47:58 InstallContribNbextensionsApp]\u001b[m Copying: /Users/lukas/anaconda3/envs/hands-on-ml/lib/python3.7/site-packages/jupyter_contrib_nbextensions/nbextensions/nbTranslate/nbTranslate.yaml -> /Users/lukas/Library/Jupyter/nbextensions/nbTranslate/nbTranslate.yaml\n",
      "\u001b[32m[I 20:47:58 InstallContribNbextensionsApp]\u001b[m Copying: /Users/lukas/anaconda3/envs/hands-on-ml/lib/python3.7/site-packages/jupyter_contrib_nbextensions/nbextensions/nbTranslate/nbTranslate.js -> /Users/lukas/Library/Jupyter/nbextensions/nbTranslate/nbTranslate.js\n",
      "\u001b[32m[I 20:47:58 InstallContribNbextensionsApp]\u001b[m Copying: /Users/lukas/anaconda3/envs/hands-on-ml/lib/python3.7/site-packages/jupyter_contrib_nbextensions/nbextensions/nbTranslate/README.md -> /Users/lukas/Library/Jupyter/nbextensions/nbTranslate/README.md\n",
      "\u001b[32m[I 20:47:58 InstallContribNbextensionsApp]\u001b[m Copying: /Users/lukas/anaconda3/envs/hands-on-ml/lib/python3.7/site-packages/jupyter_contrib_nbextensions/nbextensions/nbTranslate/main.js -> /Users/lukas/Library/Jupyter/nbextensions/nbTranslate/main.js\n",
      "\u001b[32m[I 20:47:58 InstallContribNbextensionsApp]\u001b[m Copying: /Users/lukas/anaconda3/envs/hands-on-ml/lib/python3.7/site-packages/jupyter_contrib_nbextensions/nbextensions/nbTranslate/demo1.gif -> /Users/lukas/Library/Jupyter/nbextensions/nbTranslate/demo1.gif\n",
      "\u001b[32m[I 20:47:58 InstallContribNbextensionsApp]\u001b[m Copying: /Users/lukas/anaconda3/envs/hands-on-ml/lib/python3.7/site-packages/jupyter_contrib_nbextensions/nbextensions/nbTranslate/demo2.gif -> /Users/lukas/Library/Jupyter/nbextensions/nbTranslate/demo2.gif\n",
      "\u001b[32m[I 20:47:58 InstallContribNbextensionsApp]\u001b[m Copying: /Users/lukas/anaconda3/envs/hands-on-ml/lib/python3.7/site-packages/jupyter_contrib_nbextensions/nbextensions/nbTranslate/languages.js -> /Users/lukas/Library/Jupyter/nbextensions/nbTranslate/languages.js\n",
      "\u001b[32m[I 20:47:58 InstallContribNbextensionsApp]\u001b[m Copying: /Users/lukas/anaconda3/envs/hands-on-ml/lib/python3.7/site-packages/jupyter_contrib_nbextensions/nbextensions/nbTranslate/mutils.js -> /Users/lukas/Library/Jupyter/nbextensions/nbTranslate/mutils.js\n",
      "\u001b[32m[I 20:47:58 InstallContribNbextensionsApp]\u001b[m - Validating: \u001b[32mOK\u001b[0m\n",
      "\u001b[32m[I 20:47:58 InstallContribNbextensionsApp]\u001b[m Installing /Users/lukas/anaconda3/envs/hands-on-ml/lib/python3.7/site-packages/jupyter_contrib_nbextensions/nbextensions/equation-numbering -> equation-numbering\n",
      "\u001b[32m[I 20:47:58 InstallContribNbextensionsApp]\u001b[m Making directory: /Users/lukas/Library/Jupyter/nbextensions/equation-numbering/\n",
      "\u001b[32m[I 20:47:58 InstallContribNbextensionsApp]\u001b[m Copying: /Users/lukas/anaconda3/envs/hands-on-ml/lib/python3.7/site-packages/jupyter_contrib_nbextensions/nbextensions/equation-numbering/icon.png -> /Users/lukas/Library/Jupyter/nbextensions/equation-numbering/icon.png\n",
      "\u001b[32m[I 20:47:58 InstallContribNbextensionsApp]\u001b[m Copying: /Users/lukas/anaconda3/envs/hands-on-ml/lib/python3.7/site-packages/jupyter_contrib_nbextensions/nbextensions/equation-numbering/readme.md -> /Users/lukas/Library/Jupyter/nbextensions/equation-numbering/readme.md\n",
      "\u001b[32m[I 20:47:58 InstallContribNbextensionsApp]\u001b[m Copying: /Users/lukas/anaconda3/envs/hands-on-ml/lib/python3.7/site-packages/jupyter_contrib_nbextensions/nbextensions/equation-numbering/main.js -> /Users/lukas/Library/Jupyter/nbextensions/equation-numbering/main.js\n",
      "\u001b[32m[I 20:47:58 InstallContribNbextensionsApp]\u001b[m Copying: /Users/lukas/anaconda3/envs/hands-on-ml/lib/python3.7/site-packages/jupyter_contrib_nbextensions/nbextensions/equation-numbering/info.yaml -> /Users/lukas/Library/Jupyter/nbextensions/equation-numbering/info.yaml\n",
      "\u001b[32m[I 20:47:58 InstallContribNbextensionsApp]\u001b[m Copying: /Users/lukas/anaconda3/envs/hands-on-ml/lib/python3.7/site-packages/jupyter_contrib_nbextensions/nbextensions/equation-numbering/button.png -> /Users/lukas/Library/Jupyter/nbextensions/equation-numbering/button.png\n",
      "\u001b[32m[I 20:47:58 InstallContribNbextensionsApp]\u001b[m - Validating: \u001b[32mOK\u001b[0m\n",
      "\u001b[32m[I 20:47:58 InstallContribNbextensionsApp]\u001b[m Installing /Users/lukas/anaconda3/envs/hands-on-ml/lib/python3.7/site-packages/jupyter_contrib_nbextensions/nbextensions/navigation-hotkeys -> navigation-hotkeys\n",
      "\u001b[32m[I 20:47:58 InstallContribNbextensionsApp]\u001b[m Making directory: /Users/lukas/Library/Jupyter/nbextensions/navigation-hotkeys/\n",
      "\u001b[32m[I 20:47:58 InstallContribNbextensionsApp]\u001b[m Copying: /Users/lukas/anaconda3/envs/hands-on-ml/lib/python3.7/site-packages/jupyter_contrib_nbextensions/nbextensions/navigation-hotkeys/icon.png -> /Users/lukas/Library/Jupyter/nbextensions/navigation-hotkeys/icon.png\n",
      "\u001b[32m[I 20:47:58 InstallContribNbextensionsApp]\u001b[m Copying: /Users/lukas/anaconda3/envs/hands-on-ml/lib/python3.7/site-packages/jupyter_contrib_nbextensions/nbextensions/navigation-hotkeys/readme.md -> /Users/lukas/Library/Jupyter/nbextensions/navigation-hotkeys/readme.md\n",
      "\u001b[32m[I 20:47:58 InstallContribNbextensionsApp]\u001b[m Copying: /Users/lukas/anaconda3/envs/hands-on-ml/lib/python3.7/site-packages/jupyter_contrib_nbextensions/nbextensions/navigation-hotkeys/main.js -> /Users/lukas/Library/Jupyter/nbextensions/navigation-hotkeys/main.js\n",
      "\u001b[32m[I 20:47:58 InstallContribNbextensionsApp]\u001b[m Copying: /Users/lukas/anaconda3/envs/hands-on-ml/lib/python3.7/site-packages/jupyter_contrib_nbextensions/nbextensions/navigation-hotkeys/hotkeys.yaml -> /Users/lukas/Library/Jupyter/nbextensions/navigation-hotkeys/hotkeys.yaml\n",
      "\u001b[32m[I 20:47:58 InstallContribNbextensionsApp]\u001b[m - Validating: \u001b[32mOK\u001b[0m\n",
      "\u001b[32m[I 20:47:58 InstallContribNbextensionsApp]\u001b[m Installing /Users/lukas/anaconda3/envs/hands-on-ml/lib/python3.7/site-packages/jupyter_contrib_nbextensions/nbextensions/snippets_menu -> snippets_menu\n",
      "\u001b[32m[I 20:47:58 InstallContribNbextensionsApp]\u001b[m Making directory: /Users/lukas/Library/Jupyter/nbextensions/snippets_menu/\n",
      "\u001b[32m[I 20:47:58 InstallContribNbextensionsApp]\u001b[m Copying: /Users/lukas/anaconda3/envs/hands-on-ml/lib/python3.7/site-packages/jupyter_contrib_nbextensions/nbextensions/snippets_menu/snippets_menu.css -> /Users/lukas/Library/Jupyter/nbextensions/snippets_menu/snippets_menu.css\n",
      "\u001b[32m[I 20:47:58 InstallContribNbextensionsApp]\u001b[m Copying: /Users/lukas/anaconda3/envs/hands-on-ml/lib/python3.7/site-packages/jupyter_contrib_nbextensions/nbextensions/snippets_menu/snippets_submenu_python.js -> /Users/lukas/Library/Jupyter/nbextensions/snippets_menu/snippets_submenu_python.js\n",
      "\u001b[32m[I 20:47:58 InstallContribNbextensionsApp]\u001b[m Copying: /Users/lukas/anaconda3/envs/hands-on-ml/lib/python3.7/site-packages/jupyter_contrib_nbextensions/nbextensions/snippets_menu/config.yaml -> /Users/lukas/Library/Jupyter/nbextensions/snippets_menu/config.yaml\n",
      "\u001b[32m[I 20:47:58 InstallContribNbextensionsApp]\u001b[m Copying: /Users/lukas/anaconda3/envs/hands-on-ml/lib/python3.7/site-packages/jupyter_contrib_nbextensions/nbextensions/snippets_menu/readme.md -> /Users/lukas/Library/Jupyter/nbextensions/snippets_menu/readme.md\n",
      "\u001b[32m[I 20:47:58 InstallContribNbextensionsApp]\u001b[m Copying: /Users/lukas/anaconda3/envs/hands-on-ml/lib/python3.7/site-packages/jupyter_contrib_nbextensions/nbextensions/snippets_menu/main.js -> /Users/lukas/Library/Jupyter/nbextensions/snippets_menu/main.js\n",
      "\u001b[32m[I 20:47:58 InstallContribNbextensionsApp]\u001b[m Copying: /Users/lukas/anaconda3/envs/hands-on-ml/lib/python3.7/site-packages/jupyter_contrib_nbextensions/nbextensions/snippets_menu/snippets_submenu_markdown.js -> /Users/lukas/Library/Jupyter/nbextensions/snippets_menu/snippets_submenu_markdown.js\n",
      "\u001b[32m[I 20:47:58 InstallContribNbextensionsApp]\u001b[m Copying: /Users/lukas/anaconda3/envs/hands-on-ml/lib/python3.7/site-packages/jupyter_contrib_nbextensions/nbextensions/snippets_menu/thumbnail.png -> /Users/lukas/Library/Jupyter/nbextensions/snippets_menu/thumbnail.png\n",
      "\u001b[32m[I 20:47:58 InstallContribNbextensionsApp]\u001b[m Copying: /Users/lukas/anaconda3/envs/hands-on-ml/lib/python3.7/site-packages/jupyter_contrib_nbextensions/nbextensions/snippets_menu/screenshot1.png -> /Users/lukas/Library/Jupyter/nbextensions/snippets_menu/screenshot1.png\n",
      "\u001b[32m[I 20:47:58 InstallContribNbextensionsApp]\u001b[m Copying: /Users/lukas/anaconda3/envs/hands-on-ml/lib/python3.7/site-packages/jupyter_contrib_nbextensions/nbextensions/snippets_menu/screenshot2.png -> /Users/lukas/Library/Jupyter/nbextensions/snippets_menu/screenshot2.png\n",
      "\u001b[32m[I 20:47:58 InstallContribNbextensionsApp]\u001b[m Copying: /Users/lukas/anaconda3/envs/hands-on-ml/lib/python3.7/site-packages/jupyter_contrib_nbextensions/nbextensions/snippets_menu/screenshot3.png -> /Users/lukas/Library/Jupyter/nbextensions/snippets_menu/screenshot3.png\n",
      "\u001b[32m[I 20:47:58 InstallContribNbextensionsApp]\u001b[m Copying: /Users/lukas/anaconda3/envs/hands-on-ml/lib/python3.7/site-packages/jupyter_contrib_nbextensions/nbextensions/snippets_menu/examples_for_custom.js -> /Users/lukas/Library/Jupyter/nbextensions/snippets_menu/examples_for_custom.js\n",
      "\u001b[32m[I 20:47:58 InstallContribNbextensionsApp]\u001b[m Making directory: /Users/lukas/Library/Jupyter/nbextensions/snippets_menu/snippets_submenus_python\n",
      "\u001b[32m[I 20:47:58 InstallContribNbextensionsApp]\u001b[m Copying: /Users/lukas/anaconda3/envs/hands-on-ml/lib/python3.7/site-packages/jupyter_contrib_nbextensions/nbextensions/snippets_menu/snippets_submenus_python/numpy_ufuncs.js -> /Users/lukas/Library/Jupyter/nbextensions/snippets_menu/snippets_submenus_python/numpy_ufuncs.js\n",
      "\u001b[32m[I 20:47:58 InstallContribNbextensionsApp]\u001b[m Copying: /Users/lukas/anaconda3/envs/hands-on-ml/lib/python3.7/site-packages/jupyter_contrib_nbextensions/nbextensions/snippets_menu/snippets_submenus_python/numba.js -> /Users/lukas/Library/Jupyter/nbextensions/snippets_menu/snippets_submenus_python/numba.js\n",
      "\u001b[32m[I 20:47:58 InstallContribNbextensionsApp]\u001b[m Copying: /Users/lukas/anaconda3/envs/hands-on-ml/lib/python3.7/site-packages/jupyter_contrib_nbextensions/nbextensions/snippets_menu/snippets_submenus_python/sympy_assumptions.js -> /Users/lukas/Library/Jupyter/nbextensions/snippets_menu/snippets_submenus_python/sympy_assumptions.js\n",
      "\u001b[32m[I 20:47:58 InstallContribNbextensionsApp]\u001b[m Copying: /Users/lukas/anaconda3/envs/hands-on-ml/lib/python3.7/site-packages/jupyter_contrib_nbextensions/nbextensions/snippets_menu/snippets_submenus_python/sympy.js -> /Users/lukas/Library/Jupyter/nbextensions/snippets_menu/snippets_submenus_python/sympy.js\n",
      "\u001b[32m[I 20:47:58 InstallContribNbextensionsApp]\u001b[m Copying: /Users/lukas/anaconda3/envs/hands-on-ml/lib/python3.7/site-packages/jupyter_contrib_nbextensions/nbextensions/snippets_menu/snippets_submenus_python/numpy.js -> /Users/lukas/Library/Jupyter/nbextensions/snippets_menu/snippets_submenus_python/numpy.js\n",
      "\u001b[32m[I 20:47:58 InstallContribNbextensionsApp]\u001b[m Copying: /Users/lukas/anaconda3/envs/hands-on-ml/lib/python3.7/site-packages/jupyter_contrib_nbextensions/nbextensions/snippets_menu/snippets_submenus_python/astropy.js -> /Users/lukas/Library/Jupyter/nbextensions/snippets_menu/snippets_submenus_python/astropy.js\n",
      "\u001b[32m[I 20:47:58 InstallContribNbextensionsApp]\u001b[m Copying: /Users/lukas/anaconda3/envs/hands-on-ml/lib/python3.7/site-packages/jupyter_contrib_nbextensions/nbextensions/snippets_menu/snippets_submenus_python/pandas.js -> /Users/lukas/Library/Jupyter/nbextensions/snippets_menu/snippets_submenus_python/pandas.js\n",
      "\u001b[32m[I 20:47:58 InstallContribNbextensionsApp]\u001b[m Copying: /Users/lukas/anaconda3/envs/hands-on-ml/lib/python3.7/site-packages/jupyter_contrib_nbextensions/nbextensions/snippets_menu/snippets_submenus_python/numpy_polynomial.js -> /Users/lukas/Library/Jupyter/nbextensions/snippets_menu/snippets_submenus_python/numpy_polynomial.js\n",
      "\u001b[32m[I 20:47:58 InstallContribNbextensionsApp]\u001b[m Copying: /Users/lukas/anaconda3/envs/hands-on-ml/lib/python3.7/site-packages/jupyter_contrib_nbextensions/nbextensions/snippets_menu/snippets_submenus_python/scipy_constants.js -> /Users/lukas/Library/Jupyter/nbextensions/snippets_menu/snippets_submenus_python/scipy_constants.js\n",
      "\u001b[32m[I 20:47:58 InstallContribNbextensionsApp]\u001b[m Copying: /Users/lukas/anaconda3/envs/hands-on-ml/lib/python3.7/site-packages/jupyter_contrib_nbextensions/nbextensions/snippets_menu/snippets_submenus_python/matplotlib.js -> /Users/lukas/Library/Jupyter/nbextensions/snippets_menu/snippets_submenus_python/matplotlib.js\n",
      "\u001b[32m[I 20:47:58 InstallContribNbextensionsApp]\u001b[m Copying: /Users/lukas/anaconda3/envs/hands-on-ml/lib/python3.7/site-packages/jupyter_contrib_nbextensions/nbextensions/snippets_menu/snippets_submenus_python/sympy_functions.js -> /Users/lukas/Library/Jupyter/nbextensions/snippets_menu/snippets_submenus_python/sympy_functions.js\n",
      "\u001b[32m[I 20:47:58 InstallContribNbextensionsApp]\u001b[m Copying: /Users/lukas/anaconda3/envs/hands-on-ml/lib/python3.7/site-packages/jupyter_contrib_nbextensions/nbextensions/snippets_menu/snippets_submenus_python/h5py.js -> /Users/lukas/Library/Jupyter/nbextensions/snippets_menu/snippets_submenus_python/h5py.js\n",
      "\u001b[32m[I 20:47:58 InstallContribNbextensionsApp]\u001b[m Copying: /Users/lukas/anaconda3/envs/hands-on-ml/lib/python3.7/site-packages/jupyter_contrib_nbextensions/nbextensions/snippets_menu/snippets_submenus_python/scipy_special.js -> /Users/lukas/Library/Jupyter/nbextensions/snippets_menu/snippets_submenus_python/scipy_special.js\n",
      "\u001b[32m[I 20:47:58 InstallContribNbextensionsApp]\u001b[m Copying: /Users/lukas/anaconda3/envs/hands-on-ml/lib/python3.7/site-packages/jupyter_contrib_nbextensions/nbextensions/snippets_menu/snippets_submenus_python/python_regex.js -> /Users/lukas/Library/Jupyter/nbextensions/snippets_menu/snippets_submenus_python/python_regex.js\n",
      "\u001b[32m[I 20:47:58 InstallContribNbextensionsApp]\u001b[m Copying: /Users/lukas/anaconda3/envs/hands-on-ml/lib/python3.7/site-packages/jupyter_contrib_nbextensions/nbextensions/snippets_menu/snippets_submenus_python/python.js -> /Users/lukas/Library/Jupyter/nbextensions/snippets_menu/snippets_submenus_python/python.js\n",
      "\u001b[32m[I 20:47:58 InstallContribNbextensionsApp]\u001b[m Copying: /Users/lukas/anaconda3/envs/hands-on-ml/lib/python3.7/site-packages/jupyter_contrib_nbextensions/nbextensions/snippets_menu/snippets_submenus_python/scipy.js -> /Users/lukas/Library/Jupyter/nbextensions/snippets_menu/snippets_submenus_python/scipy.js\n",
      "\u001b[32m[I 20:47:58 InstallContribNbextensionsApp]\u001b[m - Validating: \u001b[32mOK\u001b[0m\n",
      "\u001b[32m[I 20:47:58 InstallContribNbextensionsApp]\u001b[m Installing /Users/lukas/anaconda3/envs/hands-on-ml/lib/python3.7/site-packages/jupyter_contrib_nbextensions/nbextensions/printview -> printview\n",
      "\u001b[32m[I 20:47:58 InstallContribNbextensionsApp]\u001b[m Making directory: /Users/lukas/Library/Jupyter/nbextensions/printview/\n",
      "\u001b[32m[I 20:47:58 InstallContribNbextensionsApp]\u001b[m Copying: /Users/lukas/anaconda3/envs/hands-on-ml/lib/python3.7/site-packages/jupyter_contrib_nbextensions/nbextensions/printview/icon.png -> /Users/lukas/Library/Jupyter/nbextensions/printview/icon.png\n",
      "\u001b[32m[I 20:47:58 InstallContribNbextensionsApp]\u001b[m Copying: /Users/lukas/anaconda3/envs/hands-on-ml/lib/python3.7/site-packages/jupyter_contrib_nbextensions/nbextensions/printview/printview-button.png -> /Users/lukas/Library/Jupyter/nbextensions/printview/printview-button.png\n",
      "\u001b[32m[I 20:47:58 InstallContribNbextensionsApp]\u001b[m Copying: /Users/lukas/anaconda3/envs/hands-on-ml/lib/python3.7/site-packages/jupyter_contrib_nbextensions/nbextensions/printview/readme.md -> /Users/lukas/Library/Jupyter/nbextensions/printview/readme.md\n",
      "\u001b[32m[I 20:47:58 InstallContribNbextensionsApp]\u001b[m Copying: /Users/lukas/anaconda3/envs/hands-on-ml/lib/python3.7/site-packages/jupyter_contrib_nbextensions/nbextensions/printview/main.js -> /Users/lukas/Library/Jupyter/nbextensions/printview/main.js\n",
      "\u001b[32m[I 20:47:58 InstallContribNbextensionsApp]\u001b[m Copying: /Users/lukas/anaconda3/envs/hands-on-ml/lib/python3.7/site-packages/jupyter_contrib_nbextensions/nbextensions/printview/printview.yaml -> /Users/lukas/Library/Jupyter/nbextensions/printview/printview.yaml\n",
      "\u001b[32m[I 20:47:58 InstallContribNbextensionsApp]\u001b[m - Validating: \u001b[32mOK\u001b[0m\n",
      "\u001b[32m[I 20:47:58 InstallContribNbextensionsApp]\u001b[m Installing /Users/lukas/anaconda3/envs/hands-on-ml/lib/python3.7/site-packages/jupyter_contrib_nbextensions/nbextensions/export_embedded -> export_embedded\n",
      "\u001b[32m[I 20:47:58 InstallContribNbextensionsApp]\u001b[m Making directory: /Users/lukas/Library/Jupyter/nbextensions/export_embedded/\n",
      "\u001b[32m[I 20:47:58 InstallContribNbextensionsApp]\u001b[m Copying: /Users/lukas/anaconda3/envs/hands-on-ml/lib/python3.7/site-packages/jupyter_contrib_nbextensions/nbextensions/export_embedded/export_embedded.yaml -> /Users/lukas/Library/Jupyter/nbextensions/export_embedded/export_embedded.yaml\n",
      "\u001b[32m[I 20:47:58 InstallContribNbextensionsApp]\u001b[m Copying: /Users/lukas/anaconda3/envs/hands-on-ml/lib/python3.7/site-packages/jupyter_contrib_nbextensions/nbextensions/export_embedded/icon.png -> /Users/lukas/Library/Jupyter/nbextensions/export_embedded/icon.png\n",
      "\u001b[32m[I 20:47:58 InstallContribNbextensionsApp]\u001b[m Copying: /Users/lukas/anaconda3/envs/hands-on-ml/lib/python3.7/site-packages/jupyter_contrib_nbextensions/nbextensions/export_embedded/readme.md -> /Users/lukas/Library/Jupyter/nbextensions/export_embedded/readme.md\n",
      "\u001b[32m[I 20:47:58 InstallContribNbextensionsApp]\u001b[m Copying: /Users/lukas/anaconda3/envs/hands-on-ml/lib/python3.7/site-packages/jupyter_contrib_nbextensions/nbextensions/export_embedded/main.js -> /Users/lukas/Library/Jupyter/nbextensions/export_embedded/main.js\n",
      "\u001b[32m[I 20:47:58 InstallContribNbextensionsApp]\u001b[m - Validating: \u001b[32mOK\u001b[0m\n",
      "\u001b[32m[I 20:47:58 InstallContribNbextensionsApp]\u001b[m Installing /Users/lukas/anaconda3/envs/hands-on-ml/lib/python3.7/site-packages/jupyter_contrib_nbextensions/nbextensions/autoscroll -> autoscroll\n",
      "\u001b[32m[I 20:47:58 InstallContribNbextensionsApp]\u001b[m Making directory: /Users/lukas/Library/Jupyter/nbextensions/autoscroll/\n",
      "\u001b[32m[I 20:47:58 InstallContribNbextensionsApp]\u001b[m Copying: /Users/lukas/anaconda3/envs/hands-on-ml/lib/python3.7/site-packages/jupyter_contrib_nbextensions/nbextensions/autoscroll/icon.png -> /Users/lukas/Library/Jupyter/nbextensions/autoscroll/icon.png\n",
      "\u001b[32m[I 20:47:58 InstallContribNbextensionsApp]\u001b[m Copying: /Users/lukas/anaconda3/envs/hands-on-ml/lib/python3.7/site-packages/jupyter_contrib_nbextensions/nbextensions/autoscroll/autoscroll.yaml -> /Users/lukas/Library/Jupyter/nbextensions/autoscroll/autoscroll.yaml\n",
      "\u001b[32m[I 20:47:58 InstallContribNbextensionsApp]\u001b[m Copying: /Users/lukas/anaconda3/envs/hands-on-ml/lib/python3.7/site-packages/jupyter_contrib_nbextensions/nbextensions/autoscroll/README.md -> /Users/lukas/Library/Jupyter/nbextensions/autoscroll/README.md\n",
      "\u001b[32m[I 20:47:58 InstallContribNbextensionsApp]\u001b[m Copying: /Users/lukas/anaconda3/envs/hands-on-ml/lib/python3.7/site-packages/jupyter_contrib_nbextensions/nbextensions/autoscroll/main.js -> /Users/lukas/Library/Jupyter/nbextensions/autoscroll/main.js\n",
      "\u001b[32m[I 20:47:58 InstallContribNbextensionsApp]\u001b[m - Validating: \u001b[32mOK\u001b[0m\n",
      "\u001b[32m[I 20:47:58 InstallContribNbextensionsApp]\u001b[m Installing /Users/lukas/anaconda3/envs/hands-on-ml/lib/python3.7/site-packages/jupyter_contrib_nbextensions/nbextensions/hide_input -> hide_input\n",
      "\u001b[32m[I 20:47:58 InstallContribNbextensionsApp]\u001b[m Making directory: /Users/lukas/Library/Jupyter/nbextensions/hide_input/\n",
      "\u001b[32m[I 20:47:58 InstallContribNbextensionsApp]\u001b[m Copying: /Users/lukas/anaconda3/envs/hands-on-ml/lib/python3.7/site-packages/jupyter_contrib_nbextensions/nbextensions/hide_input/icon.png -> /Users/lukas/Library/Jupyter/nbextensions/hide_input/icon.png\n",
      "\u001b[32m[I 20:47:58 InstallContribNbextensionsApp]\u001b[m Copying: /Users/lukas/anaconda3/envs/hands-on-ml/lib/python3.7/site-packages/jupyter_contrib_nbextensions/nbextensions/hide_input/readme.md -> /Users/lukas/Library/Jupyter/nbextensions/hide_input/readme.md\n",
      "\u001b[32m[I 20:47:58 InstallContribNbextensionsApp]\u001b[m Copying: /Users/lukas/anaconda3/envs/hands-on-ml/lib/python3.7/site-packages/jupyter_contrib_nbextensions/nbextensions/hide_input/main.js -> /Users/lukas/Library/Jupyter/nbextensions/hide_input/main.js\n",
      "\u001b[32m[I 20:47:58 InstallContribNbextensionsApp]\u001b[m Copying: /Users/lukas/anaconda3/envs/hands-on-ml/lib/python3.7/site-packages/jupyter_contrib_nbextensions/nbextensions/hide_input/hide-input.yaml -> /Users/lukas/Library/Jupyter/nbextensions/hide_input/hide-input.yaml\n",
      "\u001b[32m[I 20:47:58 InstallContribNbextensionsApp]\u001b[m - Validating: \u001b[32mOK\u001b[0m\n",
      "\u001b[32m[I 20:47:58 InstallContribNbextensionsApp]\u001b[m Installing /Users/lukas/anaconda3/envs/hands-on-ml/lib/python3.7/site-packages/jupyter_contrib_nbextensions/nbextensions/hide_input_all -> hide_input_all\n",
      "\u001b[32m[I 20:47:58 InstallContribNbextensionsApp]\u001b[m Making directory: /Users/lukas/Library/Jupyter/nbextensions/hide_input_all/\n",
      "\u001b[32m[I 20:47:58 InstallContribNbextensionsApp]\u001b[m Copying: /Users/lukas/anaconda3/envs/hands-on-ml/lib/python3.7/site-packages/jupyter_contrib_nbextensions/nbextensions/hide_input_all/icon.png -> /Users/lukas/Library/Jupyter/nbextensions/hide_input_all/icon.png\n",
      "\u001b[32m[I 20:47:58 InstallContribNbextensionsApp]\u001b[m Copying: /Users/lukas/anaconda3/envs/hands-on-ml/lib/python3.7/site-packages/jupyter_contrib_nbextensions/nbextensions/hide_input_all/hide_input_all.yaml -> /Users/lukas/Library/Jupyter/nbextensions/hide_input_all/hide_input_all.yaml\n",
      "\u001b[32m[I 20:47:58 InstallContribNbextensionsApp]\u001b[m Copying: /Users/lukas/anaconda3/envs/hands-on-ml/lib/python3.7/site-packages/jupyter_contrib_nbextensions/nbextensions/hide_input_all/hide_input_all_show.png -> /Users/lukas/Library/Jupyter/nbextensions/hide_input_all/hide_input_all_show.png\n",
      "\u001b[32m[I 20:47:58 InstallContribNbextensionsApp]\u001b[m Copying: /Users/lukas/anaconda3/envs/hands-on-ml/lib/python3.7/site-packages/jupyter_contrib_nbextensions/nbextensions/hide_input_all/readme.md -> /Users/lukas/Library/Jupyter/nbextensions/hide_input_all/readme.md\n",
      "\u001b[32m[I 20:47:58 InstallContribNbextensionsApp]\u001b[m Copying: /Users/lukas/anaconda3/envs/hands-on-ml/lib/python3.7/site-packages/jupyter_contrib_nbextensions/nbextensions/hide_input_all/main.js -> /Users/lukas/Library/Jupyter/nbextensions/hide_input_all/main.js\n",
      "\u001b[32m[I 20:47:58 InstallContribNbextensionsApp]\u001b[m Copying: /Users/lukas/anaconda3/envs/hands-on-ml/lib/python3.7/site-packages/jupyter_contrib_nbextensions/nbextensions/hide_input_all/hide_input_all_hide.png -> /Users/lukas/Library/Jupyter/nbextensions/hide_input_all/hide_input_all_hide.png\n",
      "\u001b[32m[I 20:47:58 InstallContribNbextensionsApp]\u001b[m - Validating: \u001b[32mOK\u001b[0m\n",
      "\u001b[32m[I 20:47:58 InstallContribNbextensionsApp]\u001b[m Installing /Users/lukas/anaconda3/envs/hands-on-ml/lib/python3.7/site-packages/jupyter_contrib_nbextensions/nbextensions/keyboard_shortcut_editor -> keyboard_shortcut_editor\n",
      "\u001b[32m[I 20:47:58 InstallContribNbextensionsApp]\u001b[m Making directory: /Users/lukas/Library/Jupyter/nbextensions/keyboard_shortcut_editor/\n",
      "\u001b[32m[I 20:47:58 InstallContribNbextensionsApp]\u001b[m Copying: /Users/lukas/anaconda3/envs/hands-on-ml/lib/python3.7/site-packages/jupyter_contrib_nbextensions/nbextensions/keyboard_shortcut_editor/keyboard_shortcut_editor.yaml -> /Users/lukas/Library/Jupyter/nbextensions/keyboard_shortcut_editor/keyboard_shortcut_editor.yaml\n",
      "\u001b[32m[I 20:47:58 InstallContribNbextensionsApp]\u001b[m Copying: /Users/lukas/anaconda3/envs/hands-on-ml/lib/python3.7/site-packages/jupyter_contrib_nbextensions/nbextensions/keyboard_shortcut_editor/icon.png -> /Users/lukas/Library/Jupyter/nbextensions/keyboard_shortcut_editor/icon.png\n",
      "\u001b[32m[I 20:47:58 InstallContribNbextensionsApp]\u001b[m Copying: /Users/lukas/anaconda3/envs/hands-on-ml/lib/python3.7/site-packages/jupyter_contrib_nbextensions/nbextensions/keyboard_shortcut_editor/readme_comma.png -> /Users/lukas/Library/Jupyter/nbextensions/keyboard_shortcut_editor/readme_comma.png\n",
      "\u001b[32m[I 20:47:58 InstallContribNbextensionsApp]\u001b[m Copying: /Users/lukas/anaconda3/envs/hands-on-ml/lib/python3.7/site-packages/jupyter_contrib_nbextensions/nbextensions/keyboard_shortcut_editor/readme_shortcut_editor_blank.png -> /Users/lukas/Library/Jupyter/nbextensions/keyboard_shortcut_editor/readme_shortcut_editor_blank.png\n",
      "\u001b[32m[I 20:47:58 InstallContribNbextensionsApp]\u001b[m Copying: /Users/lukas/anaconda3/envs/hands-on-ml/lib/python3.7/site-packages/jupyter_contrib_nbextensions/nbextensions/keyboard_shortcut_editor/readme_shortcut_editor_success.png -> /Users/lukas/Library/Jupyter/nbextensions/keyboard_shortcut_editor/readme_shortcut_editor_success.png\n",
      "\u001b[32m[I 20:47:58 InstallContribNbextensionsApp]\u001b[m Copying: /Users/lukas/anaconda3/envs/hands-on-ml/lib/python3.7/site-packages/jupyter_contrib_nbextensions/nbextensions/keyboard_shortcut_editor/main.css -> /Users/lukas/Library/Jupyter/nbextensions/keyboard_shortcut_editor/main.css\n",
      "\u001b[32m[I 20:47:58 InstallContribNbextensionsApp]\u001b[m Copying: /Users/lukas/anaconda3/envs/hands-on-ml/lib/python3.7/site-packages/jupyter_contrib_nbextensions/nbextensions/keyboard_shortcut_editor/README.md -> /Users/lukas/Library/Jupyter/nbextensions/keyboard_shortcut_editor/README.md\n",
      "\u001b[32m[I 20:47:58 InstallContribNbextensionsApp]\u001b[m Copying: /Users/lukas/anaconda3/envs/hands-on-ml/lib/python3.7/site-packages/jupyter_contrib_nbextensions/nbextensions/keyboard_shortcut_editor/readme_reset_disabled.png -> /Users/lukas/Library/Jupyter/nbextensions/keyboard_shortcut_editor/readme_reset_disabled.png\n",
      "\u001b[32m[I 20:47:58 InstallContribNbextensionsApp]\u001b[m Copying: /Users/lukas/anaconda3/envs/hands-on-ml/lib/python3.7/site-packages/jupyter_contrib_nbextensions/nbextensions/keyboard_shortcut_editor/readme_add_new_link.png -> /Users/lukas/Library/Jupyter/nbextensions/keyboard_shortcut_editor/readme_add_new_link.png\n",
      "\u001b[32m[I 20:47:58 InstallContribNbextensionsApp]\u001b[m Copying: /Users/lukas/anaconda3/envs/hands-on-ml/lib/python3.7/site-packages/jupyter_contrib_nbextensions/nbextensions/keyboard_shortcut_editor/main.js -> /Users/lukas/Library/Jupyter/nbextensions/keyboard_shortcut_editor/main.js\n",
      "\u001b[32m[I 20:47:58 InstallContribNbextensionsApp]\u001b[m Copying: /Users/lukas/anaconda3/envs/hands-on-ml/lib/python3.7/site-packages/jupyter_contrib_nbextensions/nbextensions/keyboard_shortcut_editor/readme_dropdown.png -> /Users/lukas/Library/Jupyter/nbextensions/keyboard_shortcut_editor/readme_dropdown.png\n",
      "\u001b[32m[I 20:47:58 InstallContribNbextensionsApp]\u001b[m Copying: /Users/lukas/anaconda3/envs/hands-on-ml/lib/python3.7/site-packages/jupyter_contrib_nbextensions/nbextensions/keyboard_shortcut_editor/quickhelp_shim.js -> /Users/lukas/Library/Jupyter/nbextensions/keyboard_shortcut_editor/quickhelp_shim.js\n",
      "\u001b[32m[I 20:47:58 InstallContribNbextensionsApp]\u001b[m Copying: /Users/lukas/anaconda3/envs/hands-on-ml/lib/python3.7/site-packages/jupyter_contrib_nbextensions/nbextensions/keyboard_shortcut_editor/readme_add_new_select_action.png -> /Users/lukas/Library/Jupyter/nbextensions/keyboard_shortcut_editor/readme_add_new_select_action.png\n",
      "\u001b[32m[I 20:47:58 InstallContribNbextensionsApp]\u001b[m Copying: /Users/lukas/anaconda3/envs/hands-on-ml/lib/python3.7/site-packages/jupyter_contrib_nbextensions/nbextensions/keyboard_shortcut_editor/kse_components.js -> /Users/lukas/Library/Jupyter/nbextensions/keyboard_shortcut_editor/kse_components.js\n",
      "\u001b[32m[I 20:47:58 InstallContribNbextensionsApp]\u001b[m Copying: /Users/lukas/anaconda3/envs/hands-on-ml/lib/python3.7/site-packages/jupyter_contrib_nbextensions/nbextensions/keyboard_shortcut_editor/readme_undefined_key.png -> /Users/lukas/Library/Jupyter/nbextensions/keyboard_shortcut_editor/readme_undefined_key.png\n",
      "\u001b[32m[I 20:47:58 InstallContribNbextensionsApp]\u001b[m Copying: /Users/lukas/anaconda3/envs/hands-on-ml/lib/python3.7/site-packages/jupyter_contrib_nbextensions/nbextensions/keyboard_shortcut_editor/readme_conflict.png -> /Users/lukas/Library/Jupyter/nbextensions/keyboard_shortcut_editor/readme_conflict.png\n",
      "\u001b[32m[I 20:47:58 InstallContribNbextensionsApp]\u001b[m Copying: /Users/lukas/anaconda3/envs/hands-on-ml/lib/python3.7/site-packages/jupyter_contrib_nbextensions/nbextensions/keyboard_shortcut_editor/readme_menu_item.png -> /Users/lukas/Library/Jupyter/nbextensions/keyboard_shortcut_editor/readme_menu_item.png\n",
      "\u001b[32m[I 20:47:58 InstallContribNbextensionsApp]\u001b[m - Validating: \u001b[32mOK\u001b[0m\n",
      "\u001b[32m[I 20:47:58 InstallContribNbextensionsApp]\u001b[m Installing /Users/lukas/anaconda3/envs/hands-on-ml/lib/python3.7/site-packages/jupyter_contrib_nbextensions/nbextensions/help_panel -> help_panel\n",
      "\u001b[32m[I 20:47:58 InstallContribNbextensionsApp]\u001b[m Making directory: /Users/lukas/Library/Jupyter/nbextensions/help_panel/\n",
      "\u001b[32m[I 20:47:58 InstallContribNbextensionsApp]\u001b[m Copying: /Users/lukas/anaconda3/envs/hands-on-ml/lib/python3.7/site-packages/jupyter_contrib_nbextensions/nbextensions/help_panel/icon.png -> /Users/lukas/Library/Jupyter/nbextensions/help_panel/icon.png\n",
      "\u001b[32m[I 20:47:58 InstallContribNbextensionsApp]\u001b[m Copying: /Users/lukas/anaconda3/envs/hands-on-ml/lib/python3.7/site-packages/jupyter_contrib_nbextensions/nbextensions/help_panel/help_panel_ext.png -> /Users/lukas/Library/Jupyter/nbextensions/help_panel/help_panel_ext.png\n",
      "\u001b[32m[I 20:47:58 InstallContribNbextensionsApp]\u001b[m Copying: /Users/lukas/anaconda3/envs/hands-on-ml/lib/python3.7/site-packages/jupyter_contrib_nbextensions/nbextensions/help_panel/readme.md -> /Users/lukas/Library/Jupyter/nbextensions/help_panel/readme.md\n",
      "\u001b[32m[I 20:47:58 InstallContribNbextensionsApp]\u001b[m Copying: /Users/lukas/anaconda3/envs/hands-on-ml/lib/python3.7/site-packages/jupyter_contrib_nbextensions/nbextensions/help_panel/help_panel_ext_fullscreen.png -> /Users/lukas/Library/Jupyter/nbextensions/help_panel/help_panel_ext_fullscreen.png\n",
      "\u001b[32m[I 20:47:58 InstallContribNbextensionsApp]\u001b[m Copying: /Users/lukas/anaconda3/envs/hands-on-ml/lib/python3.7/site-packages/jupyter_contrib_nbextensions/nbextensions/help_panel/help_panel.yaml -> /Users/lukas/Library/Jupyter/nbextensions/help_panel/help_panel.yaml\n",
      "\u001b[32m[I 20:47:58 InstallContribNbextensionsApp]\u001b[m Copying: /Users/lukas/anaconda3/envs/hands-on-ml/lib/python3.7/site-packages/jupyter_contrib_nbextensions/nbextensions/help_panel/help_panel.css -> /Users/lukas/Library/Jupyter/nbextensions/help_panel/help_panel.css\n",
      "\u001b[32m[I 20:47:58 InstallContribNbextensionsApp]\u001b[m Copying: /Users/lukas/anaconda3/envs/hands-on-ml/lib/python3.7/site-packages/jupyter_contrib_nbextensions/nbextensions/help_panel/help_panel.js -> /Users/lukas/Library/Jupyter/nbextensions/help_panel/help_panel.js\n",
      "\u001b[32m[I 20:47:58 InstallContribNbextensionsApp]\u001b[m Making directory: /Users/lukas/Library/Jupyter/nbextensions/help_panel/img\n",
      "\u001b[32m[I 20:47:58 InstallContribNbextensionsApp]\u001b[m Copying: /Users/lukas/anaconda3/envs/hands-on-ml/lib/python3.7/site-packages/jupyter_contrib_nbextensions/nbextensions/help_panel/img/handle-v.png -> /Users/lukas/Library/Jupyter/nbextensions/help_panel/img/handle-v.png\n",
      "\u001b[32m[I 20:47:58 InstallContribNbextensionsApp]\u001b[m - Validating: \u001b[32mOK\u001b[0m\n",
      "\u001b[32m[I 20:47:58 InstallContribNbextensionsApp]\u001b[m Installing /Users/lukas/anaconda3/envs/hands-on-ml/lib/python3.7/site-packages/jupyter_contrib_nbextensions/nbextensions/move_selected_cells -> move_selected_cells\n",
      "\u001b[32m[I 20:47:58 InstallContribNbextensionsApp]\u001b[m Making directory: /Users/lukas/Library/Jupyter/nbextensions/move_selected_cells/\n",
      "\u001b[32m[I 20:47:58 InstallContribNbextensionsApp]\u001b[m Copying: /Users/lukas/anaconda3/envs/hands-on-ml/lib/python3.7/site-packages/jupyter_contrib_nbextensions/nbextensions/move_selected_cells/README.md -> /Users/lukas/Library/Jupyter/nbextensions/move_selected_cells/README.md\n",
      "\u001b[32m[I 20:47:58 InstallContribNbextensionsApp]\u001b[m Copying: /Users/lukas/anaconda3/envs/hands-on-ml/lib/python3.7/site-packages/jupyter_contrib_nbextensions/nbextensions/move_selected_cells/main.js -> /Users/lukas/Library/Jupyter/nbextensions/move_selected_cells/main.js\n",
      "\u001b[32m[I 20:47:58 InstallContribNbextensionsApp]\u001b[m Copying: /Users/lukas/anaconda3/envs/hands-on-ml/lib/python3.7/site-packages/jupyter_contrib_nbextensions/nbextensions/move_selected_cells/move_selected_cells.yaml -> /Users/lukas/Library/Jupyter/nbextensions/move_selected_cells/move_selected_cells.yaml\n",
      "\u001b[32m[I 20:47:58 InstallContribNbextensionsApp]\u001b[m - Validating: \u001b[32mOK\u001b[0m\n",
      "\u001b[32m[I 20:47:58 InstallContribNbextensionsApp]\u001b[m Installing /Users/lukas/anaconda3/envs/hands-on-ml/lib/python3.7/site-packages/jupyter_contrib_nbextensions/nbextensions/zenmode -> zenmode\n",
      "\u001b[32m[I 20:47:58 InstallContribNbextensionsApp]\u001b[m Making directory: /Users/lukas/Library/Jupyter/nbextensions/zenmode/\n",
      "\u001b[32m[I 20:47:58 InstallContribNbextensionsApp]\u001b[m Copying: /Users/lukas/anaconda3/envs/hands-on-ml/lib/python3.7/site-packages/jupyter_contrib_nbextensions/nbextensions/zenmode/main.css -> /Users/lukas/Library/Jupyter/nbextensions/zenmode/main.css\n",
      "\u001b[32m[I 20:47:58 InstallContribNbextensionsApp]\u001b[m Copying: /Users/lukas/anaconda3/envs/hands-on-ml/lib/python3.7/site-packages/jupyter_contrib_nbextensions/nbextensions/zenmode/README.md -> /Users/lukas/Library/Jupyter/nbextensions/zenmode/README.md\n",
      "\u001b[32m[I 20:47:58 InstallContribNbextensionsApp]\u001b[m Copying: /Users/lukas/anaconda3/envs/hands-on-ml/lib/python3.7/site-packages/jupyter_contrib_nbextensions/nbextensions/zenmode/main.js -> /Users/lukas/Library/Jupyter/nbextensions/zenmode/main.js\n",
      "\u001b[32m[I 20:47:58 InstallContribNbextensionsApp]\u001b[m Copying: /Users/lukas/anaconda3/envs/hands-on-ml/lib/python3.7/site-packages/jupyter_contrib_nbextensions/nbextensions/zenmode/zenmode.yaml -> /Users/lukas/Library/Jupyter/nbextensions/zenmode/zenmode.yaml\n",
      "\u001b[32m[I 20:47:58 InstallContribNbextensionsApp]\u001b[m Making directory: /Users/lukas/Library/Jupyter/nbextensions/zenmode/images\n",
      "\u001b[32m[I 20:47:58 InstallContribNbextensionsApp]\u001b[m Copying: /Users/lukas/anaconda3/envs/hands-on-ml/lib/python3.7/site-packages/jupyter_contrib_nbextensions/nbextensions/zenmode/images/back12.jpg -> /Users/lukas/Library/Jupyter/nbextensions/zenmode/images/back12.jpg\n",
      "\u001b[32m[I 20:47:58 InstallContribNbextensionsApp]\u001b[m Copying: /Users/lukas/anaconda3/envs/hands-on-ml/lib/python3.7/site-packages/jupyter_contrib_nbextensions/nbextensions/zenmode/images/back11.jpg -> /Users/lukas/Library/Jupyter/nbextensions/zenmode/images/back11.jpg\n",
      "\u001b[32m[I 20:47:58 InstallContribNbextensionsApp]\u001b[m Copying: /Users/lukas/anaconda3/envs/hands-on-ml/lib/python3.7/site-packages/jupyter_contrib_nbextensions/nbextensions/zenmode/images/back2.jpg -> /Users/lukas/Library/Jupyter/nbextensions/zenmode/images/back2.jpg\n",
      "\u001b[32m[I 20:47:58 InstallContribNbextensionsApp]\u001b[m Copying: /Users/lukas/anaconda3/envs/hands-on-ml/lib/python3.7/site-packages/jupyter_contrib_nbextensions/nbextensions/zenmode/images/back3.jpg -> /Users/lukas/Library/Jupyter/nbextensions/zenmode/images/back3.jpg\n",
      "\u001b[32m[I 20:47:58 InstallContribNbextensionsApp]\u001b[m Copying: /Users/lukas/anaconda3/envs/hands-on-ml/lib/python3.7/site-packages/jupyter_contrib_nbextensions/nbextensions/zenmode/images/back1.jpg -> /Users/lukas/Library/Jupyter/nbextensions/zenmode/images/back1.jpg\n",
      "\u001b[32m[I 20:47:58 InstallContribNbextensionsApp]\u001b[m Copying: /Users/lukas/anaconda3/envs/hands-on-ml/lib/python3.7/site-packages/jupyter_contrib_nbextensions/nbextensions/zenmode/images/ipynblogo1.png -> /Users/lukas/Library/Jupyter/nbextensions/zenmode/images/ipynblogo1.png\n",
      "\u001b[32m[I 20:47:58 InstallContribNbextensionsApp]\u001b[m Copying: /Users/lukas/anaconda3/envs/hands-on-ml/lib/python3.7/site-packages/jupyter_contrib_nbextensions/nbextensions/zenmode/images/ipynblogo0.png -> /Users/lukas/Library/Jupyter/nbextensions/zenmode/images/ipynblogo0.png\n",
      "\u001b[32m[I 20:47:58 InstallContribNbextensionsApp]\u001b[m Copying: /Users/lukas/anaconda3/envs/hands-on-ml/lib/python3.7/site-packages/jupyter_contrib_nbextensions/nbextensions/zenmode/images/back21.jpg -> /Users/lukas/Library/Jupyter/nbextensions/zenmode/images/back21.jpg\n",
      "\u001b[32m[I 20:47:58 InstallContribNbextensionsApp]\u001b[m Copying: /Users/lukas/anaconda3/envs/hands-on-ml/lib/python3.7/site-packages/jupyter_contrib_nbextensions/nbextensions/zenmode/images/back22.jpg -> /Users/lukas/Library/Jupyter/nbextensions/zenmode/images/back22.jpg\n",
      "\u001b[32m[I 20:47:58 InstallContribNbextensionsApp]\u001b[m - Validating: \u001b[32mOK\u001b[0m\n",
      "\u001b[32m[I 20:47:58 InstallContribNbextensionsApp]\u001b[m Installing /Users/lukas/anaconda3/envs/hands-on-ml/lib/python3.7/site-packages/jupyter_contrib_nbextensions/nbextensions/skip-traceback -> skip-traceback\n",
      "\u001b[32m[I 20:47:58 InstallContribNbextensionsApp]\u001b[m Making directory: /Users/lukas/Library/Jupyter/nbextensions/skip-traceback/\n",
      "\u001b[32m[I 20:47:58 InstallContribNbextensionsApp]\u001b[m Copying: /Users/lukas/anaconda3/envs/hands-on-ml/lib/python3.7/site-packages/jupyter_contrib_nbextensions/nbextensions/skip-traceback/icon.png -> /Users/lukas/Library/Jupyter/nbextensions/skip-traceback/icon.png\n",
      "\u001b[32m[I 20:47:58 InstallContribNbextensionsApp]\u001b[m Copying: /Users/lukas/anaconda3/envs/hands-on-ml/lib/python3.7/site-packages/jupyter_contrib_nbextensions/nbextensions/skip-traceback/traceback.png -> /Users/lukas/Library/Jupyter/nbextensions/skip-traceback/traceback.png\n",
      "\u001b[32m[I 20:47:58 InstallContribNbextensionsApp]\u001b[m Copying: /Users/lukas/anaconda3/envs/hands-on-ml/lib/python3.7/site-packages/jupyter_contrib_nbextensions/nbextensions/skip-traceback/readme.md -> /Users/lukas/Library/Jupyter/nbextensions/skip-traceback/readme.md\n",
      "\u001b[32m[I 20:47:58 InstallContribNbextensionsApp]\u001b[m Copying: /Users/lukas/anaconda3/envs/hands-on-ml/lib/python3.7/site-packages/jupyter_contrib_nbextensions/nbextensions/skip-traceback/main.js -> /Users/lukas/Library/Jupyter/nbextensions/skip-traceback/main.js\n",
      "\u001b[32m[I 20:47:58 InstallContribNbextensionsApp]\u001b[m Copying: /Users/lukas/anaconda3/envs/hands-on-ml/lib/python3.7/site-packages/jupyter_contrib_nbextensions/nbextensions/skip-traceback/skip-traceback.yaml -> /Users/lukas/Library/Jupyter/nbextensions/skip-traceback/skip-traceback.yaml\n",
      "\u001b[32m[I 20:47:58 InstallContribNbextensionsApp]\u001b[m Copying: /Users/lukas/anaconda3/envs/hands-on-ml/lib/python3.7/site-packages/jupyter_contrib_nbextensions/nbextensions/skip-traceback/skip-traceback.png -> /Users/lukas/Library/Jupyter/nbextensions/skip-traceback/skip-traceback.png\n",
      "\u001b[32m[I 20:47:58 InstallContribNbextensionsApp]\u001b[m - Validating: \u001b[32mOK\u001b[0m\n",
      "\u001b[32m[I 20:47:58 InstallContribNbextensionsApp]\u001b[m Installing /Users/lukas/anaconda3/envs/hands-on-ml/lib/python3.7/site-packages/jupyter_contrib_nbextensions/nbextensions/python-markdown -> python-markdown\n",
      "\u001b[32m[I 20:47:58 InstallContribNbextensionsApp]\u001b[m Making directory: /Users/lukas/Library/Jupyter/nbextensions/python-markdown/\n",
      "\u001b[32m[I 20:47:58 InstallContribNbextensionsApp]\u001b[m Copying: /Users/lukas/anaconda3/envs/hands-on-ml/lib/python3.7/site-packages/jupyter_contrib_nbextensions/nbextensions/python-markdown/untrusted.png -> /Users/lukas/Library/Jupyter/nbextensions/python-markdown/untrusted.png\n",
      "\u001b[32m[I 20:47:58 InstallContribNbextensionsApp]\u001b[m Copying: /Users/lukas/anaconda3/envs/hands-on-ml/lib/python3.7/site-packages/jupyter_contrib_nbextensions/nbextensions/python-markdown/python-markdown-pre.png -> /Users/lukas/Library/Jupyter/nbextensions/python-markdown/python-markdown-pre.png\n",
      "\u001b[32m[I 20:47:58 InstallContribNbextensionsApp]\u001b[m Copying: /Users/lukas/anaconda3/envs/hands-on-ml/lib/python3.7/site-packages/jupyter_contrib_nbextensions/nbextensions/python-markdown/main.css -> /Users/lukas/Library/Jupyter/nbextensions/python-markdown/main.css\n",
      "\u001b[32m[I 20:47:58 InstallContribNbextensionsApp]\u001b[m Copying: /Users/lukas/anaconda3/envs/hands-on-ml/lib/python3.7/site-packages/jupyter_contrib_nbextensions/nbextensions/python-markdown/readme.md -> /Users/lukas/Library/Jupyter/nbextensions/python-markdown/readme.md\n",
      "\u001b[32m[I 20:47:58 InstallContribNbextensionsApp]\u001b[m Copying: /Users/lukas/anaconda3/envs/hands-on-ml/lib/python3.7/site-packages/jupyter_contrib_nbextensions/nbextensions/python-markdown/main.js -> /Users/lukas/Library/Jupyter/nbextensions/python-markdown/main.js\n",
      "\u001b[32m[I 20:47:58 InstallContribNbextensionsApp]\u001b[m Copying: /Users/lukas/anaconda3/envs/hands-on-ml/lib/python3.7/site-packages/jupyter_contrib_nbextensions/nbextensions/python-markdown/python-markdown.png -> /Users/lukas/Library/Jupyter/nbextensions/python-markdown/python-markdown.png\n",
      "\u001b[32m[I 20:47:58 InstallContribNbextensionsApp]\u001b[m Copying: /Users/lukas/anaconda3/envs/hands-on-ml/lib/python3.7/site-packages/jupyter_contrib_nbextensions/nbextensions/python-markdown/trusted.png -> /Users/lukas/Library/Jupyter/nbextensions/python-markdown/trusted.png\n",
      "\u001b[32m[I 20:47:58 InstallContribNbextensionsApp]\u001b[m Copying: /Users/lukas/anaconda3/envs/hands-on-ml/lib/python3.7/site-packages/jupyter_contrib_nbextensions/nbextensions/python-markdown/python-markdown.yaml -> /Users/lukas/Library/Jupyter/nbextensions/python-markdown/python-markdown.yaml\n",
      "\u001b[32m[I 20:47:58 InstallContribNbextensionsApp]\u001b[m Copying: /Users/lukas/anaconda3/envs/hands-on-ml/lib/python3.7/site-packages/jupyter_contrib_nbextensions/nbextensions/python-markdown/python-markdown-post.png -> /Users/lukas/Library/Jupyter/nbextensions/python-markdown/python-markdown-post.png\n",
      "\u001b[32m[I 20:47:58 InstallContribNbextensionsApp]\u001b[m - Validating: \u001b[32mOK\u001b[0m\n",
      "\u001b[32m[I 20:47:58 InstallContribNbextensionsApp]\u001b[m Installing /Users/lukas/anaconda3/envs/hands-on-ml/lib/python3.7/site-packages/jupyter_contrib_nbextensions/nbextensions/codefolding -> codefolding\n",
      "\u001b[32m[I 20:47:58 InstallContribNbextensionsApp]\u001b[m Making directory: /Users/lukas/Library/Jupyter/nbextensions/codefolding/\n",
      "\u001b[32m[I 20:47:58 InstallContribNbextensionsApp]\u001b[m Copying: /Users/lukas/anaconda3/envs/hands-on-ml/lib/python3.7/site-packages/jupyter_contrib_nbextensions/nbextensions/codefolding/codefolding_editor.yaml -> /Users/lukas/Library/Jupyter/nbextensions/codefolding/codefolding_editor.yaml\n",
      "\u001b[32m[I 20:47:58 InstallContribNbextensionsApp]\u001b[m Copying: /Users/lukas/anaconda3/envs/hands-on-ml/lib/python3.7/site-packages/jupyter_contrib_nbextensions/nbextensions/codefolding/icon.png -> /Users/lukas/Library/Jupyter/nbextensions/codefolding/icon.png\n",
      "\u001b[32m[I 20:47:58 InstallContribNbextensionsApp]\u001b[m Copying: /Users/lukas/anaconda3/envs/hands-on-ml/lib/python3.7/site-packages/jupyter_contrib_nbextensions/nbextensions/codefolding/codefolding_firstline_folded.png -> /Users/lukas/Library/Jupyter/nbextensions/codefolding/codefolding_firstline_folded.png\n",
      "\u001b[32m[I 20:47:58 InstallContribNbextensionsApp]\u001b[m Copying: /Users/lukas/anaconda3/envs/hands-on-ml/lib/python3.7/site-packages/jupyter_contrib_nbextensions/nbextensions/codefolding/codefolding_indent_folded_2.png -> /Users/lukas/Library/Jupyter/nbextensions/codefolding/codefolding_indent_folded_2.png\n",
      "\u001b[32m[I 20:47:58 InstallContribNbextensionsApp]\u001b[m Copying: /Users/lukas/anaconda3/envs/hands-on-ml/lib/python3.7/site-packages/jupyter_contrib_nbextensions/nbextensions/codefolding/codefolding_indent_folded_1.png -> /Users/lukas/Library/Jupyter/nbextensions/codefolding/codefolding_indent_folded_1.png\n",
      "\u001b[32m[I 20:47:58 InstallContribNbextensionsApp]\u001b[m Copying: /Users/lukas/anaconda3/envs/hands-on-ml/lib/python3.7/site-packages/jupyter_contrib_nbextensions/nbextensions/codefolding/edit.js -> /Users/lukas/Library/Jupyter/nbextensions/codefolding/edit.js\n",
      "\u001b[32m[I 20:47:58 InstallContribNbextensionsApp]\u001b[m Copying: /Users/lukas/anaconda3/envs/hands-on-ml/lib/python3.7/site-packages/jupyter_contrib_nbextensions/nbextensions/codefolding/magic-fold.js -> /Users/lukas/Library/Jupyter/nbextensions/codefolding/magic-fold.js\n",
      "\u001b[32m[I 20:47:58 InstallContribNbextensionsApp]\u001b[m Copying: /Users/lukas/anaconda3/envs/hands-on-ml/lib/python3.7/site-packages/jupyter_contrib_nbextensions/nbextensions/codefolding/firstline-fold.js -> /Users/lukas/Library/Jupyter/nbextensions/codefolding/firstline-fold.js\n",
      "\u001b[32m[I 20:47:58 InstallContribNbextensionsApp]\u001b[m Copying: /Users/lukas/anaconda3/envs/hands-on-ml/lib/python3.7/site-packages/jupyter_contrib_nbextensions/nbextensions/codefolding/codefolding_firstline_unfolded.png -> /Users/lukas/Library/Jupyter/nbextensions/codefolding/codefolding_firstline_unfolded.png\n",
      "\u001b[32m[I 20:47:58 InstallContribNbextensionsApp]\u001b[m Copying: /Users/lukas/anaconda3/envs/hands-on-ml/lib/python3.7/site-packages/jupyter_contrib_nbextensions/nbextensions/codefolding/readme.md -> /Users/lukas/Library/Jupyter/nbextensions/codefolding/readme.md\n",
      "\u001b[32m[I 20:47:58 InstallContribNbextensionsApp]\u001b[m Copying: /Users/lukas/anaconda3/envs/hands-on-ml/lib/python3.7/site-packages/jupyter_contrib_nbextensions/nbextensions/codefolding/main.js -> /Users/lukas/Library/Jupyter/nbextensions/codefolding/main.js\n",
      "\u001b[32m[I 20:47:58 InstallContribNbextensionsApp]\u001b[m Copying: /Users/lukas/anaconda3/envs/hands-on-ml/lib/python3.7/site-packages/jupyter_contrib_nbextensions/nbextensions/codefolding/magic-unfolded.png -> /Users/lukas/Library/Jupyter/nbextensions/codefolding/magic-unfolded.png\n",
      "\u001b[32m[I 20:47:58 InstallContribNbextensionsApp]\u001b[m Copying: /Users/lukas/anaconda3/envs/hands-on-ml/lib/python3.7/site-packages/jupyter_contrib_nbextensions/nbextensions/codefolding/foldgutter.css -> /Users/lukas/Library/Jupyter/nbextensions/codefolding/foldgutter.css\n",
      "\u001b[32m[I 20:47:58 InstallContribNbextensionsApp]\u001b[m Copying: /Users/lukas/anaconda3/envs/hands-on-ml/lib/python3.7/site-packages/jupyter_contrib_nbextensions/nbextensions/codefolding/magic-folded.png -> /Users/lukas/Library/Jupyter/nbextensions/codefolding/magic-folded.png\n",
      "\u001b[32m[I 20:47:58 InstallContribNbextensionsApp]\u001b[m Copying: /Users/lukas/anaconda3/envs/hands-on-ml/lib/python3.7/site-packages/jupyter_contrib_nbextensions/nbextensions/codefolding/codefolding.yaml -> /Users/lukas/Library/Jupyter/nbextensions/codefolding/codefolding.yaml\n",
      "\u001b[32m[I 20:47:58 InstallContribNbextensionsApp]\u001b[m Copying: /Users/lukas/anaconda3/envs/hands-on-ml/lib/python3.7/site-packages/jupyter_contrib_nbextensions/nbextensions/codefolding/codefolding_editor.png -> /Users/lukas/Library/Jupyter/nbextensions/codefolding/codefolding_editor.png\n",
      "\u001b[32m[I 20:47:58 InstallContribNbextensionsApp]\u001b[m Copying: /Users/lukas/anaconda3/envs/hands-on-ml/lib/python3.7/site-packages/jupyter_contrib_nbextensions/nbextensions/codefolding/codefolding_indent_unfolded.png -> /Users/lukas/Library/Jupyter/nbextensions/codefolding/codefolding_indent_unfolded.png\n",
      "\u001b[32m[I 20:47:58 InstallContribNbextensionsApp]\u001b[m - Validating: \u001b[32mOK\u001b[0m\n",
      "\u001b[32m[I 20:47:58 InstallContribNbextensionsApp]\u001b[m Installing /Users/lukas/anaconda3/envs/hands-on-ml/lib/python3.7/site-packages/jupyter_contrib_nbextensions/nbextensions/codefolding -> codefolding\n",
      "\u001b[32m[I 20:47:58 InstallContribNbextensionsApp]\u001b[m Up to date: /Users/lukas/Library/Jupyter/nbextensions/codefolding/codefolding_editor.yaml\n",
      "\u001b[32m[I 20:47:58 InstallContribNbextensionsApp]\u001b[m Up to date: /Users/lukas/Library/Jupyter/nbextensions/codefolding/icon.png\n",
      "\u001b[32m[I 20:47:58 InstallContribNbextensionsApp]\u001b[m Up to date: /Users/lukas/Library/Jupyter/nbextensions/codefolding/codefolding_firstline_folded.png\n",
      "\u001b[32m[I 20:47:58 InstallContribNbextensionsApp]\u001b[m Up to date: /Users/lukas/Library/Jupyter/nbextensions/codefolding/codefolding_indent_folded_2.png\n",
      "\u001b[32m[I 20:47:58 InstallContribNbextensionsApp]\u001b[m Up to date: /Users/lukas/Library/Jupyter/nbextensions/codefolding/codefolding_indent_folded_1.png\n",
      "\u001b[32m[I 20:47:58 InstallContribNbextensionsApp]\u001b[m Up to date: /Users/lukas/Library/Jupyter/nbextensions/codefolding/edit.js\n",
      "\u001b[32m[I 20:47:58 InstallContribNbextensionsApp]\u001b[m Up to date: /Users/lukas/Library/Jupyter/nbextensions/codefolding/magic-fold.js\n",
      "\u001b[32m[I 20:47:58 InstallContribNbextensionsApp]\u001b[m Up to date: /Users/lukas/Library/Jupyter/nbextensions/codefolding/firstline-fold.js\n",
      "\u001b[32m[I 20:47:58 InstallContribNbextensionsApp]\u001b[m Up to date: /Users/lukas/Library/Jupyter/nbextensions/codefolding/codefolding_firstline_unfolded.png\n",
      "\u001b[32m[I 20:47:58 InstallContribNbextensionsApp]\u001b[m Up to date: /Users/lukas/Library/Jupyter/nbextensions/codefolding/readme.md\n",
      "\u001b[32m[I 20:47:58 InstallContribNbextensionsApp]\u001b[m Up to date: /Users/lukas/Library/Jupyter/nbextensions/codefolding/main.js\n",
      "\u001b[32m[I 20:47:58 InstallContribNbextensionsApp]\u001b[m Up to date: /Users/lukas/Library/Jupyter/nbextensions/codefolding/magic-unfolded.png\n",
      "\u001b[32m[I 20:47:58 InstallContribNbextensionsApp]\u001b[m Up to date: /Users/lukas/Library/Jupyter/nbextensions/codefolding/foldgutter.css\n",
      "\u001b[32m[I 20:47:58 InstallContribNbextensionsApp]\u001b[m Up to date: /Users/lukas/Library/Jupyter/nbextensions/codefolding/magic-folded.png\n",
      "\u001b[32m[I 20:47:58 InstallContribNbextensionsApp]\u001b[m Up to date: /Users/lukas/Library/Jupyter/nbextensions/codefolding/codefolding.yaml\n",
      "\u001b[32m[I 20:47:58 InstallContribNbextensionsApp]\u001b[m Up to date: /Users/lukas/Library/Jupyter/nbextensions/codefolding/codefolding_editor.png\n",
      "\u001b[32m[I 20:47:58 InstallContribNbextensionsApp]\u001b[m Up to date: /Users/lukas/Library/Jupyter/nbextensions/codefolding/codefolding_indent_unfolded.png\n",
      "\u001b[32m[I 20:47:58 InstallContribNbextensionsApp]\u001b[m - Validating: \u001b[32mOK\u001b[0m\n",
      "\u001b[32m[I 20:47:58 InstallContribNbextensionsApp]\u001b[m Installing /Users/lukas/anaconda3/envs/hands-on-ml/lib/python3.7/site-packages/jupyter_contrib_nbextensions/nbextensions/collapsible_headings -> collapsible_headings\n",
      "\u001b[32m[I 20:47:58 InstallContribNbextensionsApp]\u001b[m Making directory: /Users/lukas/Library/Jupyter/nbextensions/collapsible_headings/\n",
      "\u001b[32m[I 20:47:58 InstallContribNbextensionsApp]\u001b[m Copying: /Users/lukas/anaconda3/envs/hands-on-ml/lib/python3.7/site-packages/jupyter_contrib_nbextensions/nbextensions/collapsible_headings/icon.png -> /Users/lukas/Library/Jupyter/nbextensions/collapsible_headings/icon.png\n",
      "\u001b[32m[I 20:47:58 InstallContribNbextensionsApp]\u001b[m Copying: /Users/lukas/anaconda3/envs/hands-on-ml/lib/python3.7/site-packages/jupyter_contrib_nbextensions/nbextensions/collapsible_headings/screenshot.png -> /Users/lukas/Library/Jupyter/nbextensions/collapsible_headings/screenshot.png\n",
      "\u001b[32m[I 20:47:58 InstallContribNbextensionsApp]\u001b[m Copying: /Users/lukas/anaconda3/envs/hands-on-ml/lib/python3.7/site-packages/jupyter_contrib_nbextensions/nbextensions/collapsible_headings/main.css -> /Users/lukas/Library/Jupyter/nbextensions/collapsible_headings/main.css\n",
      "\u001b[32m[I 20:47:58 InstallContribNbextensionsApp]\u001b[m Copying: /Users/lukas/anaconda3/envs/hands-on-ml/lib/python3.7/site-packages/jupyter_contrib_nbextensions/nbextensions/collapsible_headings/readme.md -> /Users/lukas/Library/Jupyter/nbextensions/collapsible_headings/readme.md\n",
      "\u001b[32m[I 20:47:58 InstallContribNbextensionsApp]\u001b[m Copying: /Users/lukas/anaconda3/envs/hands-on-ml/lib/python3.7/site-packages/jupyter_contrib_nbextensions/nbextensions/collapsible_headings/main.js -> /Users/lukas/Library/Jupyter/nbextensions/collapsible_headings/main.js\n",
      "\u001b[32m[I 20:47:58 InstallContribNbextensionsApp]\u001b[m Copying: /Users/lukas/anaconda3/envs/hands-on-ml/lib/python3.7/site-packages/jupyter_contrib_nbextensions/nbextensions/collapsible_headings/collapsible_headings.yaml -> /Users/lukas/Library/Jupyter/nbextensions/collapsible_headings/collapsible_headings.yaml\n",
      "\u001b[32m[I 20:47:58 InstallContribNbextensionsApp]\u001b[m - Validating: \u001b[32mOK\u001b[0m\n",
      "\u001b[32m[I 20:47:58 InstallContribNbextensionsApp]\u001b[m Installing /Users/lukas/anaconda3/envs/hands-on-ml/lib/python3.7/site-packages/jupyter_contrib_nbextensions/nbextensions/exercise -> exercise\n",
      "\u001b[32m[I 20:47:58 InstallContribNbextensionsApp]\u001b[m Making directory: /Users/lukas/Library/Jupyter/nbextensions/exercise/\n",
      "\u001b[32m[I 20:47:58 InstallContribNbextensionsApp]\u001b[m Copying: /Users/lukas/anaconda3/envs/hands-on-ml/lib/python3.7/site-packages/jupyter_contrib_nbextensions/nbextensions/exercise/icon.png -> /Users/lukas/Library/Jupyter/nbextensions/exercise/icon.png\n",
      "\u001b[32m[I 20:47:58 InstallContribNbextensionsApp]\u001b[m Copying: /Users/lukas/anaconda3/envs/hands-on-ml/lib/python3.7/site-packages/jupyter_contrib_nbextensions/nbextensions/exercise/history.md -> /Users/lukas/Library/Jupyter/nbextensions/exercise/history.md\n",
      "\u001b[32m[I 20:47:58 InstallContribNbextensionsApp]\u001b[m Copying: /Users/lukas/anaconda3/envs/hands-on-ml/lib/python3.7/site-packages/jupyter_contrib_nbextensions/nbextensions/exercise/main.css -> /Users/lukas/Library/Jupyter/nbextensions/exercise/main.css\n",
      "\u001b[32m[I 20:47:58 InstallContribNbextensionsApp]\u001b[m Copying: /Users/lukas/anaconda3/envs/hands-on-ml/lib/python3.7/site-packages/jupyter_contrib_nbextensions/nbextensions/exercise/image.gif -> /Users/lukas/Library/Jupyter/nbextensions/exercise/image.gif\n",
      "\u001b[32m[I 20:47:58 InstallContribNbextensionsApp]\u001b[m Copying: /Users/lukas/anaconda3/envs/hands-on-ml/lib/python3.7/site-packages/jupyter_contrib_nbextensions/nbextensions/exercise/readme.md -> /Users/lukas/Library/Jupyter/nbextensions/exercise/readme.md\n",
      "\u001b[32m[I 20:47:58 InstallContribNbextensionsApp]\u001b[m Copying: /Users/lukas/anaconda3/envs/hands-on-ml/lib/python3.7/site-packages/jupyter_contrib_nbextensions/nbextensions/exercise/main.js -> /Users/lukas/Library/Jupyter/nbextensions/exercise/main.js\n",
      "\u001b[32m[I 20:47:58 InstallContribNbextensionsApp]\u001b[m Copying: /Users/lukas/anaconda3/envs/hands-on-ml/lib/python3.7/site-packages/jupyter_contrib_nbextensions/nbextensions/exercise/exercise.yaml -> /Users/lukas/Library/Jupyter/nbextensions/exercise/exercise.yaml\n",
      "\u001b[32m[I 20:47:58 InstallContribNbextensionsApp]\u001b[m - Validating: \u001b[32mOK\u001b[0m\n",
      "\u001b[32m[I 20:47:58 InstallContribNbextensionsApp]\u001b[m Installing /Users/lukas/anaconda3/envs/hands-on-ml/lib/python3.7/site-packages/jupyter_contrib_nbextensions/nbextensions/codemirror_mode_extensions -> codemirror_mode_extensions\n",
      "\u001b[32m[I 20:47:58 InstallContribNbextensionsApp]\u001b[m Making directory: /Users/lukas/Library/Jupyter/nbextensions/codemirror_mode_extensions/\n",
      "\u001b[32m[I 20:47:58 InstallContribNbextensionsApp]\u001b[m Copying: /Users/lukas/anaconda3/envs/hands-on-ml/lib/python3.7/site-packages/jupyter_contrib_nbextensions/nbextensions/codemirror_mode_extensions/codemirror_mode_extensions.yaml -> /Users/lukas/Library/Jupyter/nbextensions/codemirror_mode_extensions/codemirror_mode_extensions.yaml\n",
      "\u001b[32m[I 20:47:58 InstallContribNbextensionsApp]\u001b[m Copying: /Users/lukas/anaconda3/envs/hands-on-ml/lib/python3.7/site-packages/jupyter_contrib_nbextensions/nbextensions/codemirror_mode_extensions/main.js -> /Users/lukas/Library/Jupyter/nbextensions/codemirror_mode_extensions/main.js\n",
      "\u001b[32m[I 20:47:58 InstallContribNbextensionsApp]\u001b[m - Validating: \u001b[32mOK\u001b[0m\n",
      "\u001b[32m[I 20:47:58 InstallContribNbextensionsApp]\u001b[m Installing /Users/lukas/anaconda3/envs/hands-on-ml/lib/python3.7/site-packages/jupyter_contrib_nbextensions/nbextensions/ruler -> ruler\n",
      "\u001b[32m[I 20:47:58 InstallContribNbextensionsApp]\u001b[m Making directory: /Users/lukas/Library/Jupyter/nbextensions/ruler/\n",
      "\u001b[32m[I 20:47:58 InstallContribNbextensionsApp]\u001b[m Copying: /Users/lukas/anaconda3/envs/hands-on-ml/lib/python3.7/site-packages/jupyter_contrib_nbextensions/nbextensions/ruler/icon.png -> /Users/lukas/Library/Jupyter/nbextensions/ruler/icon.png\n",
      "\u001b[32m[I 20:47:58 InstallContribNbextensionsApp]\u001b[m Copying: /Users/lukas/anaconda3/envs/hands-on-ml/lib/python3.7/site-packages/jupyter_contrib_nbextensions/nbextensions/ruler/edit.js -> /Users/lukas/Library/Jupyter/nbextensions/ruler/edit.js\n",
      "\u001b[32m[I 20:47:58 InstallContribNbextensionsApp]\u001b[m Copying: /Users/lukas/anaconda3/envs/hands-on-ml/lib/python3.7/site-packages/jupyter_contrib_nbextensions/nbextensions/ruler/ruler_editor.yaml -> /Users/lukas/Library/Jupyter/nbextensions/ruler/ruler_editor.yaml\n",
      "\u001b[32m[I 20:47:58 InstallContribNbextensionsApp]\u001b[m Copying: /Users/lukas/anaconda3/envs/hands-on-ml/lib/python3.7/site-packages/jupyter_contrib_nbextensions/nbextensions/ruler/readme.md -> /Users/lukas/Library/Jupyter/nbextensions/ruler/readme.md\n",
      "\u001b[32m[I 20:47:58 InstallContribNbextensionsApp]\u001b[m Copying: /Users/lukas/anaconda3/envs/hands-on-ml/lib/python3.7/site-packages/jupyter_contrib_nbextensions/nbextensions/ruler/main.js -> /Users/lukas/Library/Jupyter/nbextensions/ruler/main.js\n",
      "\u001b[32m[I 20:47:58 InstallContribNbextensionsApp]\u001b[m Copying: /Users/lukas/anaconda3/envs/hands-on-ml/lib/python3.7/site-packages/jupyter_contrib_nbextensions/nbextensions/ruler/ruler.yaml -> /Users/lukas/Library/Jupyter/nbextensions/ruler/ruler.yaml\n",
      "\u001b[32m[I 20:47:58 InstallContribNbextensionsApp]\u001b[m - Validating: \u001b[32mOK\u001b[0m\n",
      "\u001b[32m[I 20:47:58 InstallContribNbextensionsApp]\u001b[m Installing /Users/lukas/anaconda3/envs/hands-on-ml/lib/python3.7/site-packages/jupyter_contrib_nbextensions/nbextensions/ruler -> ruler\n",
      "\u001b[32m[I 20:47:58 InstallContribNbextensionsApp]\u001b[m Up to date: /Users/lukas/Library/Jupyter/nbextensions/ruler/icon.png\n",
      "\u001b[32m[I 20:47:58 InstallContribNbextensionsApp]\u001b[m Up to date: /Users/lukas/Library/Jupyter/nbextensions/ruler/edit.js\n",
      "\u001b[32m[I 20:47:58 InstallContribNbextensionsApp]\u001b[m Up to date: /Users/lukas/Library/Jupyter/nbextensions/ruler/ruler_editor.yaml\n",
      "\u001b[32m[I 20:47:58 InstallContribNbextensionsApp]\u001b[m Up to date: /Users/lukas/Library/Jupyter/nbextensions/ruler/readme.md\n",
      "\u001b[32m[I 20:47:58 InstallContribNbextensionsApp]\u001b[m Up to date: /Users/lukas/Library/Jupyter/nbextensions/ruler/main.js\n",
      "\u001b[32m[I 20:47:58 InstallContribNbextensionsApp]\u001b[m Up to date: /Users/lukas/Library/Jupyter/nbextensions/ruler/ruler.yaml\n",
      "\u001b[32m[I 20:47:58 InstallContribNbextensionsApp]\u001b[m - Validating: \u001b[32mOK\u001b[0m\n",
      "\u001b[32m[I 20:47:58 InstallContribNbextensionsApp]\u001b[m Installing /Users/lukas/anaconda3/envs/hands-on-ml/lib/python3.7/site-packages/jupyter_contrib_nbextensions/nbextensions/contrib_nbextensions_help_item -> contrib_nbextensions_help_item\n",
      "\u001b[32m[I 20:47:58 InstallContribNbextensionsApp]\u001b[m Making directory: /Users/lukas/Library/Jupyter/nbextensions/contrib_nbextensions_help_item/\n",
      "\u001b[32m[I 20:47:58 InstallContribNbextensionsApp]\u001b[m Copying: /Users/lukas/anaconda3/envs/hands-on-ml/lib/python3.7/site-packages/jupyter_contrib_nbextensions/nbextensions/contrib_nbextensions_help_item/README.md -> /Users/lukas/Library/Jupyter/nbextensions/contrib_nbextensions_help_item/README.md\n",
      "\u001b[32m[I 20:47:58 InstallContribNbextensionsApp]\u001b[m Copying: /Users/lukas/anaconda3/envs/hands-on-ml/lib/python3.7/site-packages/jupyter_contrib_nbextensions/nbextensions/contrib_nbextensions_help_item/main.js -> /Users/lukas/Library/Jupyter/nbextensions/contrib_nbextensions_help_item/main.js\n",
      "\u001b[32m[I 20:47:58 InstallContribNbextensionsApp]\u001b[m Copying: /Users/lukas/anaconda3/envs/hands-on-ml/lib/python3.7/site-packages/jupyter_contrib_nbextensions/nbextensions/contrib_nbextensions_help_item/contrib_nbextensions_help_item.yaml -> /Users/lukas/Library/Jupyter/nbextensions/contrib_nbextensions_help_item/contrib_nbextensions_help_item.yaml\n",
      "\u001b[32m[I 20:47:58 InstallContribNbextensionsApp]\u001b[m - Validating: \u001b[32mOK\u001b[0m\n",
      "\u001b[32m[I 20:47:58 InstallContribNbextensionsApp]\u001b[m Installing /Users/lukas/anaconda3/envs/hands-on-ml/lib/python3.7/site-packages/jupyter_contrib_nbextensions/nbextensions/datestamper -> datestamper\n",
      "\u001b[32m[I 20:47:58 InstallContribNbextensionsApp]\u001b[m Making directory: /Users/lukas/Library/Jupyter/nbextensions/datestamper/\n",
      "\u001b[32m[I 20:47:58 InstallContribNbextensionsApp]\u001b[m Copying: /Users/lukas/anaconda3/envs/hands-on-ml/lib/python3.7/site-packages/jupyter_contrib_nbextensions/nbextensions/datestamper/icon.png -> /Users/lukas/Library/Jupyter/nbextensions/datestamper/icon.png\n",
      "\u001b[32m[I 20:47:58 InstallContribNbextensionsApp]\u001b[m Copying: /Users/lukas/anaconda3/envs/hands-on-ml/lib/python3.7/site-packages/jupyter_contrib_nbextensions/nbextensions/datestamper/main.yaml -> /Users/lukas/Library/Jupyter/nbextensions/datestamper/main.yaml\n",
      "\u001b[32m[I 20:47:58 InstallContribNbextensionsApp]\u001b[m Copying: /Users/lukas/anaconda3/envs/hands-on-ml/lib/python3.7/site-packages/jupyter_contrib_nbextensions/nbextensions/datestamper/readme.md -> /Users/lukas/Library/Jupyter/nbextensions/datestamper/readme.md\n",
      "\u001b[32m[I 20:47:58 InstallContribNbextensionsApp]\u001b[m Copying: /Users/lukas/anaconda3/envs/hands-on-ml/lib/python3.7/site-packages/jupyter_contrib_nbextensions/nbextensions/datestamper/main.js -> /Users/lukas/Library/Jupyter/nbextensions/datestamper/main.js\n",
      "\u001b[32m[I 20:47:58 InstallContribNbextensionsApp]\u001b[m - Validating: \u001b[32mOK\u001b[0m\n",
      "\u001b[32m[I 20:47:58 InstallContribNbextensionsApp]\u001b[m Installing /Users/lukas/anaconda3/envs/hands-on-ml/lib/python3.7/site-packages/jupyter_contrib_nbextensions/nbextensions/init_cell -> init_cell\n",
      "\u001b[32m[I 20:47:58 InstallContribNbextensionsApp]\u001b[m Making directory: /Users/lukas/Library/Jupyter/nbextensions/init_cell/\n",
      "\u001b[32m[I 20:47:58 InstallContribNbextensionsApp]\u001b[m Copying: /Users/lukas/anaconda3/envs/hands-on-ml/lib/python3.7/site-packages/jupyter_contrib_nbextensions/nbextensions/init_cell/init_cell.yaml -> /Users/lukas/Library/Jupyter/nbextensions/init_cell/init_cell.yaml\n",
      "\u001b[32m[I 20:47:58 InstallContribNbextensionsApp]\u001b[m Copying: /Users/lukas/anaconda3/envs/hands-on-ml/lib/python3.7/site-packages/jupyter_contrib_nbextensions/nbextensions/init_cell/icon.png -> /Users/lukas/Library/Jupyter/nbextensions/init_cell/icon.png\n",
      "\u001b[32m[I 20:47:58 InstallContribNbextensionsApp]\u001b[m Copying: /Users/lukas/anaconda3/envs/hands-on-ml/lib/python3.7/site-packages/jupyter_contrib_nbextensions/nbextensions/init_cell/README.md -> /Users/lukas/Library/Jupyter/nbextensions/init_cell/README.md\n",
      "\u001b[32m[I 20:47:58 InstallContribNbextensionsApp]\u001b[m Copying: /Users/lukas/anaconda3/envs/hands-on-ml/lib/python3.7/site-packages/jupyter_contrib_nbextensions/nbextensions/init_cell/main.js -> /Users/lukas/Library/Jupyter/nbextensions/init_cell/main.js\n",
      "\u001b[32m[I 20:47:58 InstallContribNbextensionsApp]\u001b[m Copying: /Users/lukas/anaconda3/envs/hands-on-ml/lib/python3.7/site-packages/jupyter_contrib_nbextensions/nbextensions/init_cell/cell_toolbar_menu.png -> /Users/lukas/Library/Jupyter/nbextensions/init_cell/cell_toolbar_menu.png\n",
      "\u001b[32m[I 20:47:58 InstallContribNbextensionsApp]\u001b[m - Validating: \u001b[32mOK\u001b[0m\n",
      "\u001b[32m[I 20:47:58 InstallContribNbextensionsApp]\u001b[m Installing /Users/lukas/anaconda3/envs/hands-on-ml/lib/python3.7/site-packages/jupyter_contrib_nbextensions/nbextensions/limit_output -> limit_output\n",
      "\u001b[32m[I 20:47:58 InstallContribNbextensionsApp]\u001b[m Making directory: /Users/lukas/Library/Jupyter/nbextensions/limit_output/\n",
      "\u001b[32m[I 20:47:58 InstallContribNbextensionsApp]\u001b[m Copying: /Users/lukas/anaconda3/envs/hands-on-ml/lib/python3.7/site-packages/jupyter_contrib_nbextensions/nbextensions/limit_output/icon.png -> /Users/lukas/Library/Jupyter/nbextensions/limit_output/icon.png\n",
      "\u001b[32m[I 20:47:58 InstallContribNbextensionsApp]\u001b[m Copying: /Users/lukas/anaconda3/envs/hands-on-ml/lib/python3.7/site-packages/jupyter_contrib_nbextensions/nbextensions/limit_output/readme.md -> /Users/lukas/Library/Jupyter/nbextensions/limit_output/readme.md\n",
      "\u001b[32m[I 20:47:58 InstallContribNbextensionsApp]\u001b[m Copying: /Users/lukas/anaconda3/envs/hands-on-ml/lib/python3.7/site-packages/jupyter_contrib_nbextensions/nbextensions/limit_output/main.js -> /Users/lukas/Library/Jupyter/nbextensions/limit_output/main.js\n",
      "\u001b[32m[I 20:47:58 InstallContribNbextensionsApp]\u001b[m Copying: /Users/lukas/anaconda3/envs/hands-on-ml/lib/python3.7/site-packages/jupyter_contrib_nbextensions/nbextensions/limit_output/limit-output.yaml -> /Users/lukas/Library/Jupyter/nbextensions/limit_output/limit-output.yaml\n",
      "\u001b[32m[I 20:47:58 InstallContribNbextensionsApp]\u001b[m - Validating: \u001b[32mOK\u001b[0m\n",
      "\u001b[32m[I 20:47:58 InstallContribNbextensionsApp]\u001b[m Installing /Users/lukas/anaconda3/envs/hands-on-ml/lib/python3.7/site-packages/jupyter_contrib_nbextensions/nbextensions/qtconsole -> qtconsole\n",
      "\u001b[32m[I 20:47:58 InstallContribNbextensionsApp]\u001b[m Making directory: /Users/lukas/Library/Jupyter/nbextensions/qtconsole/\n",
      "\u001b[32m[I 20:47:58 InstallContribNbextensionsApp]\u001b[m Copying: /Users/lukas/anaconda3/envs/hands-on-ml/lib/python3.7/site-packages/jupyter_contrib_nbextensions/nbextensions/qtconsole/qtconsole.js -> /Users/lukas/Library/Jupyter/nbextensions/qtconsole/qtconsole.js\n",
      "\u001b[32m[I 20:47:58 InstallContribNbextensionsApp]\u001b[m Copying: /Users/lukas/anaconda3/envs/hands-on-ml/lib/python3.7/site-packages/jupyter_contrib_nbextensions/nbextensions/qtconsole/qtconsole.yaml -> /Users/lukas/Library/Jupyter/nbextensions/qtconsole/qtconsole.yaml\n",
      "\u001b[32m[I 20:47:58 InstallContribNbextensionsApp]\u001b[m Copying: /Users/lukas/anaconda3/envs/hands-on-ml/lib/python3.7/site-packages/jupyter_contrib_nbextensions/nbextensions/qtconsole/README.md -> /Users/lukas/Library/Jupyter/nbextensions/qtconsole/README.md\n",
      "\u001b[32m[I 20:47:58 InstallContribNbextensionsApp]\u001b[m - Validating: \u001b[32mOK\u001b[0m\n",
      "\u001b[32m[I 20:47:58 InstallContribNbextensionsApp]\u001b[m Installing /Users/lukas/anaconda3/envs/hands-on-ml/lib/python3.7/site-packages/jupyter_contrib_nbextensions/nbextensions/addbefore -> addbefore\n",
      "\u001b[32m[I 20:47:58 InstallContribNbextensionsApp]\u001b[m Making directory: /Users/lukas/Library/Jupyter/nbextensions/addbefore/\n",
      "\u001b[32m[I 20:47:58 InstallContribNbextensionsApp]\u001b[m Copying: /Users/lukas/anaconda3/envs/hands-on-ml/lib/python3.7/site-packages/jupyter_contrib_nbextensions/nbextensions/addbefore/icon.png -> /Users/lukas/Library/Jupyter/nbextensions/addbefore/icon.png\n",
      "\u001b[32m[I 20:47:58 InstallContribNbextensionsApp]\u001b[m Copying: /Users/lukas/anaconda3/envs/hands-on-ml/lib/python3.7/site-packages/jupyter_contrib_nbextensions/nbextensions/addbefore/readme.md -> /Users/lukas/Library/Jupyter/nbextensions/addbefore/readme.md\n",
      "\u001b[32m[I 20:47:58 InstallContribNbextensionsApp]\u001b[m Copying: /Users/lukas/anaconda3/envs/hands-on-ml/lib/python3.7/site-packages/jupyter_contrib_nbextensions/nbextensions/addbefore/main.js -> /Users/lukas/Library/Jupyter/nbextensions/addbefore/main.js\n",
      "\u001b[32m[I 20:47:58 InstallContribNbextensionsApp]\u001b[m Copying: /Users/lukas/anaconda3/envs/hands-on-ml/lib/python3.7/site-packages/jupyter_contrib_nbextensions/nbextensions/addbefore/addbefore.yaml -> /Users/lukas/Library/Jupyter/nbextensions/addbefore/addbefore.yaml\n",
      "\u001b[32m[I 20:47:58 InstallContribNbextensionsApp]\u001b[m - Validating: \u001b[32mOK\u001b[0m\n",
      "\u001b[32m[I 20:47:58 InstallContribNbextensionsApp]\u001b[m Installing /Users/lukas/anaconda3/envs/hands-on-ml/lib/python3.7/site-packages/jupyter_contrib_nbextensions/nbextensions/highlighter -> highlighter\n",
      "\u001b[32m[I 20:47:58 InstallContribNbextensionsApp]\u001b[m Making directory: /Users/lukas/Library/Jupyter/nbextensions/highlighter/\n",
      "\u001b[32m[I 20:47:58 InstallContribNbextensionsApp]\u001b[m Copying: /Users/lukas/anaconda3/envs/hands-on-ml/lib/python3.7/site-packages/jupyter_contrib_nbextensions/nbextensions/highlighter/icon.png -> /Users/lukas/Library/Jupyter/nbextensions/highlighter/icon.png\n",
      "\u001b[32m[I 20:47:58 InstallContribNbextensionsApp]\u001b[m Copying: /Users/lukas/anaconda3/envs/hands-on-ml/lib/python3.7/site-packages/jupyter_contrib_nbextensions/nbextensions/highlighter/export_highlights.pdf -> /Users/lukas/Library/Jupyter/nbextensions/highlighter/export_highlights.pdf\n",
      "\u001b[32m[I 20:47:58 InstallContribNbextensionsApp]\u001b[m Copying: /Users/lukas/anaconda3/envs/hands-on-ml/lib/python3.7/site-packages/jupyter_contrib_nbextensions/nbextensions/highlighter/demo_highlighter.html -> /Users/lukas/Library/Jupyter/nbextensions/highlighter/demo_highlighter.html\n",
      "\u001b[32m[I 20:47:58 InstallContribNbextensionsApp]\u001b[m Copying: /Users/lukas/anaconda3/envs/hands-on-ml/lib/python3.7/site-packages/jupyter_contrib_nbextensions/nbextensions/highlighter/demo_highlighter.ipynb -> /Users/lukas/Library/Jupyter/nbextensions/highlighter/demo_highlighter.ipynb\n",
      "\u001b[32m[I 20:47:58 InstallContribNbextensionsApp]\u001b[m Copying: /Users/lukas/anaconda3/envs/hands-on-ml/lib/python3.7/site-packages/jupyter_contrib_nbextensions/nbextensions/highlighter/tst_highlights.ipynb -> /Users/lukas/Library/Jupyter/nbextensions/highlighter/tst_highlights.ipynb\n",
      "\u001b[32m[I 20:47:58 InstallContribNbextensionsApp]\u001b[m Copying: /Users/lukas/anaconda3/envs/hands-on-ml/lib/python3.7/site-packages/jupyter_contrib_nbextensions/nbextensions/highlighter/export_highlights.ipynb -> /Users/lukas/Library/Jupyter/nbextensions/highlighter/export_highlights.ipynb\n",
      "\u001b[32m[I 20:47:58 InstallContribNbextensionsApp]\u001b[m Copying: /Users/lukas/anaconda3/envs/hands-on-ml/lib/python3.7/site-packages/jupyter_contrib_nbextensions/nbextensions/highlighter/tst_highlights.html -> /Users/lukas/Library/Jupyter/nbextensions/highlighter/tst_highlights.html\n",
      "\u001b[32m[I 20:47:58 InstallContribNbextensionsApp]\u001b[m Copying: /Users/lukas/anaconda3/envs/hands-on-ml/lib/python3.7/site-packages/jupyter_contrib_nbextensions/nbextensions/highlighter/export_highlights.tex -> /Users/lukas/Library/Jupyter/nbextensions/highlighter/export_highlights.tex\n",
      "\u001b[32m[I 20:47:58 InstallContribNbextensionsApp]\u001b[m Copying: /Users/lukas/anaconda3/envs/hands-on-ml/lib/python3.7/site-packages/jupyter_contrib_nbextensions/nbextensions/highlighter/image.gif -> /Users/lukas/Library/Jupyter/nbextensions/highlighter/image.gif\n",
      "\u001b[32m[I 20:47:58 InstallContribNbextensionsApp]\u001b[m Copying: /Users/lukas/anaconda3/envs/hands-on-ml/lib/python3.7/site-packages/jupyter_contrib_nbextensions/nbextensions/highlighter/readme.md -> /Users/lukas/Library/Jupyter/nbextensions/highlighter/readme.md\n",
      "\u001b[32m[I 20:47:58 InstallContribNbextensionsApp]\u001b[m Copying: /Users/lukas/anaconda3/envs/hands-on-ml/lib/python3.7/site-packages/jupyter_contrib_nbextensions/nbextensions/highlighter/highlighter.css -> /Users/lukas/Library/Jupyter/nbextensions/highlighter/highlighter.css\n",
      "\u001b[32m[I 20:47:58 InstallContribNbextensionsApp]\u001b[m Copying: /Users/lukas/anaconda3/envs/hands-on-ml/lib/python3.7/site-packages/jupyter_contrib_nbextensions/nbextensions/highlighter/tst_highlights.pdf -> /Users/lukas/Library/Jupyter/nbextensions/highlighter/tst_highlights.pdf\n",
      "\u001b[32m[I 20:47:58 InstallContribNbextensionsApp]\u001b[m Copying: /Users/lukas/anaconda3/envs/hands-on-ml/lib/python3.7/site-packages/jupyter_contrib_nbextensions/nbextensions/highlighter/export_highlights.html -> /Users/lukas/Library/Jupyter/nbextensions/highlighter/export_highlights.html\n",
      "\u001b[32m[I 20:47:58 InstallContribNbextensionsApp]\u001b[m Copying: /Users/lukas/anaconda3/envs/hands-on-ml/lib/python3.7/site-packages/jupyter_contrib_nbextensions/nbextensions/highlighter/tst_highlights.tex -> /Users/lukas/Library/Jupyter/nbextensions/highlighter/tst_highlights.tex\n",
      "\u001b[32m[I 20:47:58 InstallContribNbextensionsApp]\u001b[m Copying: /Users/lukas/anaconda3/envs/hands-on-ml/lib/python3.7/site-packages/jupyter_contrib_nbextensions/nbextensions/highlighter/highlighter.yaml -> /Users/lukas/Library/Jupyter/nbextensions/highlighter/highlighter.yaml\n",
      "\u001b[32m[I 20:47:58 InstallContribNbextensionsApp]\u001b[m Copying: /Users/lukas/anaconda3/envs/hands-on-ml/lib/python3.7/site-packages/jupyter_contrib_nbextensions/nbextensions/highlighter/highlighter.js -> /Users/lukas/Library/Jupyter/nbextensions/highlighter/highlighter.js\n",
      "\u001b[32m[I 20:47:58 InstallContribNbextensionsApp]\u001b[m - Validating: \u001b[32mOK\u001b[0m\n",
      "\u001b[32m[I 20:47:58 InstallContribNbextensionsApp]\u001b[m Installing /Users/lukas/anaconda3/envs/hands-on-ml/lib/python3.7/site-packages/jupyter_contrib_nbextensions/nbextensions/comment-uncomment -> comment-uncomment\n",
      "\u001b[32m[I 20:47:58 InstallContribNbextensionsApp]\u001b[m Making directory: /Users/lukas/Library/Jupyter/nbextensions/comment-uncomment/\n",
      "\u001b[32m[I 20:47:58 InstallContribNbextensionsApp]\u001b[m Copying: /Users/lukas/anaconda3/envs/hands-on-ml/lib/python3.7/site-packages/jupyter_contrib_nbextensions/nbextensions/comment-uncomment/icon.png -> /Users/lukas/Library/Jupyter/nbextensions/comment-uncomment/icon.png\n",
      "\u001b[32m[I 20:47:58 InstallContribNbextensionsApp]\u001b[m Copying: /Users/lukas/anaconda3/envs/hands-on-ml/lib/python3.7/site-packages/jupyter_contrib_nbextensions/nbextensions/comment-uncomment/readme.md -> /Users/lukas/Library/Jupyter/nbextensions/comment-uncomment/readme.md\n",
      "\u001b[32m[I 20:47:58 InstallContribNbextensionsApp]\u001b[m Copying: /Users/lukas/anaconda3/envs/hands-on-ml/lib/python3.7/site-packages/jupyter_contrib_nbextensions/nbextensions/comment-uncomment/main.js -> /Users/lukas/Library/Jupyter/nbextensions/comment-uncomment/main.js\n",
      "\u001b[32m[I 20:47:58 InstallContribNbextensionsApp]\u001b[m Copying: /Users/lukas/anaconda3/envs/hands-on-ml/lib/python3.7/site-packages/jupyter_contrib_nbextensions/nbextensions/comment-uncomment/comment-uncomment.yaml -> /Users/lukas/Library/Jupyter/nbextensions/comment-uncomment/comment-uncomment.yaml\n",
      "\u001b[32m[I 20:47:58 InstallContribNbextensionsApp]\u001b[m - Validating: \u001b[32mOK\u001b[0m\n",
      "\u001b[32m[I 20:47:58 InstallContribNbextensionsApp]\u001b[m Installing /Users/lukas/anaconda3/envs/hands-on-ml/lib/python3.7/site-packages/jupyter_contrib_nbextensions/nbextensions/code_font_size -> code_font_size\n",
      "\u001b[32m[I 20:47:58 InstallContribNbextensionsApp]\u001b[m Making directory: /Users/lukas/Library/Jupyter/nbextensions/code_font_size/\n",
      "\u001b[32m[I 20:47:58 InstallContribNbextensionsApp]\u001b[m Copying: /Users/lukas/anaconda3/envs/hands-on-ml/lib/python3.7/site-packages/jupyter_contrib_nbextensions/nbextensions/code_font_size/code_font_size.yaml -> /Users/lukas/Library/Jupyter/nbextensions/code_font_size/code_font_size.yaml\n",
      "\u001b[32m[I 20:47:58 InstallContribNbextensionsApp]\u001b[m Copying: /Users/lukas/anaconda3/envs/hands-on-ml/lib/python3.7/site-packages/jupyter_contrib_nbextensions/nbextensions/code_font_size/code_font_size.js -> /Users/lukas/Library/Jupyter/nbextensions/code_font_size/code_font_size.js\n",
      "\u001b[32m[I 20:47:58 InstallContribNbextensionsApp]\u001b[m Copying: /Users/lukas/anaconda3/envs/hands-on-ml/lib/python3.7/site-packages/jupyter_contrib_nbextensions/nbextensions/code_font_size/README.md -> /Users/lukas/Library/Jupyter/nbextensions/code_font_size/README.md\n",
      "\u001b[32m[I 20:47:58 InstallContribNbextensionsApp]\u001b[m - Validating: \u001b[32mOK\u001b[0m\n",
      "\u001b[32m[I 20:47:58 InstallContribNbextensionsApp]\u001b[m Installing /Users/lukas/anaconda3/envs/hands-on-ml/lib/python3.7/site-packages/jupyter_contrib_nbextensions/nbextensions/varInspector -> varInspector\n",
      "\u001b[32m[I 20:47:58 InstallContribNbextensionsApp]\u001b[m Making directory: /Users/lukas/Library/Jupyter/nbextensions/varInspector/\n",
      "\u001b[32m[I 20:47:58 InstallContribNbextensionsApp]\u001b[m Copying: /Users/lukas/anaconda3/envs/hands-on-ml/lib/python3.7/site-packages/jupyter_contrib_nbextensions/nbextensions/varInspector/icon.png -> /Users/lukas/Library/Jupyter/nbextensions/varInspector/icon.png\n",
      "\u001b[32m[I 20:47:58 InstallContribNbextensionsApp]\u001b[m Copying: /Users/lukas/anaconda3/envs/hands-on-ml/lib/python3.7/site-packages/jupyter_contrib_nbextensions/nbextensions/varInspector/jquery.tablesorter.min.js -> /Users/lukas/Library/Jupyter/nbextensions/varInspector/jquery.tablesorter.min.js\n",
      "\u001b[32m[I 20:47:58 InstallContribNbextensionsApp]\u001b[m Copying: /Users/lukas/anaconda3/envs/hands-on-ml/lib/python3.7/site-packages/jupyter_contrib_nbextensions/nbextensions/varInspector/varInspector.yaml -> /Users/lukas/Library/Jupyter/nbextensions/varInspector/varInspector.yaml\n",
      "\u001b[32m[I 20:47:58 InstallContribNbextensionsApp]\u001b[m Copying: /Users/lukas/anaconda3/envs/hands-on-ml/lib/python3.7/site-packages/jupyter_contrib_nbextensions/nbextensions/varInspector/main.css -> /Users/lukas/Library/Jupyter/nbextensions/varInspector/main.css\n",
      "\u001b[32m[I 20:47:58 InstallContribNbextensionsApp]\u001b[m Copying: /Users/lukas/anaconda3/envs/hands-on-ml/lib/python3.7/site-packages/jupyter_contrib_nbextensions/nbextensions/varInspector/var_list.py -> /Users/lukas/Library/Jupyter/nbextensions/varInspector/var_list.py\n",
      "\u001b[32m[I 20:47:58 InstallContribNbextensionsApp]\u001b[m Copying: /Users/lukas/anaconda3/envs/hands-on-ml/lib/python3.7/site-packages/jupyter_contrib_nbextensions/nbextensions/varInspector/README.md -> /Users/lukas/Library/Jupyter/nbextensions/varInspector/README.md\n",
      "\u001b[32m[I 20:47:58 InstallContribNbextensionsApp]\u001b[m Copying: /Users/lukas/anaconda3/envs/hands-on-ml/lib/python3.7/site-packages/jupyter_contrib_nbextensions/nbextensions/varInspector/main.js -> /Users/lukas/Library/Jupyter/nbextensions/varInspector/main.js\n",
      "\u001b[32m[I 20:47:58 InstallContribNbextensionsApp]\u001b[m Copying: /Users/lukas/anaconda3/envs/hands-on-ml/lib/python3.7/site-packages/jupyter_contrib_nbextensions/nbextensions/varInspector/var_list.r -> /Users/lukas/Library/Jupyter/nbextensions/varInspector/var_list.r\n",
      "\u001b[32m[I 20:47:58 InstallContribNbextensionsApp]\u001b[m Copying: /Users/lukas/anaconda3/envs/hands-on-ml/lib/python3.7/site-packages/jupyter_contrib_nbextensions/nbextensions/varInspector/tablesorter_LICENSE.txt -> /Users/lukas/Library/Jupyter/nbextensions/varInspector/tablesorter_LICENSE.txt\n",
      "\u001b[32m[I 20:47:58 InstallContribNbextensionsApp]\u001b[m Copying: /Users/lukas/anaconda3/envs/hands-on-ml/lib/python3.7/site-packages/jupyter_contrib_nbextensions/nbextensions/varInspector/demo.gif -> /Users/lukas/Library/Jupyter/nbextensions/varInspector/demo.gif\n",
      "\u001b[32m[I 20:47:58 InstallContribNbextensionsApp]\u001b[m Making directory: /Users/lukas/Library/Jupyter/nbextensions/varInspector/__pycache__\n",
      "\u001b[32m[I 20:47:58 InstallContribNbextensionsApp]\u001b[m Copying: /Users/lukas/anaconda3/envs/hands-on-ml/lib/python3.7/site-packages/jupyter_contrib_nbextensions/nbextensions/varInspector/__pycache__/var_list.cpython-37.pyc -> /Users/lukas/Library/Jupyter/nbextensions/varInspector/__pycache__/var_list.cpython-37.pyc\n",
      "\u001b[32m[I 20:47:58 InstallContribNbextensionsApp]\u001b[m - Validating: \u001b[32mOK\u001b[0m\n",
      "\u001b[32m[I 20:47:58 InstallContribNbextensionsApp]\u001b[m Installing /Users/lukas/anaconda3/envs/hands-on-ml/lib/python3.7/site-packages/jupyter_contrib_nbextensions/nbextensions/execute_time -> execute_time\n",
      "\u001b[32m[I 20:47:58 InstallContribNbextensionsApp]\u001b[m Making directory: /Users/lukas/Library/Jupyter/nbextensions/execute_time/\n",
      "\u001b[32m[I 20:47:58 InstallContribNbextensionsApp]\u001b[m Copying: /Users/lukas/anaconda3/envs/hands-on-ml/lib/python3.7/site-packages/jupyter_contrib_nbextensions/nbextensions/execute_time/ExecuteTime.js -> /Users/lukas/Library/Jupyter/nbextensions/execute_time/ExecuteTime.js\n",
      "\u001b[32m[I 20:47:58 InstallContribNbextensionsApp]\u001b[m Copying: /Users/lukas/anaconda3/envs/hands-on-ml/lib/python3.7/site-packages/jupyter_contrib_nbextensions/nbextensions/execute_time/icon.png -> /Users/lukas/Library/Jupyter/nbextensions/execute_time/icon.png\n",
      "\u001b[32m[I 20:47:58 InstallContribNbextensionsApp]\u001b[m Copying: /Users/lukas/anaconda3/envs/hands-on-ml/lib/python3.7/site-packages/jupyter_contrib_nbextensions/nbextensions/execute_time/execution-timings-box.png -> /Users/lukas/Library/Jupyter/nbextensions/execute_time/execution-timings-box.png\n",
      "\u001b[32m[I 20:47:58 InstallContribNbextensionsApp]\u001b[m Copying: /Users/lukas/anaconda3/envs/hands-on-ml/lib/python3.7/site-packages/jupyter_contrib_nbextensions/nbextensions/execute_time/ExecuteTime.css -> /Users/lukas/Library/Jupyter/nbextensions/execute_time/ExecuteTime.css\n",
      "\u001b[32m[I 20:47:58 InstallContribNbextensionsApp]\u001b[m Copying: /Users/lukas/anaconda3/envs/hands-on-ml/lib/python3.7/site-packages/jupyter_contrib_nbextensions/nbextensions/execute_time/ExecuteTime.yaml -> /Users/lukas/Library/Jupyter/nbextensions/execute_time/ExecuteTime.yaml\n",
      "\u001b[32m[I 20:47:58 InstallContribNbextensionsApp]\u001b[m Copying: /Users/lukas/anaconda3/envs/hands-on-ml/lib/python3.7/site-packages/jupyter_contrib_nbextensions/nbextensions/execute_time/execution-timings-menu.png -> /Users/lukas/Library/Jupyter/nbextensions/execute_time/execution-timings-menu.png\n",
      "\u001b[32m[I 20:47:58 InstallContribNbextensionsApp]\u001b[m Copying: /Users/lukas/anaconda3/envs/hands-on-ml/lib/python3.7/site-packages/jupyter_contrib_nbextensions/nbextensions/execute_time/readme.md -> /Users/lukas/Library/Jupyter/nbextensions/execute_time/readme.md\n",
      "\u001b[32m[I 20:47:58 InstallContribNbextensionsApp]\u001b[m - Validating: \u001b[32mOK\u001b[0m\n",
      "\u001b[32m[I 20:47:58 InstallContribNbextensionsApp]\u001b[m Installing /Users/lukas/anaconda3/envs/hands-on-ml/lib/python3.7/site-packages/jupyter_contrib_nbextensions/nbextensions/spellchecker -> spellchecker\n",
      "\u001b[32m[I 20:47:58 InstallContribNbextensionsApp]\u001b[m Making directory: /Users/lukas/Library/Jupyter/nbextensions/spellchecker/\n",
      "\u001b[32m[I 20:47:58 InstallContribNbextensionsApp]\u001b[m Copying: /Users/lukas/anaconda3/envs/hands-on-ml/lib/python3.7/site-packages/jupyter_contrib_nbextensions/nbextensions/spellchecker/download_new_dict.py -> /Users/lukas/Library/Jupyter/nbextensions/spellchecker/download_new_dict.py\n",
      "\u001b[32m[I 20:47:58 InstallContribNbextensionsApp]\u001b[m Copying: /Users/lukas/anaconda3/envs/hands-on-ml/lib/python3.7/site-packages/jupyter_contrib_nbextensions/nbextensions/spellchecker/screenshot.png -> /Users/lukas/Library/Jupyter/nbextensions/spellchecker/screenshot.png\n",
      "\u001b[32m[I 20:47:58 InstallContribNbextensionsApp]\u001b[m Copying: /Users/lukas/anaconda3/envs/hands-on-ml/lib/python3.7/site-packages/jupyter_contrib_nbextensions/nbextensions/spellchecker/config.yaml -> /Users/lukas/Library/Jupyter/nbextensions/spellchecker/config.yaml\n",
      "\u001b[32m[I 20:47:58 InstallContribNbextensionsApp]\u001b[m Copying: /Users/lukas/anaconda3/envs/hands-on-ml/lib/python3.7/site-packages/jupyter_contrib_nbextensions/nbextensions/spellchecker/main.css -> /Users/lukas/Library/Jupyter/nbextensions/spellchecker/main.css\n",
      "\u001b[32m[I 20:47:58 InstallContribNbextensionsApp]\u001b[m Copying: /Users/lukas/anaconda3/envs/hands-on-ml/lib/python3.7/site-packages/jupyter_contrib_nbextensions/nbextensions/spellchecker/README.md -> /Users/lukas/Library/Jupyter/nbextensions/spellchecker/README.md\n",
      "\u001b[32m[I 20:47:58 InstallContribNbextensionsApp]\u001b[m Copying: /Users/lukas/anaconda3/envs/hands-on-ml/lib/python3.7/site-packages/jupyter_contrib_nbextensions/nbextensions/spellchecker/main.js -> /Users/lukas/Library/Jupyter/nbextensions/spellchecker/main.js\n",
      "\u001b[32m[I 20:47:58 InstallContribNbextensionsApp]\u001b[m Making directory: /Users/lukas/Library/Jupyter/nbextensions/spellchecker/typo\n",
      "\u001b[32m[I 20:47:58 InstallContribNbextensionsApp]\u001b[m Copying: /Users/lukas/anaconda3/envs/hands-on-ml/lib/python3.7/site-packages/jupyter_contrib_nbextensions/nbextensions/spellchecker/typo/typo.js -> /Users/lukas/Library/Jupyter/nbextensions/spellchecker/typo/typo.js\n",
      "\u001b[32m[I 20:47:58 InstallContribNbextensionsApp]\u001b[m Copying: /Users/lukas/anaconda3/envs/hands-on-ml/lib/python3.7/site-packages/jupyter_contrib_nbextensions/nbextensions/spellchecker/typo/LICENSE.txt -> /Users/lukas/Library/Jupyter/nbextensions/spellchecker/typo/LICENSE.txt\n",
      "\u001b[32m[I 20:47:58 InstallContribNbextensionsApp]\u001b[m Making directory: /Users/lukas/Library/Jupyter/nbextensions/spellchecker/__pycache__\n",
      "\u001b[32m[I 20:47:58 InstallContribNbextensionsApp]\u001b[m Copying: /Users/lukas/anaconda3/envs/hands-on-ml/lib/python3.7/site-packages/jupyter_contrib_nbextensions/nbextensions/spellchecker/__pycache__/download_new_dict.cpython-37.pyc -> /Users/lukas/Library/Jupyter/nbextensions/spellchecker/__pycache__/download_new_dict.cpython-37.pyc\n",
      "\u001b[32m[I 20:47:58 InstallContribNbextensionsApp]\u001b[m - Validating: \u001b[32mOK\u001b[0m\n",
      "\u001b[32m[I 20:47:58 InstallContribNbextensionsApp]\u001b[m Installing /Users/lukas/anaconda3/envs/hands-on-ml/lib/python3.7/site-packages/jupyter_contrib_nbextensions/nbextensions/code_prettify -> code_prettify\n",
      "\u001b[32m[I 20:47:58 InstallContribNbextensionsApp]\u001b[m Making directory: /Users/lukas/Library/Jupyter/nbextensions/code_prettify/\n",
      "\u001b[32m[I 20:47:58 InstallContribNbextensionsApp]\u001b[m Copying: /Users/lukas/anaconda3/envs/hands-on-ml/lib/python3.7/site-packages/jupyter_contrib_nbextensions/nbextensions/code_prettify/demo-py.gif -> /Users/lukas/Library/Jupyter/nbextensions/code_prettify/demo-py.gif\n",
      "\u001b[32m[I 20:47:58 InstallContribNbextensionsApp]\u001b[m Copying: /Users/lukas/anaconda3/envs/hands-on-ml/lib/python3.7/site-packages/jupyter_contrib_nbextensions/nbextensions/code_prettify/kernel_exec_on_cell.js -> /Users/lukas/Library/Jupyter/nbextensions/code_prettify/kernel_exec_on_cell.js\n",
      "\u001b[32m[I 20:47:58 InstallContribNbextensionsApp]\u001b[m Copying: /Users/lukas/anaconda3/envs/hands-on-ml/lib/python3.7/site-packages/jupyter_contrib_nbextensions/nbextensions/code_prettify/demo-jv.gif -> /Users/lukas/Library/Jupyter/nbextensions/code_prettify/demo-jv.gif\n",
      "\u001b[32m[I 20:47:58 InstallContribNbextensionsApp]\u001b[m Copying: /Users/lukas/anaconda3/envs/hands-on-ml/lib/python3.7/site-packages/jupyter_contrib_nbextensions/nbextensions/code_prettify/README_2to3.md -> /Users/lukas/Library/Jupyter/nbextensions/code_prettify/README_2to3.md\n",
      "\u001b[32m[I 20:47:58 InstallContribNbextensionsApp]\u001b[m Copying: /Users/lukas/anaconda3/envs/hands-on-ml/lib/python3.7/site-packages/jupyter_contrib_nbextensions/nbextensions/code_prettify/2to3.yaml -> /Users/lukas/Library/Jupyter/nbextensions/code_prettify/2to3.yaml\n",
      "\u001b[32m[I 20:47:58 InstallContribNbextensionsApp]\u001b[m Copying: /Users/lukas/anaconda3/envs/hands-on-ml/lib/python3.7/site-packages/jupyter_contrib_nbextensions/nbextensions/code_prettify/README_autopep8.md -> /Users/lukas/Library/Jupyter/nbextensions/code_prettify/README_autopep8.md\n",
      "\u001b[32m[I 20:47:58 InstallContribNbextensionsApp]\u001b[m Copying: /Users/lukas/anaconda3/envs/hands-on-ml/lib/python3.7/site-packages/jupyter_contrib_nbextensions/nbextensions/code_prettify/demo_2to3.gif -> /Users/lukas/Library/Jupyter/nbextensions/code_prettify/demo_2to3.gif\n",
      "\u001b[32m[I 20:47:58 InstallContribNbextensionsApp]\u001b[m Copying: /Users/lukas/anaconda3/envs/hands-on-ml/lib/python3.7/site-packages/jupyter_contrib_nbextensions/nbextensions/code_prettify/README_isort.md -> /Users/lukas/Library/Jupyter/nbextensions/code_prettify/README_isort.md\n",
      "\u001b[32m[I 20:47:58 InstallContribNbextensionsApp]\u001b[m Copying: /Users/lukas/anaconda3/envs/hands-on-ml/lib/python3.7/site-packages/jupyter_contrib_nbextensions/nbextensions/code_prettify/README_code_prettify.md -> /Users/lukas/Library/Jupyter/nbextensions/code_prettify/README_code_prettify.md\n",
      "\u001b[32m[I 20:47:58 InstallContribNbextensionsApp]\u001b[m Copying: /Users/lukas/anaconda3/envs/hands-on-ml/lib/python3.7/site-packages/jupyter_contrib_nbextensions/nbextensions/code_prettify/README.md -> /Users/lukas/Library/Jupyter/nbextensions/code_prettify/README.md\n",
      "\u001b[32m[I 20:47:58 InstallContribNbextensionsApp]\u001b[m Copying: /Users/lukas/anaconda3/envs/hands-on-ml/lib/python3.7/site-packages/jupyter_contrib_nbextensions/nbextensions/code_prettify/code_prettify.js -> /Users/lukas/Library/Jupyter/nbextensions/code_prettify/code_prettify.js\n",
      "\u001b[32m[I 20:47:58 InstallContribNbextensionsApp]\u001b[m Copying: /Users/lukas/anaconda3/envs/hands-on-ml/lib/python3.7/site-packages/jupyter_contrib_nbextensions/nbextensions/code_prettify/autopep8.js -> /Users/lukas/Library/Jupyter/nbextensions/code_prettify/autopep8.js\n",
      "\u001b[32m[I 20:47:58 InstallContribNbextensionsApp]\u001b[m Copying: /Users/lukas/anaconda3/envs/hands-on-ml/lib/python3.7/site-packages/jupyter_contrib_nbextensions/nbextensions/code_prettify/demo-R.gif -> /Users/lukas/Library/Jupyter/nbextensions/code_prettify/demo-R.gif\n",
      "\u001b[32m[I 20:47:58 InstallContribNbextensionsApp]\u001b[m Copying: /Users/lukas/anaconda3/envs/hands-on-ml/lib/python3.7/site-packages/jupyter_contrib_nbextensions/nbextensions/code_prettify/isort.js -> /Users/lukas/Library/Jupyter/nbextensions/code_prettify/isort.js\n",
      "\u001b[32m[I 20:47:58 InstallContribNbextensionsApp]\u001b[m Copying: /Users/lukas/anaconda3/envs/hands-on-ml/lib/python3.7/site-packages/jupyter_contrib_nbextensions/nbextensions/code_prettify/code_prettify.yaml -> /Users/lukas/Library/Jupyter/nbextensions/code_prettify/code_prettify.yaml\n",
      "\u001b[32m[I 20:47:58 InstallContribNbextensionsApp]\u001b[m Copying: /Users/lukas/anaconda3/envs/hands-on-ml/lib/python3.7/site-packages/jupyter_contrib_nbextensions/nbextensions/code_prettify/2to3.js -> /Users/lukas/Library/Jupyter/nbextensions/code_prettify/2to3.js\n",
      "\u001b[32m[I 20:47:58 InstallContribNbextensionsApp]\u001b[m Copying: /Users/lukas/anaconda3/envs/hands-on-ml/lib/python3.7/site-packages/jupyter_contrib_nbextensions/nbextensions/code_prettify/autopep8.yaml -> /Users/lukas/Library/Jupyter/nbextensions/code_prettify/autopep8.yaml\n",
      "\u001b[32m[I 20:47:58 InstallContribNbextensionsApp]\u001b[m Copying: /Users/lukas/anaconda3/envs/hands-on-ml/lib/python3.7/site-packages/jupyter_contrib_nbextensions/nbextensions/code_prettify/isort.yaml -> /Users/lukas/Library/Jupyter/nbextensions/code_prettify/isort.yaml\n",
      "\u001b[32m[I 20:47:58 InstallContribNbextensionsApp]\u001b[m - Validating: \u001b[32mOK\u001b[0m\n",
      "\u001b[32m[I 20:47:58 InstallContribNbextensionsApp]\u001b[m Installing /Users/lukas/anaconda3/envs/hands-on-ml/lib/python3.7/site-packages/jupyter_contrib_nbextensions/nbextensions/code_prettify -> code_prettify\n",
      "\u001b[32m[I 20:47:58 InstallContribNbextensionsApp]\u001b[m Up to date: /Users/lukas/Library/Jupyter/nbextensions/code_prettify/demo-py.gif\n",
      "\u001b[32m[I 20:47:58 InstallContribNbextensionsApp]\u001b[m Up to date: /Users/lukas/Library/Jupyter/nbextensions/code_prettify/kernel_exec_on_cell.js\n",
      "\u001b[32m[I 20:47:58 InstallContribNbextensionsApp]\u001b[m Up to date: /Users/lukas/Library/Jupyter/nbextensions/code_prettify/demo-jv.gif\n",
      "\u001b[32m[I 20:47:58 InstallContribNbextensionsApp]\u001b[m Up to date: /Users/lukas/Library/Jupyter/nbextensions/code_prettify/README_2to3.md\n",
      "\u001b[32m[I 20:47:58 InstallContribNbextensionsApp]\u001b[m Up to date: /Users/lukas/Library/Jupyter/nbextensions/code_prettify/2to3.yaml\n",
      "\u001b[32m[I 20:47:58 InstallContribNbextensionsApp]\u001b[m Up to date: /Users/lukas/Library/Jupyter/nbextensions/code_prettify/README_autopep8.md\n",
      "\u001b[32m[I 20:47:58 InstallContribNbextensionsApp]\u001b[m Up to date: /Users/lukas/Library/Jupyter/nbextensions/code_prettify/demo_2to3.gif\n",
      "\u001b[32m[I 20:47:58 InstallContribNbextensionsApp]\u001b[m Up to date: /Users/lukas/Library/Jupyter/nbextensions/code_prettify/README_isort.md\n",
      "\u001b[32m[I 20:47:58 InstallContribNbextensionsApp]\u001b[m Up to date: /Users/lukas/Library/Jupyter/nbextensions/code_prettify/README_code_prettify.md\n",
      "\u001b[32m[I 20:47:58 InstallContribNbextensionsApp]\u001b[m Up to date: /Users/lukas/Library/Jupyter/nbextensions/code_prettify/README.md\n",
      "\u001b[32m[I 20:47:58 InstallContribNbextensionsApp]\u001b[m Up to date: /Users/lukas/Library/Jupyter/nbextensions/code_prettify/code_prettify.js\n",
      "\u001b[32m[I 20:47:58 InstallContribNbextensionsApp]\u001b[m Up to date: /Users/lukas/Library/Jupyter/nbextensions/code_prettify/autopep8.js\n",
      "\u001b[32m[I 20:47:58 InstallContribNbextensionsApp]\u001b[m Up to date: /Users/lukas/Library/Jupyter/nbextensions/code_prettify/demo-R.gif\n",
      "\u001b[32m[I 20:47:58 InstallContribNbextensionsApp]\u001b[m Up to date: /Users/lukas/Library/Jupyter/nbextensions/code_prettify/isort.js\n",
      "\u001b[32m[I 20:47:58 InstallContribNbextensionsApp]\u001b[m Up to date: /Users/lukas/Library/Jupyter/nbextensions/code_prettify/code_prettify.yaml\n",
      "\u001b[32m[I 20:47:58 InstallContribNbextensionsApp]\u001b[m Up to date: /Users/lukas/Library/Jupyter/nbextensions/code_prettify/2to3.js\n",
      "\u001b[32m[I 20:47:58 InstallContribNbextensionsApp]\u001b[m Up to date: /Users/lukas/Library/Jupyter/nbextensions/code_prettify/autopep8.yaml\n",
      "\u001b[32m[I 20:47:58 InstallContribNbextensionsApp]\u001b[m Up to date: /Users/lukas/Library/Jupyter/nbextensions/code_prettify/isort.yaml\n",
      "\u001b[32m[I 20:47:58 InstallContribNbextensionsApp]\u001b[m - Validating: \u001b[32mOK\u001b[0m\n",
      "\u001b[32m[I 20:47:58 InstallContribNbextensionsApp]\u001b[m Installing /Users/lukas/anaconda3/envs/hands-on-ml/lib/python3.7/site-packages/jupyter_contrib_nbextensions/nbextensions/code_prettify -> code_prettify\n",
      "\u001b[32m[I 20:47:58 InstallContribNbextensionsApp]\u001b[m Up to date: /Users/lukas/Library/Jupyter/nbextensions/code_prettify/demo-py.gif\n",
      "\u001b[32m[I 20:47:58 InstallContribNbextensionsApp]\u001b[m Up to date: /Users/lukas/Library/Jupyter/nbextensions/code_prettify/kernel_exec_on_cell.js\n",
      "\u001b[32m[I 20:47:58 InstallContribNbextensionsApp]\u001b[m Up to date: /Users/lukas/Library/Jupyter/nbextensions/code_prettify/demo-jv.gif\n",
      "\u001b[32m[I 20:47:58 InstallContribNbextensionsApp]\u001b[m Up to date: /Users/lukas/Library/Jupyter/nbextensions/code_prettify/README_2to3.md\n",
      "\u001b[32m[I 20:47:58 InstallContribNbextensionsApp]\u001b[m Up to date: /Users/lukas/Library/Jupyter/nbextensions/code_prettify/2to3.yaml\n",
      "\u001b[32m[I 20:47:58 InstallContribNbextensionsApp]\u001b[m Up to date: /Users/lukas/Library/Jupyter/nbextensions/code_prettify/README_autopep8.md\n",
      "\u001b[32m[I 20:47:58 InstallContribNbextensionsApp]\u001b[m Up to date: /Users/lukas/Library/Jupyter/nbextensions/code_prettify/demo_2to3.gif\n",
      "\u001b[32m[I 20:47:58 InstallContribNbextensionsApp]\u001b[m Up to date: /Users/lukas/Library/Jupyter/nbextensions/code_prettify/README_isort.md\n",
      "\u001b[32m[I 20:47:58 InstallContribNbextensionsApp]\u001b[m Up to date: /Users/lukas/Library/Jupyter/nbextensions/code_prettify/README_code_prettify.md\n",
      "\u001b[32m[I 20:47:58 InstallContribNbextensionsApp]\u001b[m Up to date: /Users/lukas/Library/Jupyter/nbextensions/code_prettify/README.md\n",
      "\u001b[32m[I 20:47:58 InstallContribNbextensionsApp]\u001b[m Up to date: /Users/lukas/Library/Jupyter/nbextensions/code_prettify/code_prettify.js\n",
      "\u001b[32m[I 20:47:58 InstallContribNbextensionsApp]\u001b[m Up to date: /Users/lukas/Library/Jupyter/nbextensions/code_prettify/autopep8.js\n",
      "\u001b[32m[I 20:47:58 InstallContribNbextensionsApp]\u001b[m Up to date: /Users/lukas/Library/Jupyter/nbextensions/code_prettify/demo-R.gif\n",
      "\u001b[32m[I 20:47:58 InstallContribNbextensionsApp]\u001b[m Up to date: /Users/lukas/Library/Jupyter/nbextensions/code_prettify/isort.js\n",
      "\u001b[32m[I 20:47:58 InstallContribNbextensionsApp]\u001b[m Up to date: /Users/lukas/Library/Jupyter/nbextensions/code_prettify/code_prettify.yaml\n",
      "\u001b[32m[I 20:47:58 InstallContribNbextensionsApp]\u001b[m Up to date: /Users/lukas/Library/Jupyter/nbextensions/code_prettify/2to3.js\n",
      "\u001b[32m[I 20:47:58 InstallContribNbextensionsApp]\u001b[m Up to date: /Users/lukas/Library/Jupyter/nbextensions/code_prettify/autopep8.yaml\n",
      "\u001b[32m[I 20:47:58 InstallContribNbextensionsApp]\u001b[m Up to date: /Users/lukas/Library/Jupyter/nbextensions/code_prettify/isort.yaml\n",
      "\u001b[32m[I 20:47:58 InstallContribNbextensionsApp]\u001b[m - Validating: \u001b[32mOK\u001b[0m\n",
      "\u001b[32m[I 20:47:58 InstallContribNbextensionsApp]\u001b[m Installing /Users/lukas/anaconda3/envs/hands-on-ml/lib/python3.7/site-packages/jupyter_contrib_nbextensions/nbextensions/code_prettify -> code_prettify\n",
      "\u001b[32m[I 20:47:58 InstallContribNbextensionsApp]\u001b[m Up to date: /Users/lukas/Library/Jupyter/nbextensions/code_prettify/demo-py.gif\n",
      "\u001b[32m[I 20:47:58 InstallContribNbextensionsApp]\u001b[m Up to date: /Users/lukas/Library/Jupyter/nbextensions/code_prettify/kernel_exec_on_cell.js\n",
      "\u001b[32m[I 20:47:58 InstallContribNbextensionsApp]\u001b[m Up to date: /Users/lukas/Library/Jupyter/nbextensions/code_prettify/demo-jv.gif\n",
      "\u001b[32m[I 20:47:58 InstallContribNbextensionsApp]\u001b[m Up to date: /Users/lukas/Library/Jupyter/nbextensions/code_prettify/README_2to3.md\n",
      "\u001b[32m[I 20:47:58 InstallContribNbextensionsApp]\u001b[m Up to date: /Users/lukas/Library/Jupyter/nbextensions/code_prettify/2to3.yaml\n",
      "\u001b[32m[I 20:47:58 InstallContribNbextensionsApp]\u001b[m Up to date: /Users/lukas/Library/Jupyter/nbextensions/code_prettify/README_autopep8.md\n",
      "\u001b[32m[I 20:47:58 InstallContribNbextensionsApp]\u001b[m Up to date: /Users/lukas/Library/Jupyter/nbextensions/code_prettify/demo_2to3.gif\n",
      "\u001b[32m[I 20:47:58 InstallContribNbextensionsApp]\u001b[m Up to date: /Users/lukas/Library/Jupyter/nbextensions/code_prettify/README_isort.md\n",
      "\u001b[32m[I 20:47:58 InstallContribNbextensionsApp]\u001b[m Up to date: /Users/lukas/Library/Jupyter/nbextensions/code_prettify/README_code_prettify.md\n",
      "\u001b[32m[I 20:47:58 InstallContribNbextensionsApp]\u001b[m Up to date: /Users/lukas/Library/Jupyter/nbextensions/code_prettify/README.md\n",
      "\u001b[32m[I 20:47:58 InstallContribNbextensionsApp]\u001b[m Up to date: /Users/lukas/Library/Jupyter/nbextensions/code_prettify/code_prettify.js\n",
      "\u001b[32m[I 20:47:58 InstallContribNbextensionsApp]\u001b[m Up to date: /Users/lukas/Library/Jupyter/nbextensions/code_prettify/autopep8.js\n",
      "\u001b[32m[I 20:47:58 InstallContribNbextensionsApp]\u001b[m Up to date: /Users/lukas/Library/Jupyter/nbextensions/code_prettify/demo-R.gif\n",
      "\u001b[32m[I 20:47:58 InstallContribNbextensionsApp]\u001b[m Up to date: /Users/lukas/Library/Jupyter/nbextensions/code_prettify/isort.js\n",
      "\u001b[32m[I 20:47:58 InstallContribNbextensionsApp]\u001b[m Up to date: /Users/lukas/Library/Jupyter/nbextensions/code_prettify/code_prettify.yaml\n",
      "\u001b[32m[I 20:47:58 InstallContribNbextensionsApp]\u001b[m Up to date: /Users/lukas/Library/Jupyter/nbextensions/code_prettify/2to3.js\n",
      "\u001b[32m[I 20:47:58 InstallContribNbextensionsApp]\u001b[m Up to date: /Users/lukas/Library/Jupyter/nbextensions/code_prettify/autopep8.yaml\n",
      "\u001b[32m[I 20:47:58 InstallContribNbextensionsApp]\u001b[m Up to date: /Users/lukas/Library/Jupyter/nbextensions/code_prettify/isort.yaml\n",
      "\u001b[32m[I 20:47:58 InstallContribNbextensionsApp]\u001b[m - Validating: \u001b[32mOK\u001b[0m\n",
      "\u001b[32m[I 20:47:58 InstallContribNbextensionsApp]\u001b[m Installing /Users/lukas/anaconda3/envs/hands-on-ml/lib/python3.7/site-packages/jupyter_contrib_nbextensions/nbextensions/load_tex_macros -> load_tex_macros\n",
      "\u001b[32m[I 20:47:58 InstallContribNbextensionsApp]\u001b[m Making directory: /Users/lukas/Library/Jupyter/nbextensions/load_tex_macros/\n",
      "\u001b[32m[I 20:47:58 InstallContribNbextensionsApp]\u001b[m Copying: /Users/lukas/anaconda3/envs/hands-on-ml/lib/python3.7/site-packages/jupyter_contrib_nbextensions/nbextensions/load_tex_macros/load_tex_macros.yaml -> /Users/lukas/Library/Jupyter/nbextensions/load_tex_macros/load_tex_macros.yaml\n",
      "\u001b[32m[I 20:47:58 InstallContribNbextensionsApp]\u001b[m Copying: /Users/lukas/anaconda3/envs/hands-on-ml/lib/python3.7/site-packages/jupyter_contrib_nbextensions/nbextensions/load_tex_macros/icon.png -> /Users/lukas/Library/Jupyter/nbextensions/load_tex_macros/icon.png\n",
      "\u001b[32m[I 20:47:58 InstallContribNbextensionsApp]\u001b[m Copying: /Users/lukas/anaconda3/envs/hands-on-ml/lib/python3.7/site-packages/jupyter_contrib_nbextensions/nbextensions/load_tex_macros/readme.md -> /Users/lukas/Library/Jupyter/nbextensions/load_tex_macros/readme.md\n",
      "\u001b[32m[I 20:47:58 InstallContribNbextensionsApp]\u001b[m Copying: /Users/lukas/anaconda3/envs/hands-on-ml/lib/python3.7/site-packages/jupyter_contrib_nbextensions/nbextensions/load_tex_macros/main.js -> /Users/lukas/Library/Jupyter/nbextensions/load_tex_macros/main.js\n",
      "\u001b[32m[I 20:47:58 InstallContribNbextensionsApp]\u001b[m - Validating: \u001b[32mOK\u001b[0m\n",
      "\u001b[32m[I 20:47:58 InstallContribNbextensionsApp]\u001b[m Installing /Users/lukas/anaconda3/envs/hands-on-ml/lib/python3.7/site-packages/jupyter_contrib_nbextensions/nbextensions/hide_header -> hide_header\n",
      "\u001b[32m[I 20:47:58 InstallContribNbextensionsApp]\u001b[m Making directory: /Users/lukas/Library/Jupyter/nbextensions/hide_header/\n",
      "\u001b[32m[I 20:47:58 InstallContribNbextensionsApp]\u001b[m Copying: /Users/lukas/anaconda3/envs/hands-on-ml/lib/python3.7/site-packages/jupyter_contrib_nbextensions/nbextensions/hide_header/hide_header.yaml -> /Users/lukas/Library/Jupyter/nbextensions/hide_header/hide_header.yaml\n",
      "\u001b[32m[I 20:47:58 InstallContribNbextensionsApp]\u001b[m Copying: /Users/lukas/anaconda3/envs/hands-on-ml/lib/python3.7/site-packages/jupyter_contrib_nbextensions/nbextensions/hide_header/README.md -> /Users/lukas/Library/Jupyter/nbextensions/hide_header/README.md\n",
      "\u001b[32m[I 20:47:58 InstallContribNbextensionsApp]\u001b[m Copying: /Users/lukas/anaconda3/envs/hands-on-ml/lib/python3.7/site-packages/jupyter_contrib_nbextensions/nbextensions/hide_header/main.js -> /Users/lukas/Library/Jupyter/nbextensions/hide_header/main.js\n",
      "\u001b[32m[I 20:47:58 InstallContribNbextensionsApp]\u001b[m - Validating: \u001b[32mOK\u001b[0m\n",
      "\u001b[32m[I 20:47:58 InstallContribNbextensionsApp]\u001b[m Installing /Users/lukas/anaconda3/envs/hands-on-ml/lib/python3.7/site-packages/jupyter_highlight_selected_word/static/highlight_selected_word -> highlight_selected_word\n",
      "\u001b[32m[I 20:47:58 InstallContribNbextensionsApp]\u001b[m Making directory: /Users/lukas/Library/Jupyter/nbextensions/highlight_selected_word/\n",
      "\u001b[32m[I 20:47:58 InstallContribNbextensionsApp]\u001b[m Copying: /Users/lukas/anaconda3/envs/hands-on-ml/lib/python3.7/site-packages/jupyter_highlight_selected_word/static/highlight_selected_word/configurator.yaml -> /Users/lukas/Library/Jupyter/nbextensions/highlight_selected_word/configurator.yaml\n",
      "\u001b[32m[I 20:47:58 InstallContribNbextensionsApp]\u001b[m Copying: /Users/lukas/anaconda3/envs/hands-on-ml/lib/python3.7/site-packages/jupyter_highlight_selected_word/static/highlight_selected_word/README.md -> /Users/lukas/Library/Jupyter/nbextensions/highlight_selected_word/README.md\n",
      "\u001b[32m[I 20:47:58 InstallContribNbextensionsApp]\u001b[m Copying: /Users/lukas/anaconda3/envs/hands-on-ml/lib/python3.7/site-packages/jupyter_highlight_selected_word/static/highlight_selected_word/main.js -> /Users/lukas/Library/Jupyter/nbextensions/highlight_selected_word/main.js\n",
      "\u001b[32m[I 20:47:58 InstallContribNbextensionsApp]\u001b[m - Validating: \u001b[32mOK\u001b[0m\n",
      "\u001b[32m[I 20:47:58 InstallContribNbextensionsApp]\u001b[m Installing /Users/lukas/anaconda3/envs/hands-on-ml/lib/python3.7/site-packages/latex_envs/static -> latex_envs\n",
      "\u001b[32m[I 20:47:58 InstallContribNbextensionsApp]\u001b[m Making directory: /Users/lukas/Library/Jupyter/nbextensions/latex_envs/\n",
      "\u001b[32m[I 20:47:58 InstallContribNbextensionsApp]\u001b[m Copying: /Users/lukas/anaconda3/envs/hands-on-ml/lib/python3.7/site-packages/latex_envs/static/icon.png -> /Users/lukas/Library/Jupyter/nbextensions/latex_envs/icon.png\n",
      "\u001b[32m[I 20:47:58 InstallContribNbextensionsApp]\u001b[m Copying: /Users/lukas/anaconda3/envs/hands-on-ml/lib/python3.7/site-packages/latex_envs/static/latex_envs.yaml -> /Users/lukas/Library/Jupyter/nbextensions/latex_envs/latex_envs.yaml\n",
      "\u001b[32m[I 20:47:58 InstallContribNbextensionsApp]\u001b[m Copying: /Users/lukas/anaconda3/envs/hands-on-ml/lib/python3.7/site-packages/latex_envs/static/configuration_toolbar.png -> /Users/lukas/Library/Jupyter/nbextensions/latex_envs/configuration_toolbar.png\n",
      "\u001b[32m[I 20:47:58 InstallContribNbextensionsApp]\u001b[m Copying: /Users/lukas/anaconda3/envs/hands-on-ml/lib/python3.7/site-packages/latex_envs/static/bibInNb4.js -> /Users/lukas/Library/Jupyter/nbextensions/latex_envs/bibInNb4.js\n",
      "\u001b[32m[I 20:47:58 InstallContribNbextensionsApp]\u001b[m Copying: /Users/lukas/anaconda3/envs/hands-on-ml/lib/python3.7/site-packages/latex_envs/static/example_user_envs.json -> /Users/lukas/Library/Jupyter/nbextensions/latex_envs/example_user_envs.json\n",
      "\u001b[32m[I 20:47:58 InstallContribNbextensionsApp]\u001b[m Copying: /Users/lukas/anaconda3/envs/hands-on-ml/lib/python3.7/site-packages/latex_envs/static/envsLatex.js -> /Users/lukas/Library/Jupyter/nbextensions/latex_envs/envsLatex.js\n",
      "\u001b[32m[I 20:47:58 InstallContribNbextensionsApp]\u001b[m Copying: /Users/lukas/anaconda3/envs/hands-on-ml/lib/python3.7/site-packages/latex_envs/static/main_toolbar.png -> /Users/lukas/Library/Jupyter/nbextensions/latex_envs/main_toolbar.png\n",
      "\u001b[32m[I 20:47:58 InstallContribNbextensionsApp]\u001b[m Copying: /Users/lukas/anaconda3/envs/hands-on-ml/lib/python3.7/site-packages/latex_envs/static/envsLatex.json -> /Users/lukas/Library/Jupyter/nbextensions/latex_envs/envsLatex.json\n",
      "\u001b[32m[I 20:47:58 InstallContribNbextensionsApp]\u001b[m Copying: /Users/lukas/anaconda3/envs/hands-on-ml/lib/python3.7/site-packages/latex_envs/static/README.md -> /Users/lukas/Library/Jupyter/nbextensions/latex_envs/README.md\n",
      "\u001b[32m[I 20:47:58 InstallContribNbextensionsApp]\u001b[m Copying: /Users/lukas/anaconda3/envs/hands-on-ml/lib/python3.7/site-packages/latex_envs/static/thmsInNb4.js -> /Users/lukas/Library/Jupyter/nbextensions/latex_envs/thmsInNb4.js\n",
      "\u001b[32m[I 20:47:58 InstallContribNbextensionsApp]\u001b[m Copying: /Users/lukas/anaconda3/envs/hands-on-ml/lib/python3.7/site-packages/latex_envs/static/initNb.js -> /Users/lukas/Library/Jupyter/nbextensions/latex_envs/initNb.js\n",
      "\u001b[32m[I 20:47:58 InstallContribNbextensionsApp]\u001b[m Copying: /Users/lukas/anaconda3/envs/hands-on-ml/lib/python3.7/site-packages/latex_envs/static/latex_envs.css -> /Users/lukas/Library/Jupyter/nbextensions/latex_envs/latex_envs.css\n",
      "\u001b[32m[I 20:47:58 InstallContribNbextensionsApp]\u001b[m Copying: /Users/lukas/anaconda3/envs/hands-on-ml/lib/python3.7/site-packages/latex_envs/static/latex_envs.js -> /Users/lukas/Library/Jupyter/nbextensions/latex_envs/latex_envs.js\n",
      "\u001b[32m[I 20:47:58 InstallContribNbextensionsApp]\u001b[m Copying: /Users/lukas/anaconda3/envs/hands-on-ml/lib/python3.7/site-packages/latex_envs/static/bibtex2.js -> /Users/lukas/Library/Jupyter/nbextensions/latex_envs/bibtex2.js\n",
      "\u001b[32m[I 20:47:58 InstallContribNbextensionsApp]\u001b[m Copying: /Users/lukas/anaconda3/envs/hands-on-ml/lib/python3.7/site-packages/latex_envs/static/example.png -> /Users/lukas/Library/Jupyter/nbextensions/latex_envs/example.png\n",
      "\u001b[32m[I 20:47:58 InstallContribNbextensionsApp]\u001b[m Making directory: /Users/lukas/Library/Jupyter/nbextensions/latex_envs/doc\n",
      "\u001b[32m[I 20:47:58 InstallContribNbextensionsApp]\u001b[m Copying: /Users/lukas/anaconda3/envs/hands-on-ml/lib/python3.7/site-packages/latex_envs/static/doc/IEEEtran.bst -> /Users/lukas/Library/Jupyter/nbextensions/latex_envs/doc/IEEEtran.bst\n",
      "\u001b[32m[I 20:47:58 InstallContribNbextensionsApp]\u001b[m Copying: /Users/lukas/anaconda3/envs/hands-on-ml/lib/python3.7/site-packages/latex_envs/static/doc/documentation.pdf -> /Users/lukas/Library/Jupyter/nbextensions/latex_envs/doc/documentation.pdf\n",
      "\u001b[32m[I 20:47:58 InstallContribNbextensionsApp]\u001b[m Copying: /Users/lukas/anaconda3/envs/hands-on-ml/lib/python3.7/site-packages/latex_envs/static/doc/configuration_toolbar.png -> /Users/lukas/Library/Jupyter/nbextensions/latex_envs/doc/configuration_toolbar.png\n",
      "\u001b[32m[I 20:47:58 InstallContribNbextensionsApp]\u001b[m Copying: /Users/lukas/anaconda3/envs/hands-on-ml/lib/python3.7/site-packages/latex_envs/static/doc/biblio_ipython.bib -> /Users/lukas/Library/Jupyter/nbextensions/latex_envs/doc/biblio_ipython.bib\n",
      "\u001b[32m[I 20:47:58 InstallContribNbextensionsApp]\u001b[m Copying: /Users/lukas/anaconda3/envs/hands-on-ml/lib/python3.7/site-packages/latex_envs/static/doc/config_toolbar.png -> /Users/lukas/Library/Jupyter/nbextensions/latex_envs/doc/config_toolbar.png\n",
      "\u001b[32m[I 20:47:58 InstallContribNbextensionsApp]\u001b[m Copying: /Users/lukas/anaconda3/envs/hands-on-ml/lib/python3.7/site-packages/latex_envs/static/doc/documentation.tex -> /Users/lukas/Library/Jupyter/nbextensions/latex_envs/doc/documentation.tex\n",
      "\u001b[32m[I 20:47:58 InstallContribNbextensionsApp]\u001b[m Copying: /Users/lukas/anaconda3/envs/hands-on-ml/lib/python3.7/site-packages/latex_envs/static/doc/main_toolbar.png -> /Users/lukas/Library/Jupyter/nbextensions/latex_envs/doc/main_toolbar.png\n",
      "\u001b[32m[I 20:47:58 InstallContribNbextensionsApp]\u001b[m Copying: /Users/lukas/anaconda3/envs/hands-on-ml/lib/python3.7/site-packages/latex_envs/static/doc/README.md -> /Users/lukas/Library/Jupyter/nbextensions/latex_envs/doc/README.md\n",
      "\u001b[32m[I 20:47:58 InstallContribNbextensionsApp]\u001b[m Copying: /Users/lukas/anaconda3/envs/hands-on-ml/lib/python3.7/site-packages/latex_envs/static/doc/latex_env_doc.ipynb -> /Users/lukas/Library/Jupyter/nbextensions/latex_envs/doc/latex_env_doc.ipynb\n",
      "\u001b[32m[I 20:47:58 InstallContribNbextensionsApp]\u001b[m Copying: /Users/lukas/anaconda3/envs/hands-on-ml/lib/python3.7/site-packages/latex_envs/static/doc/LaTeX_envs_menu.png -> /Users/lukas/Library/Jupyter/nbextensions/latex_envs/doc/LaTeX_envs_menu.png\n",
      "\u001b[32m[I 20:47:58 InstallContribNbextensionsApp]\u001b[m Copying: /Users/lukas/anaconda3/envs/hands-on-ml/lib/python3.7/site-packages/latex_envs/static/doc/latex_env_doc.tex -> /Users/lukas/Library/Jupyter/nbextensions/latex_envs/doc/latex_env_doc.tex\n",
      "\u001b[32m[I 20:47:58 InstallContribNbextensionsApp]\u001b[m Copying: /Users/lukas/anaconda3/envs/hands-on-ml/lib/python3.7/site-packages/latex_envs/static/doc/header.tex -> /Users/lukas/Library/Jupyter/nbextensions/latex_envs/doc/header.tex\n",
      "\u001b[32m[I 20:47:58 InstallContribNbextensionsApp]\u001b[m Copying: /Users/lukas/anaconda3/envs/hands-on-ml/lib/python3.7/site-packages/latex_envs/static/doc/Toggles.png -> /Users/lukas/Library/Jupyter/nbextensions/latex_envs/doc/Toggles.png\n",
      "\u001b[32m[I 20:47:58 InstallContribNbextensionsApp]\u001b[m Copying: /Users/lukas/anaconda3/envs/hands-on-ml/lib/python3.7/site-packages/latex_envs/static/doc/latex_env_doc.html -> /Users/lukas/Library/Jupyter/nbextensions/latex_envs/doc/latex_env_doc.html\n",
      "\u001b[32m[I 20:47:58 InstallContribNbextensionsApp]\u001b[m Copying: /Users/lukas/anaconda3/envs/hands-on-ml/lib/python3.7/site-packages/latex_envs/static/doc/example.png -> /Users/lukas/Library/Jupyter/nbextensions/latex_envs/doc/example.png\n",
      "\u001b[32m[I 20:47:58 InstallContribNbextensionsApp]\u001b[m Making directory: /Users/lukas/Library/Jupyter/nbextensions/latex_envs/doc/.ipynb_checkpoints\n",
      "\u001b[32m[I 20:47:58 InstallContribNbextensionsApp]\u001b[m Copying: /Users/lukas/anaconda3/envs/hands-on-ml/lib/python3.7/site-packages/latex_envs/static/doc/.ipynb_checkpoints/latex_env_doc-checkpoint.ipynb -> /Users/lukas/Library/Jupyter/nbextensions/latex_envs/doc/.ipynb_checkpoints/latex_env_doc-checkpoint.ipynb\n",
      "\u001b[32m[I 20:47:58 InstallContribNbextensionsApp]\u001b[m Making directory: /Users/lukas/Library/Jupyter/nbextensions/latex_envs/doc/latex_env_doc_files\n",
      "\u001b[32m[I 20:47:58 InstallContribNbextensionsApp]\u001b[m Copying: /Users/lukas/anaconda3/envs/hands-on-ml/lib/python3.7/site-packages/latex_envs/static/doc/latex_env_doc_files/latex_env_doc_51_0.png -> /Users/lukas/Library/Jupyter/nbextensions/latex_envs/doc/latex_env_doc_files/latex_env_doc_51_0.png\n",
      "\u001b[32m[I 20:47:58 InstallContribNbextensionsApp]\u001b[m Copying: /Users/lukas/anaconda3/envs/hands-on-ml/lib/python3.7/site-packages/latex_envs/static/doc/latex_env_doc_files/latex_env_doc_48_0.png -> /Users/lukas/Library/Jupyter/nbextensions/latex_envs/doc/latex_env_doc_files/latex_env_doc_48_0.png\n",
      "\u001b[32m[I 20:47:58 InstallContribNbextensionsApp]\u001b[m Copying: /Users/lukas/anaconda3/envs/hands-on-ml/lib/python3.7/site-packages/latex_envs/static/doc/latex_env_doc_files/latex_env_doc_50_0.png -> /Users/lukas/Library/Jupyter/nbextensions/latex_envs/doc/latex_env_doc_files/latex_env_doc_50_0.png\n",
      "\u001b[32m[I 20:47:58 InstallContribNbextensionsApp]\u001b[m Copying: /Users/lukas/anaconda3/envs/hands-on-ml/lib/python3.7/site-packages/latex_envs/static/doc/latex_env_doc_files/latex_env_doc_49_0.png -> /Users/lukas/Library/Jupyter/nbextensions/latex_envs/doc/latex_env_doc_files/latex_env_doc_49_0.png\n",
      "\u001b[32m[I 20:47:58 InstallContribNbextensionsApp]\u001b[m Copying: /Users/lukas/anaconda3/envs/hands-on-ml/lib/python3.7/site-packages/latex_envs/static/doc/latex_env_doc_files/latex_env_doc_52_0.png -> /Users/lukas/Library/Jupyter/nbextensions/latex_envs/doc/latex_env_doc_files/latex_env_doc_52_0.png\n",
      "\u001b[32m[I 20:47:58 InstallContribNbextensionsApp]\u001b[m Copying: /Users/lukas/anaconda3/envs/hands-on-ml/lib/python3.7/site-packages/latex_envs/static/doc/latex_env_doc_files/latex_env_doc_41_0.png -> /Users/lukas/Library/Jupyter/nbextensions/latex_envs/doc/latex_env_doc_files/latex_env_doc_41_0.png\n",
      "\u001b[32m[I 20:47:58 InstallContribNbextensionsApp]\u001b[m Copying: /Users/lukas/anaconda3/envs/hands-on-ml/lib/python3.7/site-packages/latex_envs/static/doc/latex_env_doc_files/latex_env_doc_43_0.png -> /Users/lukas/Library/Jupyter/nbextensions/latex_envs/doc/latex_env_doc_files/latex_env_doc_43_0.png\n",
      "\u001b[32m[I 20:47:58 InstallContribNbextensionsApp]\u001b[m Copying: /Users/lukas/anaconda3/envs/hands-on-ml/lib/python3.7/site-packages/latex_envs/static/doc/latex_env_doc_files/latex_env_doc_24_2.png -> /Users/lukas/Library/Jupyter/nbextensions/latex_envs/doc/latex_env_doc_files/latex_env_doc_24_2.png\n",
      "\u001b[32m[I 20:47:58 InstallContribNbextensionsApp]\u001b[m Copying: /Users/lukas/anaconda3/envs/hands-on-ml/lib/python3.7/site-packages/latex_envs/static/doc/latex_env_doc_files/latex_env_doc_47_0.png -> /Users/lukas/Library/Jupyter/nbextensions/latex_envs/doc/latex_env_doc_files/latex_env_doc_47_0.png\n",
      "\u001b[32m[I 20:47:58 InstallContribNbextensionsApp]\u001b[m Copying: /Users/lukas/anaconda3/envs/hands-on-ml/lib/python3.7/site-packages/latex_envs/static/doc/latex_env_doc_files/latex_env_doc_45_0.png -> /Users/lukas/Library/Jupyter/nbextensions/latex_envs/doc/latex_env_doc_files/latex_env_doc_45_0.png\n",
      "\u001b[32m[I 20:47:58 InstallContribNbextensionsApp]\u001b[m Copying: /Users/lukas/anaconda3/envs/hands-on-ml/lib/python3.7/site-packages/latex_envs/static/doc/latex_env_doc_files/latex_env_doc_26_2.png -> /Users/lukas/Library/Jupyter/nbextensions/latex_envs/doc/latex_env_doc_files/latex_env_doc_26_2.png\n",
      "\u001b[32m[I 20:47:58 InstallContribNbextensionsApp]\u001b[m Copying: /Users/lukas/anaconda3/envs/hands-on-ml/lib/python3.7/site-packages/latex_envs/static/doc/latex_env_doc_files/latex_env_doc_42_0.png -> /Users/lukas/Library/Jupyter/nbextensions/latex_envs/doc/latex_env_doc_files/latex_env_doc_42_0.png\n",
      "\u001b[32m[I 20:47:58 InstallContribNbextensionsApp]\u001b[m Copying: /Users/lukas/anaconda3/envs/hands-on-ml/lib/python3.7/site-packages/latex_envs/static/doc/latex_env_doc_files/latex_env_doc_23_2.png -> /Users/lukas/Library/Jupyter/nbextensions/latex_envs/doc/latex_env_doc_files/latex_env_doc_23_2.png\n",
      "\u001b[32m[I 20:47:58 InstallContribNbextensionsApp]\u001b[m Copying: /Users/lukas/anaconda3/envs/hands-on-ml/lib/python3.7/site-packages/latex_envs/static/doc/latex_env_doc_files/latex_env_doc_44_0.png -> /Users/lukas/Library/Jupyter/nbextensions/latex_envs/doc/latex_env_doc_files/latex_env_doc_44_0.png\n",
      "\u001b[32m[I 20:47:58 InstallContribNbextensionsApp]\u001b[m Copying: /Users/lukas/anaconda3/envs/hands-on-ml/lib/python3.7/site-packages/latex_envs/static/doc/latex_env_doc_files/latex_env_doc_27_2.png -> /Users/lukas/Library/Jupyter/nbextensions/latex_envs/doc/latex_env_doc_files/latex_env_doc_27_2.png\n",
      "\u001b[32m[I 20:47:58 InstallContribNbextensionsApp]\u001b[m Copying: /Users/lukas/anaconda3/envs/hands-on-ml/lib/python3.7/site-packages/latex_envs/static/doc/latex_env_doc_files/latex_env_doc_46_0.png -> /Users/lukas/Library/Jupyter/nbextensions/latex_envs/doc/latex_env_doc_files/latex_env_doc_46_0.png\n",
      "\u001b[32m[I 20:47:58 InstallContribNbextensionsApp]\u001b[m - Validating: \u001b[32mOK\u001b[0m\n",
      "\u001b[32m[I 20:47:58 InstallContribNbextensionsApp]\u001b[m Installing jupyter_contrib_nbextensions items to config in /Users/lukas/.jupyter\n",
      "Enabling: jupyter_nbextensions_configurator\n",
      "- Writing config: /Users/lukas/.jupyter\n",
      "    - Validating...\n",
      "      jupyter_nbextensions_configurator 0.4.1 \u001b[32mOK\u001b[0m\n",
      "Enabling notebook nbextension nbextensions_configurator/config_menu/main...\n",
      "Enabling tree nbextension nbextensions_configurator/tree_tab/main...\n",
      "\u001b[32m[I 20:47:58 InstallContribNbextensionsApp]\u001b[m Enabling notebook extension contrib_nbextensions_help_item/main...\n",
      "\u001b[32m[I 20:47:58 InstallContribNbextensionsApp]\u001b[m       - Validating: \u001b[32mOK\u001b[0m\n",
      "\u001b[32m[I 20:47:58 InstallContribNbextensionsApp]\u001b[m - Editing config: /Users/lukas/.jupyter/jupyter_nbconvert_config.json\n",
      "\u001b[32m[I 20:47:58 InstallContribNbextensionsApp]\u001b[m --  Configuring nbconvert template path\n",
      "\u001b[32m[I 20:47:58 InstallContribNbextensionsApp]\u001b[m --  Configuring nbconvert preprocessors\n",
      "\u001b[32m[I 20:47:58 InstallContribNbextensionsApp]\u001b[m - Writing config: /Users/lukas/.jupyter/jupyter_nbconvert_config.json\n",
      "\u001b[32m[I 20:47:58 InstallContribNbextensionsApp]\u001b[m --  Writing updated config file /Users/lukas/.jupyter/jupyter_nbconvert_config.json\n"
     ]
    }
   ],
   "source": [
    "b!jupyter contrib nbextension install --user"
   ]
  },
  {
   "cell_type": "code",
   "execution_count": 46,
   "metadata": {},
   "outputs": [
    {
     "name": "stdout",
     "output_type": "stream",
     "text": [
      "Enabling notebook extension execute_time/ExecuteTime...\n",
      "      - Validating: \u001b[32mOK\u001b[0m\n"
     ]
    }
   ],
   "source": [
    "!jupyter nbextension enable execute_time/ExecuteTime"
   ]
  },
  {
   "cell_type": "code",
   "execution_count": 50,
   "metadata": {},
   "outputs": [
    {
     "name": "stdout",
     "output_type": "stream",
     "text": [
      "Collecting ipython-autotime\n",
      "  Downloading ipython-autotime-0.1.tar.bz2 (1.2 kB)\n",
      "Building wheels for collected packages: ipython-autotime\n",
      "  Building wheel for ipython-autotime (setup.py) ... \u001b[?25ldone\n",
      "\u001b[?25h  Created wheel for ipython-autotime: filename=ipython_autotime-0.1-py3-none-any.whl size=1830 sha256=65ad05516ec60319e0ffa5870941a1cdd4a710eff00fc582fe847230763bc6a9\n",
      "  Stored in directory: /Users/lukas/Library/Caches/pip/wheels/65/56/4a/4b967e4b9b62bd9d8d7ca789bba648c702d705487f28845bb2\n",
      "Successfully built ipython-autotime\n",
      "Installing collected packages: ipython-autotime\n",
      "Successfully installed ipython-autotime-0.1\n"
     ]
    }
   ],
   "source": [
    "!pip install ipython-autotime"
   ]
  },
  {
   "cell_type": "code",
   "execution_count": 52,
   "metadata": {},
   "outputs": [],
   "source": [
    "%load_ext autotime"
   ]
  },
  {
   "cell_type": "markdown",
   "metadata": {},
   "source": [
    "1. “What are the main motivations for reducing a dataset’s dimensionality? What are the main drawbacks?”"
   ]
  },
  {
   "cell_type": "markdown",
   "metadata": {},
   "source": [
    "Answer: \n",
    "\n",
    "Motivations:\n",
    "* To speed-up the training. Sometimes, it may remove noise and redundant, which makes algorithm perform better due to lower overfitting.\n",
    "* For visualization. I'd say it works really well after training, when you PCA last layer activations e.g. to see if the algoritm learned to separate different classes. Gain insight on most important features - this one I do not understand.\n",
    "\n",
    "Drawbacks:\n",
    "* Some information is lost in dimensionality reduction.\n",
    "* It can be computationally expensive.\n",
    "* Adds additional complexity to your ML pipeline.\n",
    "* Transformed features are hard to interpret. Well, yes, they are not original dataset points."
   ]
  },
  {
   "cell_type": "markdown",
   "metadata": {},
   "source": [
    "2. “What is the curse of dimensionality?”"
   ]
  },
  {
   "cell_type": "markdown",
   "metadata": {},
   "source": [
    "In high dimensions, training dataset is very sparse. Training points are usually far away from each other. This introduces a risk that new data points (e.g. in online serving) will be far away from training points, which makes predictions much less reliable. There's also a greater risk of overfitting.\n",
    "\n",
    "* Makes it hard for algos identify patterns without exponentially large training sets (due to point sparsity).\n",
    "* Increases overfitting."
   ]
  },
  {
   "cell_type": "markdown",
   "metadata": {},
   "source": [
    "3. “Once a dataset’s dimensionality has been reduced, is it possible to reverse the operation? If so, how? If not, why?”"
   ]
  },
  {
   "cell_type": "markdown",
   "metadata": {},
   "source": [
    "Possible. How - by performing inverse transformation of the projection. E.g. with PCA, one needs to perform a reverse projection, matmul projected dataset with transpose of PCA unit vector components. Some info is lost, because PCA only keeps a specified amount of principal components."
   ]
  },
  {
   "cell_type": "markdown",
   "metadata": {},
   "source": [
    "4. “Can PCA be used to reduce the dimensionality of a highly nonlinear dataset?”"
   ]
  },
  {
   "cell_type": "markdown",
   "metadata": {},
   "source": [
    "Yes. Swiss-roll example. But sometimes it may not be beneficial - not always dataset reduced to fewer dimension features a simpler decision boundary.\n",
    "\n",
    "Some algos (PCA) have simple reconstruction procedures, some don't (T-SNE)."
   ]
  },
  {
   "cell_type": "markdown",
   "metadata": {},
   "source": [
    "5. “Suppose you perform PCA on a 1,000-dimensional dataset, setting the explained variance ratio to 95%. How many dimensions will the resulting dataset have?”"
   ]
  },
  {
   "cell_type": "markdown",
   "metadata": {},
   "source": [
    "Hard to say, depends on the data. E.g. if only one dimension can explain 95% variance, then 1. If 2 in sum, then 2, and so forth.\n",
    "\n",
    "A way to tackle this is to plot explained variance as a function of number of dimension could answer this, look for elbow point."
   ]
  },
  {
   "cell_type": "markdown",
   "metadata": {},
   "source": [
    "6. “In what cases would you use vanilla PCA, Incremental PCA, Randomized PCA, or Kernel PCA?”"
   ]
  },
  {
   "cell_type": "markdown",
   "metadata": {},
   "source": [
    "* Vanilla PCA - not too many features n in the dataset, dataset that fits in RAM;\n",
    "* Randomized - when n is big and we want to reduce to d dimension far lower than n, then we should opt for randomized PCA to speed-up fitting.\n",
    "* Incremental PCA - when the dataset does not find in RAM, fits in batches, for online training. Slower\n",
    "* Kernel PCA - (chapter 5 more about kernels) - useful for non-linear datasets.\n",
    "\n",
    "Reminds me of autoencoders, just these models are not really learned, they are constructed by hand - except kernel PCA, when reconstruction is performed with a learned supervised linear regresion model."
   ]
  },
  {
   "cell_type": "markdown",
   "metadata": {},
   "source": [
    "7. “How can you evaluate the performance of a dimensionality reduction algorithm on your dataset?”\n",
    "\n",
    "* Analytically - with reconstruction error, how well it maps back reduced instances to original ones. If the algo does not have reverse transform, one could measure how well the algorithm that is trained on a reduced dataset performs, this would answer how well the dimensionality reduction algo preserves information.\n",
    "* Intuitively - eliminates lots of dimension without losing too much information."
   ]
  },
  {
   "cell_type": "markdown",
   "metadata": {},
   "source": [
    "8. Chaining multiple dimensionality reduction algorithms - worth it?\n",
    "\n",
    "Absolutelly. E.g. a common example is using PCA to reduce dataset dimension significantly before applying T-SNE, which is a much slower dimensionality reduction algorithm. This two step dimensionality reduction approach will likely yield same performance as using T-SNE only, but in a fraction of time."
   ]
  },
  {
   "cell_type": "markdown",
   "metadata": {},
   "source": [
    "9. Train a Random Forest on PCA reduced and non-reduced MNIST dataset. Compare training time and test accuracy."
   ]
  },
  {
   "cell_type": "code",
   "execution_count": 53,
   "metadata": {},
   "outputs": [
    {
     "name": "stdout",
     "output_type": "stream",
     "text": [
      "time: 711 µs\n"
     ]
    }
   ],
   "source": [
    "from sklearn.datasets import fetch_openml"
   ]
  },
  {
   "cell_type": "code",
   "execution_count": 54,
   "metadata": {},
   "outputs": [
    {
     "name": "stdout",
     "output_type": "stream",
     "text": [
      "time: 17.3 s\n"
     ]
    }
   ],
   "source": [
    "X, y = fetch_openml('mnist_784', version=1, return_X_y=True)"
   ]
  },
  {
   "cell_type": "code",
   "execution_count": 91,
   "metadata": {},
   "outputs": [
    {
     "name": "stdout",
     "output_type": "stream",
     "text": [
      "time: 746 µs\n"
     ]
    }
   ],
   "source": [
    "X_train, y_train, X_test, y_test = X[:60000, :], y[:60000], X[60000:, :], y[60000:]"
   ]
  },
  {
   "cell_type": "code",
   "execution_count": 92,
   "metadata": {},
   "outputs": [
    {
     "data": {
      "text/plain": [
       "((70000, 784), (70000,), (60000, 784), (60000,), (10000, 784), (10000,))"
      ]
     },
     "execution_count": 92,
     "metadata": {},
     "output_type": "execute_result"
    },
    {
     "name": "stdout",
     "output_type": "stream",
     "text": [
      "time: 2.51 ms\n"
     ]
    }
   ],
   "source": [
    "X.shape, y.shape, X_train.shape, y_train.shape, X_test.shape, y_test.shape"
   ]
  },
  {
   "cell_type": "code",
   "execution_count": 93,
   "metadata": {},
   "outputs": [
    {
     "name": "stdout",
     "output_type": "stream",
     "text": [
      "time: 558 µs\n"
     ]
    }
   ],
   "source": [
    "from sklearn.ensemble import RandomForestClassifier"
   ]
  },
  {
   "cell_type": "markdown",
   "metadata": {},
   "source": [
    "### Random Forest without dimensionality reduction"
   ]
  },
  {
   "cell_type": "code",
   "execution_count": 94,
   "metadata": {},
   "outputs": [
    {
     "name": "stdout",
     "output_type": "stream",
     "text": [
      "time: 628 µs\n"
     ]
    }
   ],
   "source": [
    "clf_no_preprocess = RandomForestClassifier(n_estimators=10, random_state=42)"
   ]
  },
  {
   "cell_type": "code",
   "execution_count": 95,
   "metadata": {},
   "outputs": [
    {
     "data": {
      "text/plain": [
       "RandomForestClassifier(bootstrap=True, ccp_alpha=0.0, class_weight=None,\n",
       "                       criterion='gini', max_depth=None, max_features='auto',\n",
       "                       max_leaf_nodes=None, max_samples=None,\n",
       "                       min_impurity_decrease=0.0, min_impurity_split=None,\n",
       "                       min_samples_leaf=1, min_samples_split=2,\n",
       "                       min_weight_fraction_leaf=0.0, n_estimators=10,\n",
       "                       n_jobs=None, oob_score=False, random_state=42, verbose=0,\n",
       "                       warm_start=False)"
      ]
     },
     "execution_count": 95,
     "metadata": {},
     "output_type": "execute_result"
    },
    {
     "name": "stdout",
     "output_type": "stream",
     "text": [
      "time: 4.47 s\n"
     ]
    }
   ],
   "source": [
    "clf_no_preprocess.fit(X_train, y_train)"
   ]
  },
  {
   "cell_type": "markdown",
   "metadata": {},
   "source": [
    "### Random Forest with dimensionality reduction"
   ]
  },
  {
   "cell_type": "code",
   "execution_count": 96,
   "metadata": {},
   "outputs": [
    {
     "name": "stdout",
     "output_type": "stream",
     "text": [
      "time: 417 µs\n"
     ]
    }
   ],
   "source": [
    "from sklearn.decomposition import PCA"
   ]
  },
  {
   "cell_type": "code",
   "execution_count": 97,
   "metadata": {},
   "outputs": [
    {
     "name": "stdout",
     "output_type": "stream",
     "text": [
      "time: 3.39 s\n"
     ]
    }
   ],
   "source": [
    "reductor = PCA(n_components=0.95)\n",
    "X_train_reduced = reductor.fit_transform(X_train)"
   ]
  },
  {
   "cell_type": "code",
   "execution_count": 98,
   "metadata": {},
   "outputs": [
    {
     "data": {
      "text/plain": [
       "(60000, 154)"
      ]
     },
     "execution_count": 98,
     "metadata": {},
     "output_type": "execute_result"
    },
    {
     "name": "stdout",
     "output_type": "stream",
     "text": [
      "time: 2.01 ms\n"
     ]
    }
   ],
   "source": [
    "X_train_reduced.shape"
   ]
  },
  {
   "cell_type": "code",
   "execution_count": 99,
   "metadata": {},
   "outputs": [
    {
     "name": "stdout",
     "output_type": "stream",
     "text": [
      "time: 470 µs\n"
     ]
    }
   ],
   "source": [
    "clf_preprocess = RandomForestClassifier(n_estimators=10, random_state=42)"
   ]
  },
  {
   "cell_type": "code",
   "execution_count": 100,
   "metadata": {},
   "outputs": [
    {
     "data": {
      "text/plain": [
       "RandomForestClassifier(bootstrap=True, ccp_alpha=0.0, class_weight=None,\n",
       "                       criterion='gini', max_depth=None, max_features='auto',\n",
       "                       max_leaf_nodes=None, max_samples=None,\n",
       "                       min_impurity_decrease=0.0, min_impurity_split=None,\n",
       "                       min_samples_leaf=1, min_samples_split=2,\n",
       "                       min_weight_fraction_leaf=0.0, n_estimators=10,\n",
       "                       n_jobs=None, oob_score=False, random_state=42, verbose=0,\n",
       "                       warm_start=False)"
      ]
     },
     "execution_count": 100,
     "metadata": {},
     "output_type": "execute_result"
    },
    {
     "name": "stdout",
     "output_type": "stream",
     "text": [
      "time: 8.73 s\n"
     ]
    }
   ],
   "source": [
    "clf_preprocess.fit(X_train_reduced, y_train)"
   ]
  },
  {
   "cell_type": "markdown",
   "metadata": {},
   "source": [
    "### Compare the models"
   ]
  },
  {
   "cell_type": "code",
   "execution_count": 101,
   "metadata": {},
   "outputs": [
    {
     "name": "stdout",
     "output_type": "stream",
     "text": [
      "time: 103 ms\n"
     ]
    }
   ],
   "source": [
    "y_pred_preprocess = clf_preprocess.predict(reductor.transform(X_test))"
   ]
  },
  {
   "cell_type": "code",
   "execution_count": 102,
   "metadata": {},
   "outputs": [
    {
     "name": "stdout",
     "output_type": "stream",
     "text": [
      "time: 48.5 ms\n"
     ]
    }
   ],
   "source": [
    "y_pred_no_preprocess = clf_no_preprocess.predict(X_test)"
   ]
  },
  {
   "cell_type": "code",
   "execution_count": 103,
   "metadata": {},
   "outputs": [
    {
     "name": "stdout",
     "output_type": "stream",
     "text": [
      "time: 521 µs\n"
     ]
    }
   ],
   "source": [
    "from sklearn.metrics import accuracy_score"
   ]
  },
  {
   "cell_type": "code",
   "execution_count": 104,
   "metadata": {},
   "outputs": [
    {
     "data": {
      "text/plain": [
       "(0.9009, 0.9492)"
      ]
     },
     "execution_count": 104,
     "metadata": {},
     "output_type": "execute_result"
    },
    {
     "name": "stdout",
     "output_type": "stream",
     "text": [
      "time: 27.1 ms\n"
     ]
    }
   ],
   "source": [
    "accuracy_score(y_true=y_test, y_pred=y_pred_preprocess), accuracy_score(y_true=y_test, y_pred=y_pred_no_preprocess)"
   ]
  },
  {
   "cell_type": "markdown",
   "metadata": {},
   "source": [
    "Results:\n",
    "\n",
    "* PCA preprocessed model is more accurate.\n",
    "* But it's slower - why??\n",
    "\n",
    "Geron says PCA might remove some valuable information, which slows down the training. It actually seems that the projected down MNIST is not easier to fit, and does not generalize that well. With linear softmax classifier, he was able to increase the performance while reducing accuracy."
   ]
  },
  {
   "cell_type": "code",
   "execution_count": null,
   "metadata": {},
   "outputs": [],
   "source": []
  }
 ],
 "metadata": {
  "kernelspec": {
   "display_name": "Python 3",
   "language": "python",
   "name": "python3"
  },
  "language_info": {
   "codemirror_mode": {
    "name": "ipython",
    "version": 3
   },
   "file_extension": ".py",
   "mimetype": "text/x-python",
   "name": "python",
   "nbconvert_exporter": "python",
   "pygments_lexer": "ipython3",
   "version": "3.7.7"
  }
 },
 "nbformat": 4,
 "nbformat_minor": 4
}
